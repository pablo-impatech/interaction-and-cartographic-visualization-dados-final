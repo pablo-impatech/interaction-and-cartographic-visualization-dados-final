{
  "nbformat": 4,
  "nbformat_minor": 0,
  "metadata": {
    "colab": {
      "provenance": []
    },
    "kernelspec": {
      "name": "python3",
      "display_name": "Python 3"
    },
    "language_info": {
      "name": "python"
    }
  },
  "cells": [
    {
      "cell_type": "markdown",
      "source": [
        "### Considerações Iniciais"
      ],
      "metadata": {
        "id": "oUHcj276m0pX"
      }
    },
    {
      "cell_type": "markdown",
      "source": [
        "Este notebook é uma tradução do notebook [Interaction](https://jjallaire.github.io/visualization-curriculum/altair_interaction.html) do Visualization Curriculum. Devido às atualizações do Altair desde a publicação do notebook original, decidimos alterar algumas partes do texto e do código para mantê-los atualizados e coerentes com a versão atual do Altair (5.5.0)."
      ],
      "metadata": {
        "id": "rmB8qH9RnBMG"
      }
    },
    {
      "cell_type": "markdown",
      "source": [
        "# <font color=\"#747a7f\">6</font> Interação"
      ],
      "metadata": {
        "id": "-NjmRRfgRjfr"
      }
    },
    {
      "cell_type": "markdown",
      "source": [
        "<em>\"Um gráfico não é 'desenhado' de uma vez; ele é 'construído' e reconstruído até revelar todos os relacionamentos constituídos pelas relações entre os dados. As melhores operações de gráficos são aquelas feitas pelas decisões deles mesmos.\" — [Jacques Bertin](https://books.google.com/books?id=csqX_xnm4tcC)</em>\n",
        "\n",
        "A visualização oferece um poderoso método de dar sentido aos dados. Uma única imagem, entretanto, tipicamente oferece respostas para, no melhor dos casos, um punhado de perguntas. Pela *interação* nós podemos transformar imagens estáticas em ferramentas de exploração: destacando pontos de interesse, dando zoom para revelar padrões sutis, e fazer ligações entre visualizações múltiplas para pensar sobre relacionamentos multi-dimensionais.\n",
        "\n",
        "Nos fundamentos da interação está a noção de uma *seleção*: um método de indicar para o computador quais elementos ou regiões nós estamos interessados. Por exemplo, nós podemos passar o mouse sobre um ponto, clicar em várias marcas, ou desenhar um contorno ao redor de uma região para destacar subconjuntos de dados para investigações mais minuciosas.\n",
        "\n",
        "Além de codificações visuais e transformações de dados, o Altair oferece uma abstração *selection* para criar interações. Estas seleções encorporam três aspectos:\n",
        "\n",
        "1. Evento de tratamento de entrada para selecionar pontos ou regiões de interesse, assim como mouse hover, click, drag, scroll, e eventos de toque.\n",
        "2. Generalizar a partir de uma entrada para formar uma regra de seleção (ou <em>[predicado](https://en.wikipedia.org/wiki/Predicate_%28mathematical_logic%29)</em>) que determina se um dado registro está ou não na seleção.\n",
        "3. Usar o predicado de seleção para configurar dinamicamente uma visualização por meio de *codificações condicionais*, *transformações de filtro*, ou *domínios de escala*.\n",
        "\n",
        "Este notebook introduz seleções interativas e explora como usá-las para criar uma variedade de técnicas de interação, assim como consultas dinâmicas, panning & zooming, details-on-demand, e brushing & linking.\n",
        "\n",
        "Este notebook é parte do [data visualization curriculum](https://github.com/uwdata/visualization-curriculum)."
      ],
      "metadata": {
        "id": "1tUZpD0nRmlg"
      }
    },
    {
      "cell_type": "code",
      "source": [
        "import pandas as pd\n",
        "import altair as alt"
      ],
      "metadata": {
        "id": "wKl-dOVmjHTT"
      },
      "execution_count": 4,
      "outputs": []
    },
    {
      "cell_type": "markdown",
      "source": [
        "## <font color=\"#747a7f\">6.1</font> Datasets"
      ],
      "metadata": {
        "id": "5uWnewk3kFqR"
      }
    },
    {
      "cell_type": "markdown",
      "source": [
        "Nós iremos visualizar uma variedade de datasets da coleção [vega-datasets](https://github.com/vega/vega-datasets):\n",
        "\n",
        "- Um dataset de carros (`cars`) dos anos 70 e início dos anos 80,\n",
        "- Um dataset de filmes (`movies`), previamente usados no notebook [Data Transformation](https://github.com/uwdata/visualization-curriculum/blob/master/altair_data_transformation.ipynb),\n",
        "- Um dataset contendo dez anos dos preços das ações [S&P 500](https://en.wikipedia.org/wiki/S%26P_500_Index) (`sp500`),\n",
        "- Um dataset de ações (`stocks`) de empresas de tecnologia, e\n",
        "- Um dataset de voos (`flights`), incluindo tempo de embarque, distância, e atraso no desembarque."
      ],
      "metadata": {
        "id": "X829NueekO0Z"
      }
    },
    {
      "cell_type": "code",
      "source": [
        "cars = 'https://cdn.jsdelivr.net/npm/vega-datasets@1/data/cars.json'\n",
        "movies = 'https://cdn.jsdelivr.net/npm/vega-datasets@1/data/movies.json'\n",
        "sp500 = 'https://cdn.jsdelivr.net/npm/vega-datasets@1/data/sp500.csv'\n",
        "stocks = 'https://cdn.jsdelivr.net/npm/vega-datasets@1/data/stocks.csv'\n",
        "flights = 'https://cdn.jsdelivr.net/npm/vega-datasets@1/data/flights-5k.json'"
      ],
      "metadata": {
        "id": "vHYupeCemTuV"
      },
      "execution_count": 5,
      "outputs": []
    },
    {
      "cell_type": "markdown",
      "source": [
        "## <font color=\"#747a7f\">6.2</font> Introduzindo Seleções"
      ],
      "metadata": {
        "id": "_6H1mep4mYnW"
      }
    },
    {
      "cell_type": "markdown",
      "source": [
        "Vamos começar com uma seleção básica: simplesmente clicando um ponto para destacá-lo. Usando o dataset `cars`, nós iremos começar com um scatter plot de cavalos de potência versos milhas por galão, com uma codificação de cor para o número de cilíndros no motor do carro.\n",
        "\n",
        "Além disso, nós iremos criar uma instância de seleção chamando `alt.selection_point()`, indicando que nós queremos uma seleção definida sobre um único valor. Por padrão, a seleção usa um mouse click para determinar o valor selecionado. Para registrar uma seleção com o gráfico, nós devemos adicioná-lo usando o método `.add_params()`.\n",
        "\n",
        "Assim que nossa seleção é definida, nós podemos usá-la como um parâmetro para *codificações condicionais*, as quais aplicam uma codificação diferente a depender se um registro está dentro ou fora da seleção. Por exemplo, considere o seguinte código:"
      ],
      "metadata": {
        "id": "lVkuongXmgap"
      }
    },
    {
      "cell_type": "code",
      "source": [
        "color=alt.condition(selection, 'Cylinders:O', alt.value('grey'))"
      ],
      "metadata": {
        "id": "_YcHMdQ9p6ZU"
      },
      "execution_count": 6,
      "outputs": []
    },
    {
      "cell_type": "markdown",
      "source": [
        "Esta definição de codificação declara que pontos contidos na `selection` devem ser coloridos de acordo ao campo `Cylinder`, enquanto pontos não-selecionados devem usar um cinza padrão. Uma seleção vazia inclue *todos* os pontos, e então inicialmente todos os pontos irão ser coloridos.\n",
        "\n",
        "*Tente clicar em diferentes pontos do gráfico abaixo com click e shift-ckick. O que acontece? (Clique no fundo para limpar a declaração da seleção e retornar para uma seleção \"vazia\".)*"
      ],
      "metadata": {
        "id": "P_6t_2bPqKTB"
      }
    },
    {
      "cell_type": "code",
      "source": [
        "selection = alt.selection_point();\n",
        "\n",
        "alt.Chart(cars).mark_circle().add_params(\n",
        "    selection\n",
        ").encode(\n",
        "    x='Horsepower:Q',\n",
        "    y='Miles_per_Gallon:Q',\n",
        "    color=alt.condition(selection, 'Cylinders:O', alt.value('grey')),\n",
        "    opacity=alt.condition(selection, alt.value(0.8), alt.value(0.1))\n",
        ")"
      ],
      "metadata": {
        "colab": {
          "base_uri": "https://localhost:8080/",
          "height": 367
        },
        "id": "GUsgWIdQru7_",
        "outputId": "80cee6e8-9cb0-48a0-8aac-c613c22a93d5"
      },
      "execution_count": 7,
      "outputs": [
        {
          "output_type": "execute_result",
          "data": {
            "text/html": [
              "\n",
              "<style>\n",
              "  #altair-viz-146158930cda45198375c76c140aa0c2.vega-embed {\n",
              "    width: 100%;\n",
              "    display: flex;\n",
              "  }\n",
              "\n",
              "  #altair-viz-146158930cda45198375c76c140aa0c2.vega-embed details,\n",
              "  #altair-viz-146158930cda45198375c76c140aa0c2.vega-embed details summary {\n",
              "    position: relative;\n",
              "  }\n",
              "</style>\n",
              "<div id=\"altair-viz-146158930cda45198375c76c140aa0c2\"></div>\n",
              "<script type=\"text/javascript\">\n",
              "  var VEGA_DEBUG = (typeof VEGA_DEBUG == \"undefined\") ? {} : VEGA_DEBUG;\n",
              "  (function(spec, embedOpt){\n",
              "    let outputDiv = document.currentScript.previousElementSibling;\n",
              "    if (outputDiv.id !== \"altair-viz-146158930cda45198375c76c140aa0c2\") {\n",
              "      outputDiv = document.getElementById(\"altair-viz-146158930cda45198375c76c140aa0c2\");\n",
              "    }\n",
              "\n",
              "    const paths = {\n",
              "      \"vega\": \"https://cdn.jsdelivr.net/npm/vega@5?noext\",\n",
              "      \"vega-lib\": \"https://cdn.jsdelivr.net/npm/vega-lib?noext\",\n",
              "      \"vega-lite\": \"https://cdn.jsdelivr.net/npm/vega-lite@5.20.1?noext\",\n",
              "      \"vega-embed\": \"https://cdn.jsdelivr.net/npm/vega-embed@6?noext\",\n",
              "    };\n",
              "\n",
              "    function maybeLoadScript(lib, version) {\n",
              "      var key = `${lib.replace(\"-\", \"\")}_version`;\n",
              "      return (VEGA_DEBUG[key] == version) ?\n",
              "        Promise.resolve(paths[lib]) :\n",
              "        new Promise(function(resolve, reject) {\n",
              "          var s = document.createElement('script');\n",
              "          document.getElementsByTagName(\"head\")[0].appendChild(s);\n",
              "          s.async = true;\n",
              "          s.onload = () => {\n",
              "            VEGA_DEBUG[key] = version;\n",
              "            return resolve(paths[lib]);\n",
              "          };\n",
              "          s.onerror = () => reject(`Error loading script: ${paths[lib]}`);\n",
              "          s.src = paths[lib];\n",
              "        });\n",
              "    }\n",
              "\n",
              "    function showError(err) {\n",
              "      outputDiv.innerHTML = `<div class=\"error\" style=\"color:red;\">${err}</div>`;\n",
              "      throw err;\n",
              "    }\n",
              "\n",
              "    function displayChart(vegaEmbed) {\n",
              "      vegaEmbed(outputDiv, spec, embedOpt)\n",
              "        .catch(err => showError(`Javascript Error: ${err.message}<br>This usually means there's a typo in your chart specification. See the javascript console for the full traceback.`));\n",
              "    }\n",
              "\n",
              "    if(typeof define === \"function\" && define.amd) {\n",
              "      requirejs.config({paths});\n",
              "      let deps = [\"vega-embed\"];\n",
              "      require(deps, displayChart, err => showError(`Error loading script: ${err.message}`));\n",
              "    } else {\n",
              "      maybeLoadScript(\"vega\", \"5\")\n",
              "        .then(() => maybeLoadScript(\"vega-lite\", \"5.20.1\"))\n",
              "        .then(() => maybeLoadScript(\"vega-embed\", \"6\"))\n",
              "        .catch(showError)\n",
              "        .then(() => displayChart(vegaEmbed));\n",
              "    }\n",
              "  })({\"config\": {\"view\": {\"continuousWidth\": 300, \"continuousHeight\": 300}}, \"data\": {\"url\": \"https://cdn.jsdelivr.net/npm/vega-datasets@1/data/cars.json\"}, \"mark\": {\"type\": \"circle\"}, \"encoding\": {\"color\": {\"condition\": {\"param\": \"param_1\", \"field\": \"Cylinders\", \"type\": \"ordinal\"}, \"value\": \"grey\"}, \"opacity\": {\"condition\": {\"param\": \"param_1\", \"value\": 0.8}, \"value\": 0.1}, \"x\": {\"field\": \"Horsepower\", \"type\": \"quantitative\"}, \"y\": {\"field\": \"Miles_per_Gallon\", \"type\": \"quantitative\"}}, \"params\": [{\"name\": \"param_1\", \"select\": {\"type\": \"point\"}}], \"$schema\": \"https://vega.github.io/schema/vega-lite/v5.20.1.json\"}, {\"mode\": \"vega-lite\"});\n",
              "</script>"
            ],
            "text/plain": [
              "alt.Chart(...)"
            ]
          },
          "metadata": {},
          "execution_count": 7
        }
      ]
    },
    {
      "cell_type": "markdown",
      "source": [
        "Como nós iremos ver, seleções de pontos oferecem úteis blocos de construção para interações mais poderosas. Ademais, seleções de pontos são somente um dos dois tipos de seleção oferecidos pelo Altair:\n",
        "\n",
        "- `selection_point` - seleciona múltiplos valores discretos. O primeiro valor é selecionado no mouse click e valores adicionais alternados usando shift-click.\n",
        "- `selection_interval` - seleciona um intervalo contínuo de valores, iniciado por mouse drag.\n",
        "\n",
        "Vamos comparar cada um destes tipos de seleção lado a lado. Para manter nosso código organizado nós iremos definir uma função (`plot`) que gera uma especificação de scatter plot exatamente como a função abaixo. Nós podemos passar uma seleção para a função `plot` para tê-la aplicada ao gráfico:"
      ],
      "metadata": {
        "id": "z2_v03yIr9WT"
      }
    },
    {
      "cell_type": "code",
      "source": [
        "def plot(selection):\n",
        "    return alt.Chart(cars).mark_circle().add_params(\n",
        "        selection\n",
        "    ).encode(\n",
        "        x='Horsepower:Q',\n",
        "        y='Miles_per_Gallon:Q',\n",
        "        color=alt.condition(selection, 'Cylinders:O', alt.value('grey')),\n",
        "        opacity=alt.condition(selection, alt.value(0.8), alt.value(0.1))\n",
        "    ).properties(\n",
        "        width=240,\n",
        "        height=180\n",
        "    )"
      ],
      "metadata": {
        "id": "OWKNh4-xv9ea"
      },
      "execution_count": 8,
      "outputs": []
    },
    {
      "cell_type": "markdown",
      "source": [
        "Vamos usar nossa função `plot` para criar duas variantes de gráficos, um para cada tipo de seleção.\n",
        "\n",
        "O primeiro gráfico (`point`) replica nosso exemplo anterior, suportando interações shift-click para alternar inclusões de múltiplos pontos na seleção. O segundo gráfico (`interval`) gera uma região de seleção (ou *brush*) no mouse drag. Uma vez criada, você pode arrastar o brush ao redor para selecionar diferentes pontos, ou rolar o scroll quando o cursor está dentro do brush para mudar o tamanho do brush (zoom).\n",
        "\n",
        "*Tente interagir com cada um dos gráficos abaixo!*"
      ],
      "metadata": {
        "id": "PPzEUajmwCB7"
      }
    },
    {
      "cell_type": "code",
      "source": [
        "alt.hconcat(\n",
        "  plot(alt.selection_point()).properties(title='Point (Click e Shift-Click)'),\n",
        "  plot(alt.selection_interval()).properties(title='Interval (Drag)')\n",
        ")"
      ],
      "metadata": {
        "colab": {
          "base_uri": "https://localhost:8080/",
          "height": 266
        },
        "id": "bk5sDkzA1BO1",
        "outputId": "22559304-af8a-4f84-decf-68417060c125"
      },
      "execution_count": 9,
      "outputs": [
        {
          "output_type": "execute_result",
          "data": {
            "text/html": [
              "\n",
              "<style>\n",
              "  #altair-viz-44ba5fd186f14f37a196350b144a139f.vega-embed {\n",
              "    width: 100%;\n",
              "    display: flex;\n",
              "  }\n",
              "\n",
              "  #altair-viz-44ba5fd186f14f37a196350b144a139f.vega-embed details,\n",
              "  #altair-viz-44ba5fd186f14f37a196350b144a139f.vega-embed details summary {\n",
              "    position: relative;\n",
              "  }\n",
              "</style>\n",
              "<div id=\"altair-viz-44ba5fd186f14f37a196350b144a139f\"></div>\n",
              "<script type=\"text/javascript\">\n",
              "  var VEGA_DEBUG = (typeof VEGA_DEBUG == \"undefined\") ? {} : VEGA_DEBUG;\n",
              "  (function(spec, embedOpt){\n",
              "    let outputDiv = document.currentScript.previousElementSibling;\n",
              "    if (outputDiv.id !== \"altair-viz-44ba5fd186f14f37a196350b144a139f\") {\n",
              "      outputDiv = document.getElementById(\"altair-viz-44ba5fd186f14f37a196350b144a139f\");\n",
              "    }\n",
              "\n",
              "    const paths = {\n",
              "      \"vega\": \"https://cdn.jsdelivr.net/npm/vega@5?noext\",\n",
              "      \"vega-lib\": \"https://cdn.jsdelivr.net/npm/vega-lib?noext\",\n",
              "      \"vega-lite\": \"https://cdn.jsdelivr.net/npm/vega-lite@5.20.1?noext\",\n",
              "      \"vega-embed\": \"https://cdn.jsdelivr.net/npm/vega-embed@6?noext\",\n",
              "    };\n",
              "\n",
              "    function maybeLoadScript(lib, version) {\n",
              "      var key = `${lib.replace(\"-\", \"\")}_version`;\n",
              "      return (VEGA_DEBUG[key] == version) ?\n",
              "        Promise.resolve(paths[lib]) :\n",
              "        new Promise(function(resolve, reject) {\n",
              "          var s = document.createElement('script');\n",
              "          document.getElementsByTagName(\"head\")[0].appendChild(s);\n",
              "          s.async = true;\n",
              "          s.onload = () => {\n",
              "            VEGA_DEBUG[key] = version;\n",
              "            return resolve(paths[lib]);\n",
              "          };\n",
              "          s.onerror = () => reject(`Error loading script: ${paths[lib]}`);\n",
              "          s.src = paths[lib];\n",
              "        });\n",
              "    }\n",
              "\n",
              "    function showError(err) {\n",
              "      outputDiv.innerHTML = `<div class=\"error\" style=\"color:red;\">${err}</div>`;\n",
              "      throw err;\n",
              "    }\n",
              "\n",
              "    function displayChart(vegaEmbed) {\n",
              "      vegaEmbed(outputDiv, spec, embedOpt)\n",
              "        .catch(err => showError(`Javascript Error: ${err.message}<br>This usually means there's a typo in your chart specification. See the javascript console for the full traceback.`));\n",
              "    }\n",
              "\n",
              "    if(typeof define === \"function\" && define.amd) {\n",
              "      requirejs.config({paths});\n",
              "      let deps = [\"vega-embed\"];\n",
              "      require(deps, displayChart, err => showError(`Error loading script: ${err.message}`));\n",
              "    } else {\n",
              "      maybeLoadScript(\"vega\", \"5\")\n",
              "        .then(() => maybeLoadScript(\"vega-lite\", \"5.20.1\"))\n",
              "        .then(() => maybeLoadScript(\"vega-embed\", \"6\"))\n",
              "        .catch(showError)\n",
              "        .then(() => displayChart(vegaEmbed));\n",
              "    }\n",
              "  })({\"config\": {\"view\": {\"continuousWidth\": 300, \"continuousHeight\": 300}}, \"hconcat\": [{\"mark\": {\"type\": \"circle\"}, \"encoding\": {\"color\": {\"condition\": {\"param\": \"param_2\", \"field\": \"Cylinders\", \"type\": \"ordinal\"}, \"value\": \"grey\"}, \"opacity\": {\"condition\": {\"param\": \"param_2\", \"value\": 0.8}, \"value\": 0.1}, \"x\": {\"field\": \"Horsepower\", \"type\": \"quantitative\"}, \"y\": {\"field\": \"Miles_per_Gallon\", \"type\": \"quantitative\"}}, \"height\": 180, \"name\": \"view_1\", \"title\": \"Point (Click e Shift-Click)\", \"width\": 240}, {\"mark\": {\"type\": \"circle\"}, \"encoding\": {\"color\": {\"condition\": {\"param\": \"param_3\", \"field\": \"Cylinders\", \"type\": \"ordinal\"}, \"value\": \"grey\"}, \"opacity\": {\"condition\": {\"param\": \"param_3\", \"value\": 0.8}, \"value\": 0.1}, \"x\": {\"field\": \"Horsepower\", \"type\": \"quantitative\"}, \"y\": {\"field\": \"Miles_per_Gallon\", \"type\": \"quantitative\"}}, \"height\": 180, \"name\": \"view_2\", \"title\": \"Interval (Drag)\", \"width\": 240}], \"data\": {\"url\": \"https://cdn.jsdelivr.net/npm/vega-datasets@1/data/cars.json\"}, \"params\": [{\"name\": \"param_2\", \"select\": {\"type\": \"point\"}, \"views\": [\"view_1\"]}, {\"name\": \"param_3\", \"select\": {\"type\": \"interval\"}, \"views\": [\"view_2\"]}], \"$schema\": \"https://vega.github.io/schema/vega-lite/v5.20.1.json\"}, {\"mode\": \"vega-lite\"});\n",
              "</script>"
            ],
            "text/plain": [
              "alt.HConcatChart(...)"
            ]
          },
          "metadata": {},
          "execution_count": 9
        }
      ]
    },
    {
      "cell_type": "markdown",
      "source": [
        "O exemplo abaixo usa interações padrões (click, shift-click, drag). Nós podemos personalizar mais as interações oferecendo especificações de eventos de entrada usando a [sintáxe do seletor de eventos do Vega](https://vega.github.io/vega/docs/event-streams/). Por exemplo, nós podemos modificar nosso gráfico `point` para agir nos eventos `mouseover` ao invés de eventos `click`.\n",
        "\n",
        "*Segure a tecla shift no gráfico para \"pintar\" com dados!*"
      ],
      "metadata": {
        "id": "VsCf3UWj1rkM"
      }
    },
    {
      "cell_type": "code",
      "source": [
        "alt.hconcat(\n",
        "  plot(alt.selection_point(on='mouseover')).properties(title='Point (Mouseover e Shift-Mouseover)'),\n",
        ")"
      ],
      "metadata": {
        "colab": {
          "base_uri": "https://localhost:8080/",
          "height": 266
        },
        "id": "C0Ckf4iE3UNM",
        "outputId": "4092ca75-ceed-4ade-c801-93144a33fbfb"
      },
      "execution_count": 10,
      "outputs": [
        {
          "output_type": "execute_result",
          "data": {
            "text/html": [
              "\n",
              "<style>\n",
              "  #altair-viz-e55c1dde155042cda060e0c47fe2aa47.vega-embed {\n",
              "    width: 100%;\n",
              "    display: flex;\n",
              "  }\n",
              "\n",
              "  #altair-viz-e55c1dde155042cda060e0c47fe2aa47.vega-embed details,\n",
              "  #altair-viz-e55c1dde155042cda060e0c47fe2aa47.vega-embed details summary {\n",
              "    position: relative;\n",
              "  }\n",
              "</style>\n",
              "<div id=\"altair-viz-e55c1dde155042cda060e0c47fe2aa47\"></div>\n",
              "<script type=\"text/javascript\">\n",
              "  var VEGA_DEBUG = (typeof VEGA_DEBUG == \"undefined\") ? {} : VEGA_DEBUG;\n",
              "  (function(spec, embedOpt){\n",
              "    let outputDiv = document.currentScript.previousElementSibling;\n",
              "    if (outputDiv.id !== \"altair-viz-e55c1dde155042cda060e0c47fe2aa47\") {\n",
              "      outputDiv = document.getElementById(\"altair-viz-e55c1dde155042cda060e0c47fe2aa47\");\n",
              "    }\n",
              "\n",
              "    const paths = {\n",
              "      \"vega\": \"https://cdn.jsdelivr.net/npm/vega@5?noext\",\n",
              "      \"vega-lib\": \"https://cdn.jsdelivr.net/npm/vega-lib?noext\",\n",
              "      \"vega-lite\": \"https://cdn.jsdelivr.net/npm/vega-lite@5.20.1?noext\",\n",
              "      \"vega-embed\": \"https://cdn.jsdelivr.net/npm/vega-embed@6?noext\",\n",
              "    };\n",
              "\n",
              "    function maybeLoadScript(lib, version) {\n",
              "      var key = `${lib.replace(\"-\", \"\")}_version`;\n",
              "      return (VEGA_DEBUG[key] == version) ?\n",
              "        Promise.resolve(paths[lib]) :\n",
              "        new Promise(function(resolve, reject) {\n",
              "          var s = document.createElement('script');\n",
              "          document.getElementsByTagName(\"head\")[0].appendChild(s);\n",
              "          s.async = true;\n",
              "          s.onload = () => {\n",
              "            VEGA_DEBUG[key] = version;\n",
              "            return resolve(paths[lib]);\n",
              "          };\n",
              "          s.onerror = () => reject(`Error loading script: ${paths[lib]}`);\n",
              "          s.src = paths[lib];\n",
              "        });\n",
              "    }\n",
              "\n",
              "    function showError(err) {\n",
              "      outputDiv.innerHTML = `<div class=\"error\" style=\"color:red;\">${err}</div>`;\n",
              "      throw err;\n",
              "    }\n",
              "\n",
              "    function displayChart(vegaEmbed) {\n",
              "      vegaEmbed(outputDiv, spec, embedOpt)\n",
              "        .catch(err => showError(`Javascript Error: ${err.message}<br>This usually means there's a typo in your chart specification. See the javascript console for the full traceback.`));\n",
              "    }\n",
              "\n",
              "    if(typeof define === \"function\" && define.amd) {\n",
              "      requirejs.config({paths});\n",
              "      let deps = [\"vega-embed\"];\n",
              "      require(deps, displayChart, err => showError(`Error loading script: ${err.message}`));\n",
              "    } else {\n",
              "      maybeLoadScript(\"vega\", \"5\")\n",
              "        .then(() => maybeLoadScript(\"vega-lite\", \"5.20.1\"))\n",
              "        .then(() => maybeLoadScript(\"vega-embed\", \"6\"))\n",
              "        .catch(showError)\n",
              "        .then(() => displayChart(vegaEmbed));\n",
              "    }\n",
              "  })({\"config\": {\"view\": {\"continuousWidth\": 300, \"continuousHeight\": 300}}, \"hconcat\": [{\"mark\": {\"type\": \"circle\"}, \"encoding\": {\"color\": {\"condition\": {\"param\": \"param_4\", \"field\": \"Cylinders\", \"type\": \"ordinal\"}, \"value\": \"grey\"}, \"opacity\": {\"condition\": {\"param\": \"param_4\", \"value\": 0.8}, \"value\": 0.1}, \"x\": {\"field\": \"Horsepower\", \"type\": \"quantitative\"}, \"y\": {\"field\": \"Miles_per_Gallon\", \"type\": \"quantitative\"}}, \"height\": 180, \"name\": \"view_3\", \"title\": \"Point (Mouseover e Shift-Mouseover)\", \"width\": 240}], \"data\": {\"url\": \"https://cdn.jsdelivr.net/npm/vega-datasets@1/data/cars.json\"}, \"params\": [{\"name\": \"param_4\", \"select\": {\"type\": \"point\", \"on\": \"mouseover\"}, \"views\": [\"view_3\"]}], \"$schema\": \"https://vega.github.io/schema/vega-lite/v5.20.1.json\"}, {\"mode\": \"vega-lite\"});\n",
              "</script>"
            ],
            "text/plain": [
              "alt.HConcatChart(...)"
            ]
          },
          "metadata": {},
          "execution_count": 10
        }
      ]
    },
    {
      "cell_type": "markdown",
      "source": [
        "Agora que nós cobrimos o básico de seleções do Altair, vamos fazer um tour pelas várias técnicas de interação que ele permite!"
      ],
      "metadata": {
        "id": "-yLKMr-_3ZVp"
      }
    },
    {
      "cell_type": "markdown",
      "metadata": {
        "id": "aXRZJTvqsiKy"
      },
      "source": [
        "## <font color=\"#747a7f\">6.3</font> Consultas Dinâmicas"
      ]
    },
    {
      "cell_type": "markdown",
      "metadata": {
        "id": "GhbUoPuFsiKz"
      },
      "source": [
        "*Consultas dinâmicas* permitem uma exploração rápida e reversível dos dados para isolar padrões de interesse. Conforme definido por [Ahlberg, Williamson e Shneiderman](https://www.cs.umd.edu/~ben/papers/Ahlberg1992Dynamic.pdf), uma consulta dinâmica:\n",
        "\n",
        "- representa uma consulta graficamente,\n",
        "- oferece limites visíveis no intervalo da consulta,\n",
        "- oferece uma representação gráfica dos dados e do resultado da consulta,\n",
        "- fornece feedback imediato do resultado após cada ajuste da consulta,\n",
        "- e permite que usuários iniciantes comecem a trabalhar com pouco treinamento.\n",
        "\n",
        "Uma abordagem comum é modificar os parâmetros da consulta usando widgets de interface do usuário padrões, como controles deslizantes, botões do tipo radio e menus drop-down. Para gerar widgets de consulta dinâmica, nós podemos aplicar uma operação `bind` da seleção a um ou mais campos que desejamos fazer uma consulta.\n",
        "\n",
        "Vamos construir um scatter plot interativo que usa uma consulta dinâmica para filtrar a exibição. Dado um scatter plot de classificações de filmes (do Rotten Tomatoes e IMDB), nós podemos adicionar uma seleção sobre o campo `Major_Genre` para permitir uma filtragem interativa por gênero do filme.\n",
        "\n",
        "Para começar, vamos extrair os gêneros únicos (não nulos) dos dados em `movies`:"
      ]
    },
    {
      "cell_type": "code",
      "execution_count": 11,
      "metadata": {
        "id": "wUoBg2DnsiK0"
      },
      "outputs": [],
      "source": [
        "df = pd.read_json(movies) # Carrega os dados dos filmes\n",
        "genres = df['Major_Genre'].unique() # retorna valores de campos únicos\n",
        "genres = list(filter(lambda d: d is not None, genres)) # filtra valores Nulos (None)\n",
        "genres.sort() # ordena alfabeticamente"
      ]
    },
    {
      "cell_type": "markdown",
      "metadata": {
        "id": "6Sf1X-DjsiK0"
      },
      "source": [
        "Para uso posterior, vamos também definir uma lista de valores únicos de `MPAA_Rating`:"
      ]
    },
    {
      "cell_type": "code",
      "execution_count": 12,
      "metadata": {
        "id": "GJfwIDwjsiK0"
      },
      "outputs": [],
      "source": [
        "mpaa = ['G', 'PG', 'PG-13', 'R', 'NC-17', 'Not Rated']"
      ]
    },
    {
      "cell_type": "markdown",
      "metadata": {
        "id": "NA8GNGkNsiK1"
      },
      "source": [
        "Agora vamos criar um limite de seleção `point` para um menu drop-down.\n",
        "\n",
        "*Use o menu de consulta dinâmica abaixo para explorar os dados. Como as avaliações variam por gênero? Como você modificaria o código para filtrar por `MPAA_Rating` (G, PG, PG-13, etc.) ao invés de `Major_Genre`?*"
      ]
    },
    {
      "cell_type": "code",
      "execution_count": 13,
      "metadata": {
        "colab": {
          "base_uri": "https://localhost:8080/",
          "height": 388
        },
        "id": "Nka5mzZysiK1",
        "outputId": "a6fec669-4260-4d7b-ff74-4c5eac15dc16"
      },
      "outputs": [
        {
          "output_type": "execute_result",
          "data": {
            "text/html": [
              "\n",
              "<style>\n",
              "  #altair-viz-e9c9460bee954df280c2cc7a25275300.vega-embed {\n",
              "    width: 100%;\n",
              "    display: flex;\n",
              "  }\n",
              "\n",
              "  #altair-viz-e9c9460bee954df280c2cc7a25275300.vega-embed details,\n",
              "  #altair-viz-e9c9460bee954df280c2cc7a25275300.vega-embed details summary {\n",
              "    position: relative;\n",
              "  }\n",
              "</style>\n",
              "<div id=\"altair-viz-e9c9460bee954df280c2cc7a25275300\"></div>\n",
              "<script type=\"text/javascript\">\n",
              "  var VEGA_DEBUG = (typeof VEGA_DEBUG == \"undefined\") ? {} : VEGA_DEBUG;\n",
              "  (function(spec, embedOpt){\n",
              "    let outputDiv = document.currentScript.previousElementSibling;\n",
              "    if (outputDiv.id !== \"altair-viz-e9c9460bee954df280c2cc7a25275300\") {\n",
              "      outputDiv = document.getElementById(\"altair-viz-e9c9460bee954df280c2cc7a25275300\");\n",
              "    }\n",
              "\n",
              "    const paths = {\n",
              "      \"vega\": \"https://cdn.jsdelivr.net/npm/vega@5?noext\",\n",
              "      \"vega-lib\": \"https://cdn.jsdelivr.net/npm/vega-lib?noext\",\n",
              "      \"vega-lite\": \"https://cdn.jsdelivr.net/npm/vega-lite@5.20.1?noext\",\n",
              "      \"vega-embed\": \"https://cdn.jsdelivr.net/npm/vega-embed@6?noext\",\n",
              "    };\n",
              "\n",
              "    function maybeLoadScript(lib, version) {\n",
              "      var key = `${lib.replace(\"-\", \"\")}_version`;\n",
              "      return (VEGA_DEBUG[key] == version) ?\n",
              "        Promise.resolve(paths[lib]) :\n",
              "        new Promise(function(resolve, reject) {\n",
              "          var s = document.createElement('script');\n",
              "          document.getElementsByTagName(\"head\")[0].appendChild(s);\n",
              "          s.async = true;\n",
              "          s.onload = () => {\n",
              "            VEGA_DEBUG[key] = version;\n",
              "            return resolve(paths[lib]);\n",
              "          };\n",
              "          s.onerror = () => reject(`Error loading script: ${paths[lib]}`);\n",
              "          s.src = paths[lib];\n",
              "        });\n",
              "    }\n",
              "\n",
              "    function showError(err) {\n",
              "      outputDiv.innerHTML = `<div class=\"error\" style=\"color:red;\">${err}</div>`;\n",
              "      throw err;\n",
              "    }\n",
              "\n",
              "    function displayChart(vegaEmbed) {\n",
              "      vegaEmbed(outputDiv, spec, embedOpt)\n",
              "        .catch(err => showError(`Javascript Error: ${err.message}<br>This usually means there's a typo in your chart specification. See the javascript console for the full traceback.`));\n",
              "    }\n",
              "\n",
              "    if(typeof define === \"function\" && define.amd) {\n",
              "      requirejs.config({paths});\n",
              "      let deps = [\"vega-embed\"];\n",
              "      require(deps, displayChart, err => showError(`Error loading script: ${err.message}`));\n",
              "    } else {\n",
              "      maybeLoadScript(\"vega\", \"5\")\n",
              "        .then(() => maybeLoadScript(\"vega-lite\", \"5.20.1\"))\n",
              "        .then(() => maybeLoadScript(\"vega-embed\", \"6\"))\n",
              "        .catch(showError)\n",
              "        .then(() => displayChart(vegaEmbed));\n",
              "    }\n",
              "  })({\"config\": {\"view\": {\"continuousWidth\": 300, \"continuousHeight\": 300}}, \"data\": {\"url\": \"https://cdn.jsdelivr.net/npm/vega-datasets@1/data/movies.json\"}, \"mark\": {\"type\": \"circle\"}, \"encoding\": {\"opacity\": {\"condition\": {\"param\": \"Select\", \"value\": 0.75}, \"value\": 0.05}, \"tooltip\": {\"field\": \"Title\", \"type\": \"nominal\"}, \"x\": {\"field\": \"Rotten_Tomatoes_Rating\", \"type\": \"quantitative\"}, \"y\": {\"field\": \"IMDB_Rating\", \"type\": \"quantitative\"}}, \"params\": [{\"name\": \"Select\", \"select\": {\"type\": \"point\", \"fields\": [\"Major_Genre\"]}, \"bind\": {\"input\": \"select\", \"options\": [\"Action\", \"Adventure\", \"Black Comedy\", \"Comedy\", \"Concert/Performance\", \"Documentary\", \"Drama\", \"Horror\", \"Musical\", \"Romantic Comedy\", \"Thriller/Suspense\", \"Western\"]}, \"value\": \"Action\"}], \"$schema\": \"https://vega.github.io/schema/vega-lite/v5.20.1.json\"}, {\"mode\": \"vega-lite\"});\n",
              "</script>"
            ],
            "text/plain": [
              "alt.Chart(...)"
            ]
          },
          "metadata": {},
          "execution_count": 13
        }
      ],
      "source": [
        "selectGenre = alt.selection_point(\n",
        "    name='Select', # nomeia a seleção como 'Select'\n",
        "    fields=['Major_Genre'], # limita a seleção ao campo Major_Genre\n",
        "    value=genres[0], # usa a primeira entrada de gênero como valor inicial\n",
        "    bind=alt.binding_select(options=genres) # vincula a um menu de valores únicos de gênero\n",
        ")\n",
        "\n",
        "alt.Chart(movies).mark_circle().add_params(\n",
        "    selectGenre\n",
        ").encode(\n",
        "    x='Rotten_Tomatoes_Rating:Q',\n",
        "    y='IMDB_Rating:Q',\n",
        "    tooltip='Title:N',\n",
        "    opacity=alt.condition(selectGenre, alt.value(0.75), alt.value(0.05))\n",
        ")"
      ]
    },
    {
      "cell_type": "markdown",
      "metadata": {
        "id": "4n6Nqdc-siK2"
      },
      "source": [
        "Nossa construção acima aproveita vários aspectos das seleções:\n",
        "\n",
        "- Nós demos à seleção um nome (`'Select'`). Este nome não é obrigatório, mas nos permite influenciar o texto no rótulo do menu de consulta dinâmica gerado. (*O que acontece se você remover o nome? Teste!*)\n",
        "- Nós restringimos a seleção a um campo específico (`Major_Genre`). Anteriormente, quando nós usamos uma seleção `point`, a seleção mapeou pontos individuais. Ao limitar a seleção a um campo específico, nós podemos selecionar *todos* os pontos cujo valor no campo `Major_Genre` corresponda ao valor selecionado.\n",
        "- Nós inicializamos a seleção com um valor inicial usando `value=....`\n",
        "- Nós vinculamos a seleção, com o `bind`, a um widget de interface, neste caso um menu drop-down usando o `binding_select`.\n",
        "- Como antes, nós usamos ainda uma codificação condicional para controlar o canal de opacidade."
      ]
    },
    {
      "cell_type": "markdown",
      "metadata": {
        "id": "x11NCggqsiK3"
      },
      "source": [
        "### <font color=\"#747a7f\">6.3.1</font> Vinculando Seleções a Múltiplas Entradas"
      ]
    },
    {
      "cell_type": "markdown",
      "metadata": {
        "id": "lZBFdpcmsiK3"
      },
      "source": [
        "Uma única instância de seleção pode ser limite para *múltiplos* widgets de consulta dinâmica. Vamos modificar o exemplo acima para oferecer filtros para ambos, `Major_Genre` e `MPAA_Rating`, usando botões do tipo radio ao invés de um menu. Nossa seleção `point` agora é definida por um único *par* de valores de gênero e classificação MPAA.\n",
        "\n",
        "*Procure combinações inesperadas de gênero e classificação. Há algum filme de terror classificado como G ou PG?*"
      ]
    },
    {
      "cell_type": "code",
      "execution_count": 14,
      "metadata": {
        "colab": {
          "base_uri": "https://localhost:8080/",
          "height": 406
        },
        "id": "CzgJdBlWsiK3",
        "outputId": "fb2592d7-dc1f-4902-89d7-b8143fb7efb9"
      },
      "outputs": [
        {
          "output_type": "execute_result",
          "data": {
            "text/html": [
              "\n",
              "<style>\n",
              "  #altair-viz-2af94793cd094404abd6dcea49072272.vega-embed {\n",
              "    width: 100%;\n",
              "    display: flex;\n",
              "  }\n",
              "\n",
              "  #altair-viz-2af94793cd094404abd6dcea49072272.vega-embed details,\n",
              "  #altair-viz-2af94793cd094404abd6dcea49072272.vega-embed details summary {\n",
              "    position: relative;\n",
              "  }\n",
              "</style>\n",
              "<div id=\"altair-viz-2af94793cd094404abd6dcea49072272\"></div>\n",
              "<script type=\"text/javascript\">\n",
              "  var VEGA_DEBUG = (typeof VEGA_DEBUG == \"undefined\") ? {} : VEGA_DEBUG;\n",
              "  (function(spec, embedOpt){\n",
              "    let outputDiv = document.currentScript.previousElementSibling;\n",
              "    if (outputDiv.id !== \"altair-viz-2af94793cd094404abd6dcea49072272\") {\n",
              "      outputDiv = document.getElementById(\"altair-viz-2af94793cd094404abd6dcea49072272\");\n",
              "    }\n",
              "\n",
              "    const paths = {\n",
              "      \"vega\": \"https://cdn.jsdelivr.net/npm/vega@5?noext\",\n",
              "      \"vega-lib\": \"https://cdn.jsdelivr.net/npm/vega-lib?noext\",\n",
              "      \"vega-lite\": \"https://cdn.jsdelivr.net/npm/vega-lite@5.20.1?noext\",\n",
              "      \"vega-embed\": \"https://cdn.jsdelivr.net/npm/vega-embed@6?noext\",\n",
              "    };\n",
              "\n",
              "    function maybeLoadScript(lib, version) {\n",
              "      var key = `${lib.replace(\"-\", \"\")}_version`;\n",
              "      return (VEGA_DEBUG[key] == version) ?\n",
              "        Promise.resolve(paths[lib]) :\n",
              "        new Promise(function(resolve, reject) {\n",
              "          var s = document.createElement('script');\n",
              "          document.getElementsByTagName(\"head\")[0].appendChild(s);\n",
              "          s.async = true;\n",
              "          s.onload = () => {\n",
              "            VEGA_DEBUG[key] = version;\n",
              "            return resolve(paths[lib]);\n",
              "          };\n",
              "          s.onerror = () => reject(`Error loading script: ${paths[lib]}`);\n",
              "          s.src = paths[lib];\n",
              "        });\n",
              "    }\n",
              "\n",
              "    function showError(err) {\n",
              "      outputDiv.innerHTML = `<div class=\"error\" style=\"color:red;\">${err}</div>`;\n",
              "      throw err;\n",
              "    }\n",
              "\n",
              "    function displayChart(vegaEmbed) {\n",
              "      vegaEmbed(outputDiv, spec, embedOpt)\n",
              "        .catch(err => showError(`Javascript Error: ${err.message}<br>This usually means there's a typo in your chart specification. See the javascript console for the full traceback.`));\n",
              "    }\n",
              "\n",
              "    if(typeof define === \"function\" && define.amd) {\n",
              "      requirejs.config({paths});\n",
              "      let deps = [\"vega-embed\"];\n",
              "      require(deps, displayChart, err => showError(`Error loading script: ${err.message}`));\n",
              "    } else {\n",
              "      maybeLoadScript(\"vega\", \"5\")\n",
              "        .then(() => maybeLoadScript(\"vega-lite\", \"5.20.1\"))\n",
              "        .then(() => maybeLoadScript(\"vega-embed\", \"6\"))\n",
              "        .catch(showError)\n",
              "        .then(() => displayChart(vegaEmbed));\n",
              "    }\n",
              "  })({\"config\": {\"view\": {\"continuousWidth\": 300, \"continuousHeight\": 300}}, \"data\": {\"url\": \"https://cdn.jsdelivr.net/npm/vega-datasets@1/data/movies.json\"}, \"mark\": {\"type\": \"circle\"}, \"encoding\": {\"opacity\": {\"condition\": {\"param\": \"Select\", \"value\": 0.75}, \"value\": 0.05}, \"tooltip\": {\"field\": \"Title\", \"type\": \"nominal\"}, \"x\": {\"field\": \"Rotten_Tomatoes_Rating\", \"type\": \"quantitative\"}, \"y\": {\"field\": \"IMDB_Rating\", \"type\": \"quantitative\"}}, \"params\": [{\"name\": \"Select\", \"select\": {\"type\": \"point\", \"fields\": [\"Major_Genre\", \"MPAA_Rating\"]}, \"bind\": {\"Major_Genre\": {\"input\": \"select\", \"options\": [\"Action\", \"Adventure\", \"Black Comedy\", \"Comedy\", \"Concert/Performance\", \"Documentary\", \"Drama\", \"Horror\", \"Musical\", \"Romantic Comedy\", \"Thriller/Suspense\", \"Western\"]}, \"MPAA_Rating\": {\"input\": \"radio\", \"options\": [\"G\", \"PG\", \"PG-13\", \"R\", \"NC-17\", \"Not Rated\"]}}, \"value\": [{\"Major_Genre\": \"Drama\", \"MPAA_Rating\": \"R\"}]}], \"$schema\": \"https://vega.github.io/schema/vega-lite/v5.20.1.json\"}, {\"mode\": \"vega-lite\"});\n",
              "</script>"
            ],
            "text/plain": [
              "alt.Chart(...)"
            ]
          },
          "metadata": {},
          "execution_count": 14
        }
      ],
      "source": [
        "# seleção de valor único sobre pares [Major_Genre, MPAA_Rating]\n",
        "# usa valores específicos predefinidos como os valores iniciais selecionados\n",
        "selection = alt.selection_point(\n",
        "    name='Select',\n",
        "    fields=['Major_Genre', 'MPAA_Rating'],\n",
        "    value=[{'Major_Genre': 'Drama', 'MPAA_Rating': 'R'}],\n",
        "    bind={\n",
        "        'Major_Genre': alt.binding_select(options=genres),\n",
        "        'MPAA_Rating': alt.binding_radio(options=mpaa)\n",
        "    }\n",
        ")\n",
        "\n",
        "# scatter plot, modifica a opacidade com base na seleção\n",
        "alt.Chart(movies).mark_circle().add_params(\n",
        "    selection\n",
        ").encode(\n",
        "    x='Rotten_Tomatoes_Rating:Q',\n",
        "    y='IMDB_Rating:Q',\n",
        "    tooltip='Title:N',\n",
        "    opacity=alt.condition(selection, alt.value(0.75), alt.value(0.05))\n",
        ")\n"
      ]
    },
    {
      "cell_type": "markdown",
      "metadata": {
        "id": "DkyN6lJmsiK3"
      },
      "source": [
        "*Curiosidades: A classificação PG-13 não existia quando os filmes [Tubarão](https://www.imdb.com/title/tt0073195/) e [Tubarão 2](https://www.imdb.com/title/tt0077766/) foram lançados. O primeiro filme a receber a classificação PG-13 foi [Amanhecer Violento](https://www.imdb.com/title/tt0087985/), de 1984.*"
      ]
    },
    {
      "cell_type": "markdown",
      "metadata": {
        "id": "7qyIMeMOsiK3"
      },
      "source": [
        "### <font color=\"#747a7f\">6.3.2</font> Usando Visualizações como Consultas Dinâmicas"
      ]
    },
    {
      "cell_type": "markdown",
      "metadata": {
        "id": "bVk6YXqFsiK3"
      },
      "source": [
        "Embora os widgets de interface padrões mostrem os *possíveis* valores dos parâmetros da consulta, eles não visualizam a *distribuição* desses valores. Nós também podemos desejar usar interações mais ricas, como seleções de múltiplos valores ou de intervalos, ao invés de widgets de entrada que selecionam apenas um valor por vez.\n",
        "\n",
        "Para resolver estes problemas, nós podemos criar gráficos adicionais para visualizar os dados e suportar consultas dinâmicas. Vamos adicionar um histograma da contagem de filmes por ano e usar uma seleção de intervalo para destacar dinamicamente os filmes em períodos de tempo selecionados.\n",
        "\n",
        "*Interaja com o histograma de anos para explorar filmes de diferentes períodos. Você vê algum indício de [viés de amostragem](https://en.wikipedia.org/wiki/Sampling_bias) ao longo dos anos? (Como os anos e as classificações dos críticos se relacionam?)*\n",
        "\n",
        "*Os anos variam de 1930 a 2040! Os filmes futuros estão em pré-produção, ou há erros do tipo \"erro por um século\"? Além disso, dependendo de qual fuso horário você está, você pode ver um pequeno pico ou em 1969 ou em 1970. Por que isso acontece? (Veja o final do notebook para uma explicação!)*"
      ]
    },
    {
      "cell_type": "code",
      "execution_count": 15,
      "metadata": {
        "colab": {
          "base_uri": "https://localhost:8080/",
          "height": 559
        },
        "id": "DwMW7F8CsiK3",
        "outputId": "da6cc10f-7763-4160-d297-77ce47d16883"
      },
      "outputs": [
        {
          "output_type": "execute_result",
          "data": {
            "text/html": [
              "\n",
              "<style>\n",
              "  #altair-viz-3c6807084cea450e9d3f219f3ad87fc7.vega-embed {\n",
              "    width: 100%;\n",
              "    display: flex;\n",
              "  }\n",
              "\n",
              "  #altair-viz-3c6807084cea450e9d3f219f3ad87fc7.vega-embed details,\n",
              "  #altair-viz-3c6807084cea450e9d3f219f3ad87fc7.vega-embed details summary {\n",
              "    position: relative;\n",
              "  }\n",
              "</style>\n",
              "<div id=\"altair-viz-3c6807084cea450e9d3f219f3ad87fc7\"></div>\n",
              "<script type=\"text/javascript\">\n",
              "  var VEGA_DEBUG = (typeof VEGA_DEBUG == \"undefined\") ? {} : VEGA_DEBUG;\n",
              "  (function(spec, embedOpt){\n",
              "    let outputDiv = document.currentScript.previousElementSibling;\n",
              "    if (outputDiv.id !== \"altair-viz-3c6807084cea450e9d3f219f3ad87fc7\") {\n",
              "      outputDiv = document.getElementById(\"altair-viz-3c6807084cea450e9d3f219f3ad87fc7\");\n",
              "    }\n",
              "\n",
              "    const paths = {\n",
              "      \"vega\": \"https://cdn.jsdelivr.net/npm/vega@5?noext\",\n",
              "      \"vega-lib\": \"https://cdn.jsdelivr.net/npm/vega-lib?noext\",\n",
              "      \"vega-lite\": \"https://cdn.jsdelivr.net/npm/vega-lite@5.20.1?noext\",\n",
              "      \"vega-embed\": \"https://cdn.jsdelivr.net/npm/vega-embed@6?noext\",\n",
              "    };\n",
              "\n",
              "    function maybeLoadScript(lib, version) {\n",
              "      var key = `${lib.replace(\"-\", \"\")}_version`;\n",
              "      return (VEGA_DEBUG[key] == version) ?\n",
              "        Promise.resolve(paths[lib]) :\n",
              "        new Promise(function(resolve, reject) {\n",
              "          var s = document.createElement('script');\n",
              "          document.getElementsByTagName(\"head\")[0].appendChild(s);\n",
              "          s.async = true;\n",
              "          s.onload = () => {\n",
              "            VEGA_DEBUG[key] = version;\n",
              "            return resolve(paths[lib]);\n",
              "          };\n",
              "          s.onerror = () => reject(`Error loading script: ${paths[lib]}`);\n",
              "          s.src = paths[lib];\n",
              "        });\n",
              "    }\n",
              "\n",
              "    function showError(err) {\n",
              "      outputDiv.innerHTML = `<div class=\"error\" style=\"color:red;\">${err}</div>`;\n",
              "      throw err;\n",
              "    }\n",
              "\n",
              "    function displayChart(vegaEmbed) {\n",
              "      vegaEmbed(outputDiv, spec, embedOpt)\n",
              "        .catch(err => showError(`Javascript Error: ${err.message}<br>This usually means there's a typo in your chart specification. See the javascript console for the full traceback.`));\n",
              "    }\n",
              "\n",
              "    if(typeof define === \"function\" && define.amd) {\n",
              "      requirejs.config({paths});\n",
              "      let deps = [\"vega-embed\"];\n",
              "      require(deps, displayChart, err => showError(`Error loading script: ${err.message}`));\n",
              "    } else {\n",
              "      maybeLoadScript(\"vega\", \"5\")\n",
              "        .then(() => maybeLoadScript(\"vega-lite\", \"5.20.1\"))\n",
              "        .then(() => maybeLoadScript(\"vega-embed\", \"6\"))\n",
              "        .catch(showError)\n",
              "        .then(() => displayChart(vegaEmbed));\n",
              "    }\n",
              "  })({\"config\": {\"view\": {\"continuousWidth\": 300, \"continuousHeight\": 300}}, \"vconcat\": [{\"mark\": {\"type\": \"bar\"}, \"encoding\": {\"x\": {\"field\": \"Release_Date\", \"timeUnit\": \"year\", \"title\": \"Filmes por Ano de Lan\\u00e7amento\", \"type\": \"temporal\"}, \"y\": {\"aggregate\": \"count\", \"title\": null, \"type\": \"quantitative\"}}, \"height\": 50, \"name\": \"view_4\", \"width\": 650}, {\"mark\": {\"type\": \"circle\"}, \"encoding\": {\"opacity\": {\"condition\": {\"param\": \"param_5\", \"value\": 0.75}, \"value\": 0.05}, \"tooltip\": {\"field\": \"Title\", \"type\": \"nominal\"}, \"x\": {\"field\": \"Rotten_Tomatoes_Rating\", \"type\": \"quantitative\"}, \"y\": {\"field\": \"IMDB_Rating\", \"type\": \"quantitative\"}}, \"height\": 400, \"width\": 650}], \"data\": {\"url\": \"https://cdn.jsdelivr.net/npm/vega-datasets@1/data/movies.json\"}, \"params\": [{\"name\": \"param_5\", \"select\": {\"type\": \"interval\", \"encodings\": [\"x\"]}, \"views\": [\"view_4\"]}], \"spacing\": 5, \"$schema\": \"https://vega.github.io/schema/vega-lite/v5.20.1.json\"}, {\"mode\": \"vega-lite\"});\n",
              "</script>"
            ],
            "text/plain": [
              "alt.VConcatChart(...)"
            ]
          },
          "metadata": {},
          "execution_count": 15
        }
      ],
      "source": [
        "brush = alt.selection_interval(\n",
        "    encodings=['x'] # limita a seleção aos valores do eixo x (ano)\n",
        ")\n",
        "\n",
        "# histograma de consulta dinâmica\n",
        "years = alt.Chart(movies).mark_bar().add_params(\n",
        "    brush\n",
        ").encode(\n",
        "    alt.X('year(Release_Date):T', title='Filmes por Ano de Lançamento'),\n",
        "    alt.Y('count():Q', title=None)\n",
        ").properties(\n",
        "    width=650,\n",
        "    height=50\n",
        ")\n",
        "\n",
        "# scatter plot, modifica a opacidade com base na seleção\n",
        "ratings = alt.Chart(movies).mark_circle().encode(\n",
        "    x='Rotten_Tomatoes_Rating:Q',\n",
        "    y='IMDB_Rating:Q',\n",
        "    tooltip='Title:N',\n",
        "    opacity=alt.condition(brush, alt.value(0.75), alt.value(0.05))\n",
        ").properties(\n",
        "    width=650,\n",
        "    height=400\n",
        ")\n",
        "\n",
        "alt.vconcat(years, ratings).properties(spacing=5)\n"
      ]
    },
    {
      "cell_type": "markdown",
      "metadata": {
        "id": "6KbUY1GjsiK3"
      },
      "source": [
        "O exemplo acima oferece consultas dinâmicas usando uma *seleção vinculada* entre gráficos:\n",
        "\n",
        "- Nós criamos uma seleção `interval` (`brush`) e definimos `encodings=['x']` para limitar a seleção apenas ao eixo x, resultando em um intervalo de seleção unidimensional.\n",
        "- Nós registramos o `brush` com nosso histograma de filmes por ano por meio do `.add_params(brush)`.\n",
        "- Nós usamos o `brush` em uma codificação condicional para ajustar a opacidade do scatter plot com o parâmetro `opacity`.\n",
        "\n",
        "Esta técnica de interação de selecionar elementos em um gráfico e ver destaques vinculados em um ou mais outros gráficos é conhecida como [brushing & linking](https://en.wikipedia.org/wiki/Brushing_and_linking)."
      ]
    },
    {
      "cell_type": "markdown",
      "metadata": {
        "id": "c7Lw4WjQsiK4"
      },
      "source": [
        "## <font color=\"#747a7f\">6.4</font> Panning & Zooming"
      ]
    },
    {
      "cell_type": "markdown",
      "metadata": {
        "id": "Gfh1FOpIsiK4"
      },
      "source": [
        "O scatter plot das classificações dos filmes está um pouco congestionado em alguns pontos, o que dificulta a análise das regiões mais densas. Usando as técnicas de interação *panning* (deslocamento) e *zooming* (zoom), nós podemos inspecionar as regiões densas de forma mais detalhada.\n",
        "\n",
        "Vamos começar pensando em como poderíamos expressar deslocamento e zoom usando seleções do Altair. O que define a \"área de visualização\" de um gráfico? *Os domínios das escalas dos eixos!*\n",
        "\n",
        "Nós podemos alterar os domínios das escalas para modificar o intervalo visualizado dos valores dos dados. Para fazer isso interativamente, nós podemos vincular uma seleção `interval` aos domínios das escalas com o código `bind='scales'`. O resultado é que, ao invés de um intervalo brush que nós podemos arrastar e dar zoom, nós podemos arrastar e dar zoom em toda a área do gráfico!\n",
        "\n",
        "*No gráfico abaixo, clique e arraste para mover a visualização ou use o scroll do mouse para dar zoom (ajustar a escala) na visualização. O que você pode descobrir sobre a precisão dos valores de classificação oferecidos?*"
      ]
    },
    {
      "cell_type": "code",
      "source": [
        "alt.Chart(movies).mark_circle().add_params(\n",
        "    alt.selection_interval(bind='scales')\n",
        ").encode(\n",
        "    x='Rotten_Tomatoes_Rating:Q',\n",
        "    y=alt.Y('IMDB_Rating:Q', axis=alt.Axis(minExtent=30)), # usa o parâmetro minExtent para estabilizar o título do eixo\n",
        "    tooltip=['Title:N', 'Release_Date:N', 'IMDB_Rating:Q', 'Rotten_Tomatoes_Rating:Q']\n",
        ").properties(\n",
        "    width=600,\n",
        "    height=400\n",
        ")"
      ],
      "metadata": {
        "colab": {
          "base_uri": "https://localhost:8080/",
          "height": 467
        },
        "id": "FqRsHA642BZQ",
        "outputId": "d88f3d4e-7dae-464d-c61e-92c1f7622e6d"
      },
      "execution_count": 16,
      "outputs": [
        {
          "output_type": "execute_result",
          "data": {
            "text/html": [
              "\n",
              "<style>\n",
              "  #altair-viz-a8c1b0c72cf141d3ba29a96672dc3a52.vega-embed {\n",
              "    width: 100%;\n",
              "    display: flex;\n",
              "  }\n",
              "\n",
              "  #altair-viz-a8c1b0c72cf141d3ba29a96672dc3a52.vega-embed details,\n",
              "  #altair-viz-a8c1b0c72cf141d3ba29a96672dc3a52.vega-embed details summary {\n",
              "    position: relative;\n",
              "  }\n",
              "</style>\n",
              "<div id=\"altair-viz-a8c1b0c72cf141d3ba29a96672dc3a52\"></div>\n",
              "<script type=\"text/javascript\">\n",
              "  var VEGA_DEBUG = (typeof VEGA_DEBUG == \"undefined\") ? {} : VEGA_DEBUG;\n",
              "  (function(spec, embedOpt){\n",
              "    let outputDiv = document.currentScript.previousElementSibling;\n",
              "    if (outputDiv.id !== \"altair-viz-a8c1b0c72cf141d3ba29a96672dc3a52\") {\n",
              "      outputDiv = document.getElementById(\"altair-viz-a8c1b0c72cf141d3ba29a96672dc3a52\");\n",
              "    }\n",
              "\n",
              "    const paths = {\n",
              "      \"vega\": \"https://cdn.jsdelivr.net/npm/vega@5?noext\",\n",
              "      \"vega-lib\": \"https://cdn.jsdelivr.net/npm/vega-lib?noext\",\n",
              "      \"vega-lite\": \"https://cdn.jsdelivr.net/npm/vega-lite@5.20.1?noext\",\n",
              "      \"vega-embed\": \"https://cdn.jsdelivr.net/npm/vega-embed@6?noext\",\n",
              "    };\n",
              "\n",
              "    function maybeLoadScript(lib, version) {\n",
              "      var key = `${lib.replace(\"-\", \"\")}_version`;\n",
              "      return (VEGA_DEBUG[key] == version) ?\n",
              "        Promise.resolve(paths[lib]) :\n",
              "        new Promise(function(resolve, reject) {\n",
              "          var s = document.createElement('script');\n",
              "          document.getElementsByTagName(\"head\")[0].appendChild(s);\n",
              "          s.async = true;\n",
              "          s.onload = () => {\n",
              "            VEGA_DEBUG[key] = version;\n",
              "            return resolve(paths[lib]);\n",
              "          };\n",
              "          s.onerror = () => reject(`Error loading script: ${paths[lib]}`);\n",
              "          s.src = paths[lib];\n",
              "        });\n",
              "    }\n",
              "\n",
              "    function showError(err) {\n",
              "      outputDiv.innerHTML = `<div class=\"error\" style=\"color:red;\">${err}</div>`;\n",
              "      throw err;\n",
              "    }\n",
              "\n",
              "    function displayChart(vegaEmbed) {\n",
              "      vegaEmbed(outputDiv, spec, embedOpt)\n",
              "        .catch(err => showError(`Javascript Error: ${err.message}<br>This usually means there's a typo in your chart specification. See the javascript console for the full traceback.`));\n",
              "    }\n",
              "\n",
              "    if(typeof define === \"function\" && define.amd) {\n",
              "      requirejs.config({paths});\n",
              "      let deps = [\"vega-embed\"];\n",
              "      require(deps, displayChart, err => showError(`Error loading script: ${err.message}`));\n",
              "    } else {\n",
              "      maybeLoadScript(\"vega\", \"5\")\n",
              "        .then(() => maybeLoadScript(\"vega-lite\", \"5.20.1\"))\n",
              "        .then(() => maybeLoadScript(\"vega-embed\", \"6\"))\n",
              "        .catch(showError)\n",
              "        .then(() => displayChart(vegaEmbed));\n",
              "    }\n",
              "  })({\"config\": {\"view\": {\"continuousWidth\": 300, \"continuousHeight\": 300}}, \"data\": {\"url\": \"https://cdn.jsdelivr.net/npm/vega-datasets@1/data/movies.json\"}, \"mark\": {\"type\": \"circle\"}, \"encoding\": {\"tooltip\": [{\"field\": \"Title\", \"type\": \"nominal\"}, {\"field\": \"Release_Date\", \"type\": \"nominal\"}, {\"field\": \"IMDB_Rating\", \"type\": \"quantitative\"}, {\"field\": \"Rotten_Tomatoes_Rating\", \"type\": \"quantitative\"}], \"x\": {\"field\": \"Rotten_Tomatoes_Rating\", \"type\": \"quantitative\"}, \"y\": {\"axis\": {\"minExtent\": 30}, \"field\": \"IMDB_Rating\", \"type\": \"quantitative\"}}, \"height\": 400, \"params\": [{\"name\": \"param_6\", \"select\": {\"type\": \"interval\"}, \"bind\": \"scales\"}], \"width\": 600, \"$schema\": \"https://vega.github.io/schema/vega-lite/v5.20.1.json\"}, {\"mode\": \"vega-lite\"});\n",
              "</script>"
            ],
            "text/plain": [
              "alt.Chart(...)"
            ]
          },
          "metadata": {},
          "execution_count": 16
        }
      ]
    },
    {
      "cell_type": "markdown",
      "metadata": {
        "id": "2wKD85A_siK4"
      },
      "source": [
        "*Ao dar zoom, nós podemos ver que os valores das classificações têm precisão limitada! As classificações do Rotten Tomatoes são inteiros, enquanto as classificações do IMDB são truncadas para décimos. Como resultado, há sobreposição de pontos mesmo quando damos zoom, com vários filmes compartilhando os mesmos valores de classificação.*\n",
        "\n",
        "Lendo o código acima, você pode notar o código `alt.Axis(minExtent=30)` no canal de codificação `y`. O parâmetro `minExtent` garante que um espaço mínimo seja reservado para os marcadores e rótulos dos eixos. Por que fazer isso? Quando fazemos o deslocamento e damos zoom, os rótulos dos eixos podem mudar e causar um deslocamento na posição do título do eixo. Ao definir um valor mínimo de extensão, podemos reduzir movimentos que podem causar distração. *Tente alterar o valor de `minExtent`, por exemplo definindo-o como zero, e então dê zoom para ver o que acontece quando rótulos de eixos mais longos entram na visualização.*\n",
        "\n",
        "O Altair também inclui uma forma abreviada para adicionar deslocamento e zoom a um gráfico. Ao invés de criar diretamente uma seleção, você pode chamar `.interactive()` para fazer o Altair gerar automaticamente uma seleção de intervalo limitada às escalas do gráfico."
      ]
    },
    {
      "cell_type": "code",
      "execution_count": 17,
      "metadata": {
        "colab": {
          "base_uri": "https://localhost:8080/",
          "height": 467
        },
        "id": "ECI_5O8DsiK4",
        "outputId": "a2937e8a-38f4-4e82-e3dd-56ae4f4077ec"
      },
      "outputs": [
        {
          "output_type": "execute_result",
          "data": {
            "text/html": [
              "\n",
              "<style>\n",
              "  #altair-viz-a7e616ea015b490f9aaf2556f6a595a1.vega-embed {\n",
              "    width: 100%;\n",
              "    display: flex;\n",
              "  }\n",
              "\n",
              "  #altair-viz-a7e616ea015b490f9aaf2556f6a595a1.vega-embed details,\n",
              "  #altair-viz-a7e616ea015b490f9aaf2556f6a595a1.vega-embed details summary {\n",
              "    position: relative;\n",
              "  }\n",
              "</style>\n",
              "<div id=\"altair-viz-a7e616ea015b490f9aaf2556f6a595a1\"></div>\n",
              "<script type=\"text/javascript\">\n",
              "  var VEGA_DEBUG = (typeof VEGA_DEBUG == \"undefined\") ? {} : VEGA_DEBUG;\n",
              "  (function(spec, embedOpt){\n",
              "    let outputDiv = document.currentScript.previousElementSibling;\n",
              "    if (outputDiv.id !== \"altair-viz-a7e616ea015b490f9aaf2556f6a595a1\") {\n",
              "      outputDiv = document.getElementById(\"altair-viz-a7e616ea015b490f9aaf2556f6a595a1\");\n",
              "    }\n",
              "\n",
              "    const paths = {\n",
              "      \"vega\": \"https://cdn.jsdelivr.net/npm/vega@5?noext\",\n",
              "      \"vega-lib\": \"https://cdn.jsdelivr.net/npm/vega-lib?noext\",\n",
              "      \"vega-lite\": \"https://cdn.jsdelivr.net/npm/vega-lite@5.20.1?noext\",\n",
              "      \"vega-embed\": \"https://cdn.jsdelivr.net/npm/vega-embed@6?noext\",\n",
              "    };\n",
              "\n",
              "    function maybeLoadScript(lib, version) {\n",
              "      var key = `${lib.replace(\"-\", \"\")}_version`;\n",
              "      return (VEGA_DEBUG[key] == version) ?\n",
              "        Promise.resolve(paths[lib]) :\n",
              "        new Promise(function(resolve, reject) {\n",
              "          var s = document.createElement('script');\n",
              "          document.getElementsByTagName(\"head\")[0].appendChild(s);\n",
              "          s.async = true;\n",
              "          s.onload = () => {\n",
              "            VEGA_DEBUG[key] = version;\n",
              "            return resolve(paths[lib]);\n",
              "          };\n",
              "          s.onerror = () => reject(`Error loading script: ${paths[lib]}`);\n",
              "          s.src = paths[lib];\n",
              "        });\n",
              "    }\n",
              "\n",
              "    function showError(err) {\n",
              "      outputDiv.innerHTML = `<div class=\"error\" style=\"color:red;\">${err}</div>`;\n",
              "      throw err;\n",
              "    }\n",
              "\n",
              "    function displayChart(vegaEmbed) {\n",
              "      vegaEmbed(outputDiv, spec, embedOpt)\n",
              "        .catch(err => showError(`Javascript Error: ${err.message}<br>This usually means there's a typo in your chart specification. See the javascript console for the full traceback.`));\n",
              "    }\n",
              "\n",
              "    if(typeof define === \"function\" && define.amd) {\n",
              "      requirejs.config({paths});\n",
              "      let deps = [\"vega-embed\"];\n",
              "      require(deps, displayChart, err => showError(`Error loading script: ${err.message}`));\n",
              "    } else {\n",
              "      maybeLoadScript(\"vega\", \"5\")\n",
              "        .then(() => maybeLoadScript(\"vega-lite\", \"5.20.1\"))\n",
              "        .then(() => maybeLoadScript(\"vega-embed\", \"6\"))\n",
              "        .catch(showError)\n",
              "        .then(() => displayChart(vegaEmbed));\n",
              "    }\n",
              "  })({\"config\": {\"view\": {\"continuousWidth\": 300, \"continuousHeight\": 300}}, \"data\": {\"url\": \"https://cdn.jsdelivr.net/npm/vega-datasets@1/data/movies.json\"}, \"mark\": {\"type\": \"circle\"}, \"encoding\": {\"tooltip\": [{\"field\": \"Title\", \"type\": \"nominal\"}, {\"field\": \"Release_Date\", \"type\": \"nominal\"}, {\"field\": \"IMDB_Rating\", \"type\": \"quantitative\"}, {\"field\": \"Rotten_Tomatoes_Rating\", \"type\": \"quantitative\"}], \"x\": {\"field\": \"Rotten_Tomatoes_Rating\", \"type\": \"quantitative\"}, \"y\": {\"axis\": {\"minExtent\": 30}, \"field\": \"IMDB_Rating\", \"type\": \"quantitative\"}}, \"height\": 400, \"params\": [{\"name\": \"param_7\", \"select\": {\"type\": \"interval\", \"encodings\": [\"x\", \"y\"]}, \"bind\": \"scales\"}], \"width\": 600, \"$schema\": \"https://vega.github.io/schema/vega-lite/v5.20.1.json\"}, {\"mode\": \"vega-lite\"});\n",
              "</script>"
            ],
            "text/plain": [
              "alt.Chart(...)"
            ]
          },
          "metadata": {},
          "execution_count": 17
        }
      ],
      "source": [
        "alt.Chart(movies).mark_circle().encode(\n",
        "    x='Rotten_Tomatoes_Rating:Q',\n",
        "    y=alt.Y('IMDB_Rating:Q', axis=alt.Axis(minExtent=30)), # usa o parâmetro minExtent para estabilizar o título do eixo\n",
        "    tooltip=['Title:N', 'Release_Date:N', 'IMDB_Rating:Q', 'Rotten_Tomatoes_Rating:Q']\n",
        ").properties(\n",
        "    width=600,\n",
        "    height=400\n",
        ").interactive()"
      ]
    },
    {
      "cell_type": "markdown",
      "metadata": {
        "id": "YoVthv_psiK4"
      },
      "source": [
        "Por padrão, as vinculações de escala para seleções incluem os canais de codificação `x` e `y`. E se quisessemos limitar o deslocamento e o zoom a uma única dimensão? Podemos usar `encodings=['x']` para restringir a seleção apenas ao canal `x`:"
      ]
    },
    {
      "cell_type": "code",
      "execution_count": 18,
      "metadata": {
        "colab": {
          "base_uri": "https://localhost:8080/",
          "height": 467
        },
        "id": "YSMav7VFsiK4",
        "outputId": "43dca048-875a-48d1-ad72-32660b3c00d1"
      },
      "outputs": [
        {
          "output_type": "execute_result",
          "data": {
            "text/html": [
              "\n",
              "<style>\n",
              "  #altair-viz-7580bf3332b645ffae58ca06175a00f7.vega-embed {\n",
              "    width: 100%;\n",
              "    display: flex;\n",
              "  }\n",
              "\n",
              "  #altair-viz-7580bf3332b645ffae58ca06175a00f7.vega-embed details,\n",
              "  #altair-viz-7580bf3332b645ffae58ca06175a00f7.vega-embed details summary {\n",
              "    position: relative;\n",
              "  }\n",
              "</style>\n",
              "<div id=\"altair-viz-7580bf3332b645ffae58ca06175a00f7\"></div>\n",
              "<script type=\"text/javascript\">\n",
              "  var VEGA_DEBUG = (typeof VEGA_DEBUG == \"undefined\") ? {} : VEGA_DEBUG;\n",
              "  (function(spec, embedOpt){\n",
              "    let outputDiv = document.currentScript.previousElementSibling;\n",
              "    if (outputDiv.id !== \"altair-viz-7580bf3332b645ffae58ca06175a00f7\") {\n",
              "      outputDiv = document.getElementById(\"altair-viz-7580bf3332b645ffae58ca06175a00f7\");\n",
              "    }\n",
              "\n",
              "    const paths = {\n",
              "      \"vega\": \"https://cdn.jsdelivr.net/npm/vega@5?noext\",\n",
              "      \"vega-lib\": \"https://cdn.jsdelivr.net/npm/vega-lib?noext\",\n",
              "      \"vega-lite\": \"https://cdn.jsdelivr.net/npm/vega-lite@5.20.1?noext\",\n",
              "      \"vega-embed\": \"https://cdn.jsdelivr.net/npm/vega-embed@6?noext\",\n",
              "    };\n",
              "\n",
              "    function maybeLoadScript(lib, version) {\n",
              "      var key = `${lib.replace(\"-\", \"\")}_version`;\n",
              "      return (VEGA_DEBUG[key] == version) ?\n",
              "        Promise.resolve(paths[lib]) :\n",
              "        new Promise(function(resolve, reject) {\n",
              "          var s = document.createElement('script');\n",
              "          document.getElementsByTagName(\"head\")[0].appendChild(s);\n",
              "          s.async = true;\n",
              "          s.onload = () => {\n",
              "            VEGA_DEBUG[key] = version;\n",
              "            return resolve(paths[lib]);\n",
              "          };\n",
              "          s.onerror = () => reject(`Error loading script: ${paths[lib]}`);\n",
              "          s.src = paths[lib];\n",
              "        });\n",
              "    }\n",
              "\n",
              "    function showError(err) {\n",
              "      outputDiv.innerHTML = `<div class=\"error\" style=\"color:red;\">${err}</div>`;\n",
              "      throw err;\n",
              "    }\n",
              "\n",
              "    function displayChart(vegaEmbed) {\n",
              "      vegaEmbed(outputDiv, spec, embedOpt)\n",
              "        .catch(err => showError(`Javascript Error: ${err.message}<br>This usually means there's a typo in your chart specification. See the javascript console for the full traceback.`));\n",
              "    }\n",
              "\n",
              "    if(typeof define === \"function\" && define.amd) {\n",
              "      requirejs.config({paths});\n",
              "      let deps = [\"vega-embed\"];\n",
              "      require(deps, displayChart, err => showError(`Error loading script: ${err.message}`));\n",
              "    } else {\n",
              "      maybeLoadScript(\"vega\", \"5\")\n",
              "        .then(() => maybeLoadScript(\"vega-lite\", \"5.20.1\"))\n",
              "        .then(() => maybeLoadScript(\"vega-embed\", \"6\"))\n",
              "        .catch(showError)\n",
              "        .then(() => displayChart(vegaEmbed));\n",
              "    }\n",
              "  })({\"config\": {\"view\": {\"continuousWidth\": 300, \"continuousHeight\": 300}}, \"data\": {\"url\": \"https://cdn.jsdelivr.net/npm/vega-datasets@1/data/movies.json\"}, \"mark\": {\"type\": \"circle\"}, \"encoding\": {\"tooltip\": [{\"field\": \"Title\", \"type\": \"nominal\"}, {\"field\": \"Release_Date\", \"type\": \"nominal\"}, {\"field\": \"IMDB_Rating\", \"type\": \"quantitative\"}, {\"field\": \"Rotten_Tomatoes_Rating\", \"type\": \"quantitative\"}], \"x\": {\"field\": \"Rotten_Tomatoes_Rating\", \"type\": \"quantitative\"}, \"y\": {\"axis\": {\"minExtent\": 30}, \"field\": \"IMDB_Rating\", \"type\": \"quantitative\"}}, \"height\": 400, \"params\": [{\"name\": \"param_8\", \"select\": {\"type\": \"interval\", \"encodings\": [\"x\"]}, \"bind\": \"scales\"}], \"width\": 600, \"$schema\": \"https://vega.github.io/schema/vega-lite/v5.20.1.json\"}, {\"mode\": \"vega-lite\"});\n",
              "</script>"
            ],
            "text/plain": [
              "alt.Chart(...)"
            ]
          },
          "metadata": {},
          "execution_count": 18
        }
      ],
      "source": [
        "alt.Chart(movies).mark_circle().encode(\n",
        "    x='Rotten_Tomatoes_Rating:Q',\n",
        "    y=alt.Y('IMDB_Rating:Q', axis=alt.Axis(minExtent=30)),  # Usa minExtent para estabilizar o título do eixo\n",
        "    tooltip=['Title:N', 'Release_Date:N', 'IMDB_Rating:Q', 'Rotten_Tomatoes_Rating:Q']\n",
        ").add_params(\n",
        "    alt.selection_interval(bind='scales', encodings=['x'])  # Usando add_params em vez de add_selection\n",
        ").properties(\n",
        "    width=600,\n",
        "    height=400\n",
        ")"
      ]
    },
    {
      "cell_type": "markdown",
      "metadata": {
        "id": "2b86RetPsiK4"
      },
      "source": [
        "*Ao dar zoom ao longo de um único eixo, a forma dos dados visualizados pode mudar, afetando potencialmente nossa percepção de relacionamentos nos dados. [Escolher uma proporção adequada](http://vis.stanford.edu/papers/arclength-banking) é uma consideração importante no design de visualizações!*"
      ]
    },
    {
      "cell_type": "markdown",
      "metadata": {
        "id": "MKrYzHunCjd3"
      },
      "source": [
        "## <font color=\"#747a7f\">6.5</font> Navegação: Visão geral + Detalhes\n"
      ]
    },
    {
      "cell_type": "markdown",
      "metadata": {
        "id": "8IVaqjenCjeA"
      },
      "source": [
        "Ao mover e dar zoom, ajustamos diretamente a \"área de visualização\" de um gráfico. A estratégia de navegação relacionada de *visão geral + detalhes*, ao invés disso, usa uma exibição de visão geral para mostrar *tudo* dos dados, enquanto suporta seleções que movimentam e ampliam uma exibição de foco separada.\n",
        "\n",
        "Abaixo, temos dois gráficos de área que mostram uma década de flutuações de preços para o índice de ações S&amp;P 500. Inicialmente, ambos os gráficos mostram o mesmo intervalo de dados. *Clique e arraste no gráfico de visão geral inferior para atualizar a exibição de foco e examinar intervalos de tempo específicos.*"
      ]
    },
    {
      "cell_type": "code",
      "execution_count": 19,
      "metadata": {
        "id": "yFhTmPhjCjeA",
        "outputId": "1e8654d5-bfae-4139-cb08-72c2e1bf7d45",
        "colab": {
          "base_uri": "https://localhost:8080/",
          "height": 453
        }
      },
      "outputs": [
        {
          "output_type": "execute_result",
          "data": {
            "text/html": [
              "\n",
              "<style>\n",
              "  #altair-viz-a02e04afda61401eb56eb25d31b52a0d.vega-embed {\n",
              "    width: 100%;\n",
              "    display: flex;\n",
              "  }\n",
              "\n",
              "  #altair-viz-a02e04afda61401eb56eb25d31b52a0d.vega-embed details,\n",
              "  #altair-viz-a02e04afda61401eb56eb25d31b52a0d.vega-embed details summary {\n",
              "    position: relative;\n",
              "  }\n",
              "</style>\n",
              "<div id=\"altair-viz-a02e04afda61401eb56eb25d31b52a0d\"></div>\n",
              "<script type=\"text/javascript\">\n",
              "  var VEGA_DEBUG = (typeof VEGA_DEBUG == \"undefined\") ? {} : VEGA_DEBUG;\n",
              "  (function(spec, embedOpt){\n",
              "    let outputDiv = document.currentScript.previousElementSibling;\n",
              "    if (outputDiv.id !== \"altair-viz-a02e04afda61401eb56eb25d31b52a0d\") {\n",
              "      outputDiv = document.getElementById(\"altair-viz-a02e04afda61401eb56eb25d31b52a0d\");\n",
              "    }\n",
              "\n",
              "    const paths = {\n",
              "      \"vega\": \"https://cdn.jsdelivr.net/npm/vega@5?noext\",\n",
              "      \"vega-lib\": \"https://cdn.jsdelivr.net/npm/vega-lib?noext\",\n",
              "      \"vega-lite\": \"https://cdn.jsdelivr.net/npm/vega-lite@5.20.1?noext\",\n",
              "      \"vega-embed\": \"https://cdn.jsdelivr.net/npm/vega-embed@6?noext\",\n",
              "    };\n",
              "\n",
              "    function maybeLoadScript(lib, version) {\n",
              "      var key = `${lib.replace(\"-\", \"\")}_version`;\n",
              "      return (VEGA_DEBUG[key] == version) ?\n",
              "        Promise.resolve(paths[lib]) :\n",
              "        new Promise(function(resolve, reject) {\n",
              "          var s = document.createElement('script');\n",
              "          document.getElementsByTagName(\"head\")[0].appendChild(s);\n",
              "          s.async = true;\n",
              "          s.onload = () => {\n",
              "            VEGA_DEBUG[key] = version;\n",
              "            return resolve(paths[lib]);\n",
              "          };\n",
              "          s.onerror = () => reject(`Error loading script: ${paths[lib]}`);\n",
              "          s.src = paths[lib];\n",
              "        });\n",
              "    }\n",
              "\n",
              "    function showError(err) {\n",
              "      outputDiv.innerHTML = `<div class=\"error\" style=\"color:red;\">${err}</div>`;\n",
              "      throw err;\n",
              "    }\n",
              "\n",
              "    function displayChart(vegaEmbed) {\n",
              "      vegaEmbed(outputDiv, spec, embedOpt)\n",
              "        .catch(err => showError(`Javascript Error: ${err.message}<br>This usually means there's a typo in your chart specification. See the javascript console for the full traceback.`));\n",
              "    }\n",
              "\n",
              "    if(typeof define === \"function\" && define.amd) {\n",
              "      requirejs.config({paths});\n",
              "      let deps = [\"vega-embed\"];\n",
              "      require(deps, displayChart, err => showError(`Error loading script: ${err.message}`));\n",
              "    } else {\n",
              "      maybeLoadScript(\"vega\", \"5\")\n",
              "        .then(() => maybeLoadScript(\"vega-lite\", \"5.20.1\"))\n",
              "        .then(() => maybeLoadScript(\"vega-embed\", \"6\"))\n",
              "        .catch(showError)\n",
              "        .then(() => displayChart(vegaEmbed));\n",
              "    }\n",
              "  })({\"config\": {\"view\": {\"continuousWidth\": 300, \"continuousHeight\": 300}}, \"vconcat\": [{\"mark\": {\"type\": \"area\"}, \"encoding\": {\"x\": {\"field\": \"date\", \"scale\": {\"domain\": {\"param\": \"param_9\"}}, \"title\": null, \"type\": \"temporal\"}, \"y\": {\"field\": \"price\", \"type\": \"quantitative\"}}, \"width\": 700}, {\"mark\": {\"type\": \"area\"}, \"encoding\": {\"x\": {\"field\": \"date\", \"title\": null, \"type\": \"temporal\"}, \"y\": {\"field\": \"price\", \"type\": \"quantitative\"}}, \"height\": 60, \"name\": \"view_5\", \"width\": 700}], \"data\": {\"url\": \"https://cdn.jsdelivr.net/npm/vega-datasets@1/data/sp500.csv\"}, \"params\": [{\"name\": \"param_9\", \"select\": {\"type\": \"interval\", \"encodings\": [\"x\"]}, \"views\": [\"view_5\"]}], \"$schema\": \"https://vega.github.io/schema/vega-lite/v5.20.1.json\"}, {\"mode\": \"vega-lite\"});\n",
              "</script>"
            ],
            "text/plain": [
              "alt.VConcatChart(...)"
            ]
          },
          "metadata": {},
          "execution_count": 19
        }
      ],
      "source": [
        "brush = alt.selection_interval(encodings=['x']);\n",
        "\n",
        "base = alt.Chart().mark_area().encode(\n",
        "    alt.X('date:T', title=None),\n",
        "    alt.Y('price:Q')\n",
        ").properties(\n",
        "    width=700\n",
        ")\n",
        "\n",
        "alt.vconcat(\n",
        "    base.encode(alt.X('date:T', title=None, scale=alt.Scale(domain=brush))),\n",
        "    base.add_params(brush).properties(height=60),\n",
        "    data=sp500\n",
        ")"
      ]
    },
    {
      "cell_type": "markdown",
      "metadata": {
        "id": "OQkpzwrECjeB"
      },
      "source": [
        "<!--Unlike our earlier panning &amp; zooming case, here we don't want to bind a selection directly to the scales of a single interactive chart. Instead, we want to bind the selection to a scale domain in _another_ chart. To do so, we update the `x` encoding channel for our focus chart, setting the scale `domain` property to reference our `brush` selection. If no interval is defined (the selection is empty), Altair ignores the brush and uses the underlying data to determine the domain. When a brush interval is created, Altair instead uses that as the scale `domain` for the focus chart.-->\n",
        "\n",
        "Ao contrário do nosso conjunto panorâmica e zoom, aqui não queremos vincular uma seleção diretamente às escalas de um único gráfico interativo. Para isso, queremos vincular a seleção a um domínio de escala em _outro_ gráfico. Para fazer isso, atualizamos o canal de codificação `x` para nosso gráfico principal, definindo a propriedade de escala `domain` (domínio) para referenciar nossa seleção de `brush` (Pincel). Se nenhum intervalo for definido (seleção vazia), o Altair ignora o pincel e usa os dados subjacentes para determinar o domínio. Quando um intervalo de pincel é criado, o Altair o usa como o `domain` da escala para o gráfico principal."
      ]
    },
    {
      "cell_type": "markdown",
      "metadata": {
        "id": "mii6FZ5PCjeB"
      },
      "source": [
        "## <font color=\"#747a7f\">6.6</font> Detalhes sob demanda"
      ]
    },
    {
      "cell_type": "markdown",
      "metadata": {
        "id": "H8Dz_kuUCjeC"
      },
      "source": [
        "Após nós identificarmos pontos de interesse em uma visualização, por vezes nós queremos saber mais sobre eles. *Detalhes sob demanda* refere-se à consultar interativamente por mais informações sobre os valores selecionados. *Tooltips* são um método útil de oferecer detalhes sob demanda. Entretanto, as tooltips normalmente mostram informações apenas para um ponto por vez. Como nós poderíamos mostrar mais?\n",
        "\n",
        "O scatter plot das classificações de filmes inclui uma série de potenciais valores discrepantes interessantes onde as classificações do *Rotten Tomatoes* e do *IMDB* divergem. Vamos criar um gráfico que nos permita selecionar pontos interativamente e mostrar seus rótulos. Para acionar a consulta de filtro na interação de passar o mouse ou clicar, usaremos o [operador de composição Altair](https://altair-viz.github.io/user_guide/interactions.html#composing-multiple-selections) `|` (\"ou\").\n",
        "\n",
        "*Passe o cursor sobre os pontos no scatter plot abaixo para ver um destaque e um rótulo. Clique com a tecla Shift pressionada para tornar as anotações persistentes e visualizar vários rótulos de uma só vez. Quais filmes são amados pelos críticos do Rotten Tomatoes, mas não pelo público em geral no IMDB (ou vice-versa)? Veja se consegue encontrar possíveis erros, onde dois filmes diferentes com o mesmo nome foram acidentalmente combinados!*"
      ]
    },
    {
      "cell_type": "code",
      "execution_count": 20,
      "metadata": {
        "id": "MHMosDNiCjeC",
        "outputId": "e4433ecc-6c6e-4c8b-c28f-611e50fec546",
        "colab": {
          "base_uri": "https://localhost:8080/",
          "height": 517
        }
      },
      "outputs": [
        {
          "output_type": "execute_result",
          "data": {
            "text/html": [
              "\n",
              "<style>\n",
              "  #altair-viz-f66a4f5ebf384fe08fe5196031cee986.vega-embed {\n",
              "    width: 100%;\n",
              "    display: flex;\n",
              "  }\n",
              "\n",
              "  #altair-viz-f66a4f5ebf384fe08fe5196031cee986.vega-embed details,\n",
              "  #altair-viz-f66a4f5ebf384fe08fe5196031cee986.vega-embed details summary {\n",
              "    position: relative;\n",
              "  }\n",
              "</style>\n",
              "<div id=\"altair-viz-f66a4f5ebf384fe08fe5196031cee986\"></div>\n",
              "<script type=\"text/javascript\">\n",
              "  var VEGA_DEBUG = (typeof VEGA_DEBUG == \"undefined\") ? {} : VEGA_DEBUG;\n",
              "  (function(spec, embedOpt){\n",
              "    let outputDiv = document.currentScript.previousElementSibling;\n",
              "    if (outputDiv.id !== \"altair-viz-f66a4f5ebf384fe08fe5196031cee986\") {\n",
              "      outputDiv = document.getElementById(\"altair-viz-f66a4f5ebf384fe08fe5196031cee986\");\n",
              "    }\n",
              "\n",
              "    const paths = {\n",
              "      \"vega\": \"https://cdn.jsdelivr.net/npm/vega@5?noext\",\n",
              "      \"vega-lib\": \"https://cdn.jsdelivr.net/npm/vega-lib?noext\",\n",
              "      \"vega-lite\": \"https://cdn.jsdelivr.net/npm/vega-lite@5.20.1?noext\",\n",
              "      \"vega-embed\": \"https://cdn.jsdelivr.net/npm/vega-embed@6?noext\",\n",
              "    };\n",
              "\n",
              "    function maybeLoadScript(lib, version) {\n",
              "      var key = `${lib.replace(\"-\", \"\")}_version`;\n",
              "      return (VEGA_DEBUG[key] == version) ?\n",
              "        Promise.resolve(paths[lib]) :\n",
              "        new Promise(function(resolve, reject) {\n",
              "          var s = document.createElement('script');\n",
              "          document.getElementsByTagName(\"head\")[0].appendChild(s);\n",
              "          s.async = true;\n",
              "          s.onload = () => {\n",
              "            VEGA_DEBUG[key] = version;\n",
              "            return resolve(paths[lib]);\n",
              "          };\n",
              "          s.onerror = () => reject(`Error loading script: ${paths[lib]}`);\n",
              "          s.src = paths[lib];\n",
              "        });\n",
              "    }\n",
              "\n",
              "    function showError(err) {\n",
              "      outputDiv.innerHTML = `<div class=\"error\" style=\"color:red;\">${err}</div>`;\n",
              "      throw err;\n",
              "    }\n",
              "\n",
              "    function displayChart(vegaEmbed) {\n",
              "      vegaEmbed(outputDiv, spec, embedOpt)\n",
              "        .catch(err => showError(`Javascript Error: ${err.message}<br>This usually means there's a typo in your chart specification. See the javascript console for the full traceback.`));\n",
              "    }\n",
              "\n",
              "    if(typeof define === \"function\" && define.amd) {\n",
              "      requirejs.config({paths});\n",
              "      let deps = [\"vega-embed\"];\n",
              "      require(deps, displayChart, err => showError(`Error loading script: ${err.message}`));\n",
              "    } else {\n",
              "      maybeLoadScript(\"vega\", \"5\")\n",
              "        .then(() => maybeLoadScript(\"vega-lite\", \"5.20.1\"))\n",
              "        .then(() => maybeLoadScript(\"vega-embed\", \"6\"))\n",
              "        .catch(showError)\n",
              "        .then(() => displayChart(vegaEmbed));\n",
              "    }\n",
              "  })({\"config\": {\"view\": {\"continuousWidth\": 300, \"continuousHeight\": 300}}, \"layer\": [{\"mark\": {\"type\": \"circle\"}, \"encoding\": {\"x\": {\"field\": \"Rotten_Tomatoes_Rating\", \"type\": \"quantitative\"}, \"y\": {\"field\": \"IMDB_Rating\", \"type\": \"quantitative\"}}, \"name\": \"view_6\"}, {\"mark\": {\"type\": \"point\", \"size\": 100, \"stroke\": \"firebrick\", \"strokeWidth\": 1}, \"encoding\": {\"x\": {\"field\": \"Rotten_Tomatoes_Rating\", \"type\": \"quantitative\"}, \"y\": {\"field\": \"IMDB_Rating\", \"type\": \"quantitative\"}}, \"transform\": [{\"filter\": {\"or\": [{\"param\": \"param_10\"}, {\"param\": \"param_11\"}]}}]}, {\"mark\": {\"type\": \"text\", \"align\": \"right\", \"dx\": 4, \"dy\": -8, \"stroke\": \"white\", \"strokeWidth\": 2}, \"encoding\": {\"text\": {\"field\": \"Title\", \"type\": \"nominal\"}, \"x\": {\"field\": \"Rotten_Tomatoes_Rating\", \"type\": \"quantitative\"}, \"y\": {\"field\": \"IMDB_Rating\", \"type\": \"quantitative\"}}, \"transform\": [{\"filter\": {\"or\": [{\"param\": \"param_10\"}, {\"param\": \"param_11\"}]}}]}, {\"mark\": {\"type\": \"text\", \"align\": \"right\", \"dx\": 4, \"dy\": -8}, \"encoding\": {\"text\": {\"field\": \"Title\", \"type\": \"nominal\"}, \"x\": {\"field\": \"Rotten_Tomatoes_Rating\", \"type\": \"quantitative\"}, \"y\": {\"field\": \"IMDB_Rating\", \"type\": \"quantitative\"}}, \"transform\": [{\"filter\": {\"or\": [{\"param\": \"param_10\"}, {\"param\": \"param_11\"}]}}]}], \"data\": {\"url\": \"https://cdn.jsdelivr.net/npm/vega-datasets@1/data/movies.json\"}, \"height\": 450, \"params\": [{\"name\": \"param_10\", \"select\": {\"type\": \"point\", \"nearest\": true, \"on\": \"mouseover\", \"toggle\": false}, \"views\": [\"view_6\"]}, {\"name\": \"param_11\", \"select\": {\"type\": \"point\"}, \"views\": [\"view_6\"]}], \"width\": 600, \"$schema\": \"https://vega.github.io/schema/vega-lite/v5.20.1.json\"}, {\"mode\": \"vega-lite\"});\n",
              "</script>"
            ],
            "text/plain": [
              "alt.LayerChart(...)"
            ]
          },
          "metadata": {},
          "execution_count": 20
        }
      ],
      "source": [
        "hover = alt.selection_point(\n",
        "    on='mouseover',  # selecionar no mouseover\n",
        "    nearest=True,    # seleciona o ponto mais próximo do cursor\n",
        "    empty='none',    # seleção vazia não deve corresponder a nada\n",
        "    toggle=False     # remove o shift + mouseover\n",
        ")\n",
        "\n",
        "click = alt.selection_point(\n",
        "    empty='none' # seleção vazia não corresponde a nenhum ponto\n",
        ")\n",
        "\n",
        "# codificações do scatter plot compartilhadas por todas as marcas\n",
        "plot = alt.Chart().mark_circle().encode(\n",
        "    x='Rotten_Tomatoes_Rating:Q',\n",
        "    y='IMDB_Rating:Q'\n",
        ")\n",
        "\n",
        "# base compartilhada por novas camadas\n",
        "base = plot.transform_filter(\n",
        "    hover | click # filtrar os pontos em ambas as direções\n",
        ")\n",
        "\n",
        "# camada com pontos do scatter plot, anotação circular, e títulos dos rótulos\n",
        "alt.layer(\n",
        "    plot.add_params(hover).add_params(click),\n",
        "    base.mark_point(size=100, stroke='firebrick', strokeWidth=1),\n",
        "    base.mark_text(dx=4, dy=-8, align='right', stroke='white', strokeWidth=2).encode(text='Title:N'),\n",
        "    base.mark_text(dx=4, dy=-8, align='right').encode(text='Title:N'),\n",
        "    data=movies\n",
        ").properties(\n",
        "    width=600,\n",
        "    height=450\n",
        ")"
      ]
    },
    {
      "cell_type": "markdown",
      "metadata": {
        "id": "OFFXFaBRCjeC"
      },
      "source": [
        "O exemplo acima adiciona três novas camadas ao scatter plot: uma anotação circular, texto branco para fornecer um fundo legível, e texto preto mostrando o título de um filme. Além disso, este exemplo usa duas seleções em conjunto:\n",
        "\n",
        "1. Uma seleção única (`hover`) que inclui `nearest=True` para selecionar automaticamente o ponto mais próximo conforme o cursor se move.\n",
        "2. Uma seleção múltipla (`click`) para criar seleções persistentes via shift-click.\n",
        "\n",
        "Ambas as seleções incluem o conjunto `empty='none'` para indicar que nenhum ponto deve ser incluído se uma seleção estiver vazia. Estas seleções são então combinadas em uma único predicado &mdash; o *ou* lógico de `hover` e `click` &mdash; para incluir pontos que residem em *qualquer* seleção. Nós usamos esta condição para filtrar as novas camadas para mostrar anotações e rótulos apenas para pontos selecionados.\n",
        "\n",
        "Usando seleções e camadas, nós podemos realizar vários designs diferentes para obter detalhes sob demanda! Por exemplo, aqui está uma série temporal em escala logarítmica de preços de ações de tecnologia, anotada com uma diretriz e categorias para a data mais próxima do cursor:"
      ]
    },
    {
      "cell_type": "code",
      "execution_count": 21,
      "metadata": {
        "id": "yZ2GCFZXCjeD",
        "outputId": "85faa877-0674-46a0-b7ff-72e5c66769f9",
        "colab": {
          "base_uri": "https://localhost:8080/",
          "height": 467
        }
      },
      "outputs": [
        {
          "output_type": "execute_result",
          "data": {
            "text/html": [
              "\n",
              "<style>\n",
              "  #altair-viz-33c74d99dbfa41ed808f1fc0c24c73f3.vega-embed {\n",
              "    width: 100%;\n",
              "    display: flex;\n",
              "  }\n",
              "\n",
              "  #altair-viz-33c74d99dbfa41ed808f1fc0c24c73f3.vega-embed details,\n",
              "  #altair-viz-33c74d99dbfa41ed808f1fc0c24c73f3.vega-embed details summary {\n",
              "    position: relative;\n",
              "  }\n",
              "</style>\n",
              "<div id=\"altair-viz-33c74d99dbfa41ed808f1fc0c24c73f3\"></div>\n",
              "<script type=\"text/javascript\">\n",
              "  var VEGA_DEBUG = (typeof VEGA_DEBUG == \"undefined\") ? {} : VEGA_DEBUG;\n",
              "  (function(spec, embedOpt){\n",
              "    let outputDiv = document.currentScript.previousElementSibling;\n",
              "    if (outputDiv.id !== \"altair-viz-33c74d99dbfa41ed808f1fc0c24c73f3\") {\n",
              "      outputDiv = document.getElementById(\"altair-viz-33c74d99dbfa41ed808f1fc0c24c73f3\");\n",
              "    }\n",
              "\n",
              "    const paths = {\n",
              "      \"vega\": \"https://cdn.jsdelivr.net/npm/vega@5?noext\",\n",
              "      \"vega-lib\": \"https://cdn.jsdelivr.net/npm/vega-lib?noext\",\n",
              "      \"vega-lite\": \"https://cdn.jsdelivr.net/npm/vega-lite@5.20.1?noext\",\n",
              "      \"vega-embed\": \"https://cdn.jsdelivr.net/npm/vega-embed@6?noext\",\n",
              "    };\n",
              "\n",
              "    function maybeLoadScript(lib, version) {\n",
              "      var key = `${lib.replace(\"-\", \"\")}_version`;\n",
              "      return (VEGA_DEBUG[key] == version) ?\n",
              "        Promise.resolve(paths[lib]) :\n",
              "        new Promise(function(resolve, reject) {\n",
              "          var s = document.createElement('script');\n",
              "          document.getElementsByTagName(\"head\")[0].appendChild(s);\n",
              "          s.async = true;\n",
              "          s.onload = () => {\n",
              "            VEGA_DEBUG[key] = version;\n",
              "            return resolve(paths[lib]);\n",
              "          };\n",
              "          s.onerror = () => reject(`Error loading script: ${paths[lib]}`);\n",
              "          s.src = paths[lib];\n",
              "        });\n",
              "    }\n",
              "\n",
              "    function showError(err) {\n",
              "      outputDiv.innerHTML = `<div class=\"error\" style=\"color:red;\">${err}</div>`;\n",
              "      throw err;\n",
              "    }\n",
              "\n",
              "    function displayChart(vegaEmbed) {\n",
              "      vegaEmbed(outputDiv, spec, embedOpt)\n",
              "        .catch(err => showError(`Javascript Error: ${err.message}<br>This usually means there's a typo in your chart specification. See the javascript console for the full traceback.`));\n",
              "    }\n",
              "\n",
              "    if(typeof define === \"function\" && define.amd) {\n",
              "      requirejs.config({paths});\n",
              "      let deps = [\"vega-embed\"];\n",
              "      require(deps, displayChart, err => showError(`Error loading script: ${err.message}`));\n",
              "    } else {\n",
              "      maybeLoadScript(\"vega\", \"5\")\n",
              "        .then(() => maybeLoadScript(\"vega-lite\", \"5.20.1\"))\n",
              "        .then(() => maybeLoadScript(\"vega-embed\", \"6\"))\n",
              "        .catch(showError)\n",
              "        .then(() => displayChart(vegaEmbed));\n",
              "    }\n",
              "  })({\"config\": {\"view\": {\"continuousWidth\": 300, \"continuousHeight\": 300}}, \"layer\": [{\"mark\": {\"type\": \"line\"}, \"encoding\": {\"color\": {\"field\": \"symbol\", \"type\": \"nominal\"}, \"x\": {\"field\": \"date\", \"type\": \"temporal\"}, \"y\": {\"field\": \"price\", \"scale\": {\"type\": \"log\"}, \"type\": \"quantitative\"}}}, {\"mark\": {\"type\": \"rule\", \"color\": \"#aaa\"}, \"encoding\": {\"x\": {\"field\": \"date\", \"type\": \"temporal\"}}, \"transform\": [{\"filter\": {\"param\": \"param_12\", \"empty\": false}}]}, {\"mark\": {\"type\": \"circle\"}, \"encoding\": {\"color\": {\"field\": \"symbol\", \"type\": \"nominal\"}, \"opacity\": {\"condition\": {\"param\": \"param_12\", \"value\": 1, \"empty\": false}, \"value\": 0}, \"x\": {\"field\": \"date\", \"type\": \"temporal\"}, \"y\": {\"field\": \"price\", \"scale\": {\"type\": \"log\"}, \"type\": \"quantitative\"}}, \"name\": \"view_7\"}, {\"mark\": {\"type\": \"text\", \"align\": \"left\", \"dx\": 5, \"dy\": -5, \"stroke\": \"white\", \"strokeWidth\": 2}, \"encoding\": {\"color\": {\"field\": \"symbol\", \"type\": \"nominal\"}, \"text\": {\"field\": \"price\", \"type\": \"quantitative\"}, \"x\": {\"field\": \"date\", \"type\": \"temporal\"}, \"y\": {\"field\": \"price\", \"scale\": {\"type\": \"log\"}, \"type\": \"quantitative\"}}, \"transform\": [{\"filter\": {\"param\": \"param_12\", \"empty\": false}}]}, {\"mark\": {\"type\": \"text\", \"align\": \"left\", \"dx\": 5, \"dy\": -5}, \"encoding\": {\"color\": {\"field\": \"symbol\", \"type\": \"nominal\"}, \"text\": {\"field\": \"price\", \"type\": \"quantitative\"}, \"x\": {\"field\": \"date\", \"type\": \"temporal\"}, \"y\": {\"field\": \"price\", \"scale\": {\"type\": \"log\"}, \"type\": \"quantitative\"}}, \"transform\": [{\"filter\": {\"param\": \"param_12\", \"empty\": false}}]}], \"data\": {\"url\": \"https://cdn.jsdelivr.net/npm/vega-datasets@1/data/stocks.csv\"}, \"height\": 400, \"params\": [{\"name\": \"param_12\", \"select\": {\"type\": \"point\", \"encodings\": [\"x\"], \"nearest\": true, \"on\": \"mouseover\"}, \"views\": [\"view_7\"]}], \"width\": 700, \"$schema\": \"https://vega.github.io/schema/vega-lite/v5.20.1.json\"}, {\"mode\": \"vega-lite\"});\n",
              "</script>"
            ],
            "text/plain": [
              "alt.LayerChart(...)"
            ]
          },
          "metadata": {},
          "execution_count": 21
        }
      ],
      "source": [
        "# seleciona um ponto para o qual oferece detalhes sob demanda\n",
        "label = alt.selection_point(\n",
        "    encodings=['x'], # limita a seleção ao valor do eixo x\n",
        "    on='mouseover',  # seleciona em eventos mouseover\n",
        "    nearest=True,    # seleciona o ponto mais próximo do cursor\n",
        "    empty='none'     # seleção vazia não inclui nenhum ponto\n",
        ")\n",
        "\n",
        "# define nosso gráfico de linha dos preços das ações\n",
        "base = alt.Chart().mark_line().encode(\n",
        "    alt.X('date:T'),\n",
        "    alt.Y('price:Q', scale=alt.Scale(type='log')),\n",
        "    alt.Color('symbol:N')\n",
        ")\n",
        "\n",
        "alt.layer(\n",
        "    base, # gráfico de linha base\n",
        "\n",
        "    # adiciona uma marca para servir como linha guia\n",
        "    alt.Chart().mark_rule(color='#aaa').encode(\n",
        "        x='date:T'\n",
        "    ).transform_filter(label),\n",
        "\n",
        "    # adiciona marcas circulares para pontos de tempo selecionados, oculta pontos não selecionados\n",
        "    base.mark_circle().encode(\n",
        "        opacity=alt.condition(label, alt.value(1), alt.value(0))\n",
        "    ).add_params(label),\n",
        "\n",
        "    # adiciona texto branco para oferecer um fundo legível para rótulos\n",
        "    base.mark_text(align='left', dx=5, dy=-5, stroke='white', strokeWidth=2).encode(\n",
        "        text='price:Q'\n",
        "    ).transform_filter(label),\n",
        "\n",
        "    # adiciona rótulos de texto para o preços das ações\n",
        "    base.mark_text(align='left', dx=5, dy=-5).encode(\n",
        "        text='price:Q'\n",
        "    ).transform_filter(label),\n",
        "\n",
        "    data=stocks\n",
        ").properties(\n",
        "    width=700,\n",
        "    height=400\n",
        ")"
      ]
    },
    {
      "cell_type": "markdown",
      "metadata": {
        "id": "zP9Pd7EwCjeD"
      },
      "source": [
        "*Colocando em ação o que nós aprendemos até agora: você pode modificar o scatter plot do filme acima (aquele com a consulta dinâmica ao longo dos anos) para incluir uma marca `rule` que mostra a classificação média do IMDB (ou Rotten Tomatoes) para os dados contidos na seleção `interval` do ano?*"
      ]
    },
    {
      "cell_type": "markdown",
      "metadata": {
        "id": "LTgkv-osCjeD"
      },
      "source": [
        "## <font color=\"#747a7f\">6.7</font> Brushing & Linking, Revisão"
      ]
    },
    {
      "cell_type": "markdown",
      "metadata": {
        "id": "YitcHHDuCjeE"
      },
      "source": [
        "Anteriormente neste notebook nós vimos um exemplo de *brushing & linking*: usando um histograma de consulta dinâmica para destacar pontos em um scatter plot de classificação de filme. Aqui, nós visitaremos alguns exemplos adicionais envolvendo seleções vinculadas.\n",
        "\n",
        "Voltando ao dataset `cars`, nós podemos usar o operador `repeat` para construir uma [matriz de scatter plot (SPLOM)](https://en.wikipedia.org/wiki/Scatter_plot#Scatterplot_matrices) que mostra associações entre quilometragem, aceleração e cavalos de potência. Nós podemos definir uma seleção  `interval` e incluí-la *dentro* de nossa especificação de scatter plot repetido para permitir seleções vinculadas entre todos os gráficos.\n",
        "\n",
        "*Clique e arraste em qualquer uma das visualizações abaixo para realizar o brushing & linking!*"
      ]
    },
    {
      "cell_type": "code",
      "execution_count": 22,
      "metadata": {
        "id": "1H5x6TRpCjeE",
        "outputId": "314346d8-f5aa-4753-e75e-df83e4605648",
        "colab": {
          "base_uri": "https://localhost:8080/",
          "height": 597
        }
      },
      "outputs": [
        {
          "output_type": "execute_result",
          "data": {
            "text/html": [
              "\n",
              "<style>\n",
              "  #altair-viz-1c7654297a4c4354ade11e7547092248.vega-embed {\n",
              "    width: 100%;\n",
              "    display: flex;\n",
              "  }\n",
              "\n",
              "  #altair-viz-1c7654297a4c4354ade11e7547092248.vega-embed details,\n",
              "  #altair-viz-1c7654297a4c4354ade11e7547092248.vega-embed details summary {\n",
              "    position: relative;\n",
              "  }\n",
              "</style>\n",
              "<div id=\"altair-viz-1c7654297a4c4354ade11e7547092248\"></div>\n",
              "<script type=\"text/javascript\">\n",
              "  var VEGA_DEBUG = (typeof VEGA_DEBUG == \"undefined\") ? {} : VEGA_DEBUG;\n",
              "  (function(spec, embedOpt){\n",
              "    let outputDiv = document.currentScript.previousElementSibling;\n",
              "    if (outputDiv.id !== \"altair-viz-1c7654297a4c4354ade11e7547092248\") {\n",
              "      outputDiv = document.getElementById(\"altair-viz-1c7654297a4c4354ade11e7547092248\");\n",
              "    }\n",
              "\n",
              "    const paths = {\n",
              "      \"vega\": \"https://cdn.jsdelivr.net/npm/vega@5?noext\",\n",
              "      \"vega-lib\": \"https://cdn.jsdelivr.net/npm/vega-lib?noext\",\n",
              "      \"vega-lite\": \"https://cdn.jsdelivr.net/npm/vega-lite@5.20.1?noext\",\n",
              "      \"vega-embed\": \"https://cdn.jsdelivr.net/npm/vega-embed@6?noext\",\n",
              "    };\n",
              "\n",
              "    function maybeLoadScript(lib, version) {\n",
              "      var key = `${lib.replace(\"-\", \"\")}_version`;\n",
              "      return (VEGA_DEBUG[key] == version) ?\n",
              "        Promise.resolve(paths[lib]) :\n",
              "        new Promise(function(resolve, reject) {\n",
              "          var s = document.createElement('script');\n",
              "          document.getElementsByTagName(\"head\")[0].appendChild(s);\n",
              "          s.async = true;\n",
              "          s.onload = () => {\n",
              "            VEGA_DEBUG[key] = version;\n",
              "            return resolve(paths[lib]);\n",
              "          };\n",
              "          s.onerror = () => reject(`Error loading script: ${paths[lib]}`);\n",
              "          s.src = paths[lib];\n",
              "        });\n",
              "    }\n",
              "\n",
              "    function showError(err) {\n",
              "      outputDiv.innerHTML = `<div class=\"error\" style=\"color:red;\">${err}</div>`;\n",
              "      throw err;\n",
              "    }\n",
              "\n",
              "    function displayChart(vegaEmbed) {\n",
              "      vegaEmbed(outputDiv, spec, embedOpt)\n",
              "        .catch(err => showError(`Javascript Error: ${err.message}<br>This usually means there's a typo in your chart specification. See the javascript console for the full traceback.`));\n",
              "    }\n",
              "\n",
              "    if(typeof define === \"function\" && define.amd) {\n",
              "      requirejs.config({paths});\n",
              "      let deps = [\"vega-embed\"];\n",
              "      require(deps, displayChart, err => showError(`Error loading script: ${err.message}`));\n",
              "    } else {\n",
              "      maybeLoadScript(\"vega\", \"5\")\n",
              "        .then(() => maybeLoadScript(\"vega-lite\", \"5.20.1\"))\n",
              "        .then(() => maybeLoadScript(\"vega-embed\", \"6\"))\n",
              "        .catch(showError)\n",
              "        .then(() => displayChart(vegaEmbed));\n",
              "    }\n",
              "  })({\"config\": {\"view\": {\"continuousWidth\": 300, \"continuousHeight\": 300}}, \"repeat\": {\"column\": [\"Acceleration\", \"Horsepower\", \"Miles_per_Gallon\"], \"row\": [\"Miles_per_Gallon\", \"Horsepower\", \"Acceleration\"]}, \"spec\": {\"data\": {\"url\": \"https://cdn.jsdelivr.net/npm/vega-datasets@1/data/cars.json\"}, \"mark\": {\"type\": \"circle\"}, \"encoding\": {\"color\": {\"condition\": {\"param\": \"param_13\", \"field\": \"Cylinders\", \"type\": \"ordinal\"}, \"value\": \"grey\"}, \"opacity\": {\"condition\": {\"param\": \"param_13\", \"value\": 0.8}, \"value\": 0.1}, \"x\": {\"field\": {\"repeat\": \"column\"}, \"type\": \"quantitative\"}, \"y\": {\"field\": {\"repeat\": \"row\"}, \"type\": \"quantitative\"}}, \"height\": 140, \"name\": \"view_8\", \"width\": 140}, \"params\": [{\"name\": \"param_13\", \"select\": {\"type\": \"interval\", \"resolve\": \"global\"}, \"views\": [\"view_8_child__row_Miles_per_Galloncolumn_Acceleration\", \"view_8_child__row_Miles_per_Galloncolumn_Horsepower\", \"view_8_child__row_Miles_per_Galloncolumn_Miles_per_Gallon\", \"view_8_child__row_Horsepowercolumn_Acceleration\", \"view_8_child__row_Horsepowercolumn_Horsepower\", \"view_8_child__row_Horsepowercolumn_Miles_per_Gallon\", \"view_8_child__row_Accelerationcolumn_Acceleration\", \"view_8_child__row_Accelerationcolumn_Horsepower\", \"view_8_child__row_Accelerationcolumn_Miles_per_Gallon\"]}], \"$schema\": \"https://vega.github.io/schema/vega-lite/v5.20.1.json\"}, {\"mode\": \"vega-lite\"});\n",
              "</script>"
            ],
            "text/plain": [
              "alt.RepeatChart(...)"
            ]
          },
          "metadata": {},
          "execution_count": 22
        }
      ],
      "source": [
        "brush = alt.selection_interval(\n",
        "    resolve='global' # resolve todas as seleções para uma única instância global\n",
        ")\n",
        "\n",
        "alt.Chart(cars).mark_circle().add_params(\n",
        "    brush\n",
        ").encode(\n",
        "    alt.X(alt.repeat('column'), type='quantitative'),\n",
        "    alt.Y(alt.repeat('row'), type='quantitative'),\n",
        "    color=alt.condition(brush, 'Cylinders:O', alt.value('grey')),\n",
        "    opacity=alt.condition(brush, alt.value(0.8), alt.value(0.1))\n",
        ").properties(\n",
        "    width=140,\n",
        "    height=140\n",
        ").repeat(\n",
        "    column=['Acceleration', 'Horsepower', 'Miles_per_Gallon'],\n",
        "    row=['Miles_per_Gallon', 'Horsepower', 'Acceleration']\n",
        ")"
      ]
    },
    {
      "cell_type": "markdown",
      "metadata": {
        "id": "qLpHS__oCjeE"
      },
      "source": [
        "Observe acima o uso de `resolve='global'` na seleção `interval`. A configuração padrão `'global'` indica que em todos os gráficos apenas um brush pode estar ativo por vez. Entretanto, em alguns casos, nós poderíamos querer definir brushes em vários gráficos e combinar os resultados. Se nós usarmos `resolve='union'`, a seleção será a *união* de todos os brushes: se um ponto estiver dentro de qualquer brush ele será selecionado. Alternativamente, se usarmos `resolve='intersect'`, a seleção consistirá na *interseção* de todos os brushes: apenas os pontos que estão dentro de todos os brushes serão selecionados.\n",
        "\n",
        "*Tente definir o parâmetro `resolve` para `'union'` e `'intersect'` e veja como isso muda a lógica da seleção resultante.*"
      ]
    },
    {
      "cell_type": "markdown",
      "metadata": {
        "id": "8eQjelPd3VML"
      },
      "source": [
        "### <font color=\"#747a7f\">6.7.1</font> Filtragem Cruzada\n",
        "\n",
        "Os exemplos de brushing & linking que nós analisamos até agora utilizam codificações condicionais, por exemplo para alterar valores de opacidade em resposta a uma seleção. Outra opção é usar uma seleção definida em uma visualização para *filtrar* o conteúdo de outra visualização.\n",
        "\n",
        "Vamos construir uma coleção de histogramas para o dataset `flights`: o `delay` de chegada (o quão cedo ou tarde um voo chega, em minutos), `distance` (a distância percorrida em milhas) e `time` (hora do dia da partida). Nós usaremos o operador `repeat` para criar os histogramas e adicionar uma seleção de intervalo (`interval`) para o eixo `x`, com seleções filtradas pela interseção (brush).\n",
        "\n",
        "Em particular, cada histograma consistirá em duas camadas: uma camada de fundo cinza e uma camada de primeiro plano azul, com a camada de primeiro plano filtrada pela interseção das seleções brush. O resultado é uma interação de *filtragem cruzada* entre os três gráficos!\n",
        "\n",
        "*Arraste os intervalos de seleção nos gráficos abaixo. Ao selecionar voos com maiores ou menores atrasos na chegada, como as distribuições de distância e horário reagem?*\n"
      ]
    },
    {
      "cell_type": "code",
      "execution_count": 23,
      "metadata": {
        "id": "sdmYCRV43VML",
        "outputId": "4b49933e-269c-4ecc-e41e-05f004fd879e",
        "colab": {
          "base_uri": "https://localhost:8080/",
          "height": 482
        }
      },
      "outputs": [
        {
          "output_type": "execute_result",
          "data": {
            "text/html": [
              "\n",
              "<style>\n",
              "  #altair-viz-30f2ed1e691841b6b89cb16d69afd95a.vega-embed {\n",
              "    width: 100%;\n",
              "    display: flex;\n",
              "  }\n",
              "\n",
              "  #altair-viz-30f2ed1e691841b6b89cb16d69afd95a.vega-embed details,\n",
              "  #altair-viz-30f2ed1e691841b6b89cb16d69afd95a.vega-embed details summary {\n",
              "    position: relative;\n",
              "  }\n",
              "</style>\n",
              "<div id=\"altair-viz-30f2ed1e691841b6b89cb16d69afd95a\"></div>\n",
              "<script type=\"text/javascript\">\n",
              "  var VEGA_DEBUG = (typeof VEGA_DEBUG == \"undefined\") ? {} : VEGA_DEBUG;\n",
              "  (function(spec, embedOpt){\n",
              "    let outputDiv = document.currentScript.previousElementSibling;\n",
              "    if (outputDiv.id !== \"altair-viz-30f2ed1e691841b6b89cb16d69afd95a\") {\n",
              "      outputDiv = document.getElementById(\"altair-viz-30f2ed1e691841b6b89cb16d69afd95a\");\n",
              "    }\n",
              "\n",
              "    const paths = {\n",
              "      \"vega\": \"https://cdn.jsdelivr.net/npm/vega@5?noext\",\n",
              "      \"vega-lib\": \"https://cdn.jsdelivr.net/npm/vega-lib?noext\",\n",
              "      \"vega-lite\": \"https://cdn.jsdelivr.net/npm/vega-lite@5.20.1?noext\",\n",
              "      \"vega-embed\": \"https://cdn.jsdelivr.net/npm/vega-embed@6?noext\",\n",
              "    };\n",
              "\n",
              "    function maybeLoadScript(lib, version) {\n",
              "      var key = `${lib.replace(\"-\", \"\")}_version`;\n",
              "      return (VEGA_DEBUG[key] == version) ?\n",
              "        Promise.resolve(paths[lib]) :\n",
              "        new Promise(function(resolve, reject) {\n",
              "          var s = document.createElement('script');\n",
              "          document.getElementsByTagName(\"head\")[0].appendChild(s);\n",
              "          s.async = true;\n",
              "          s.onload = () => {\n",
              "            VEGA_DEBUG[key] = version;\n",
              "            return resolve(paths[lib]);\n",
              "          };\n",
              "          s.onerror = () => reject(`Error loading script: ${paths[lib]}`);\n",
              "          s.src = paths[lib];\n",
              "        });\n",
              "    }\n",
              "\n",
              "    function showError(err) {\n",
              "      outputDiv.innerHTML = `<div class=\"error\" style=\"color:red;\">${err}</div>`;\n",
              "      throw err;\n",
              "    }\n",
              "\n",
              "    function displayChart(vegaEmbed) {\n",
              "      vegaEmbed(outputDiv, spec, embedOpt)\n",
              "        .catch(err => showError(`Javascript Error: ${err.message}<br>This usually means there's a typo in your chart specification. See the javascript console for the full traceback.`));\n",
              "    }\n",
              "\n",
              "    if(typeof define === \"function\" && define.amd) {\n",
              "      requirejs.config({paths});\n",
              "      let deps = [\"vega-embed\"];\n",
              "      require(deps, displayChart, err => showError(`Error loading script: ${err.message}`));\n",
              "    } else {\n",
              "      maybeLoadScript(\"vega\", \"5\")\n",
              "        .then(() => maybeLoadScript(\"vega-lite\", \"5.20.1\"))\n",
              "        .then(() => maybeLoadScript(\"vega-embed\", \"6\"))\n",
              "        .catch(showError)\n",
              "        .then(() => displayChart(vegaEmbed));\n",
              "    }\n",
              "  })({\"config\": {\"view\": {\"continuousWidth\": 300, \"continuousHeight\": 300, \"stroke\": \"transparent\"}}, \"repeat\": {\"row\": [\"delay\", \"distance\", \"time\"]}, \"spec\": {\"layer\": [{\"mark\": {\"type\": \"bar\"}, \"encoding\": {\"color\": {\"value\": \"lightgrey\"}, \"x\": {\"axis\": {\"format\": \"d\", \"titleAnchor\": \"start\"}, \"bin\": {\"maxbins\": 100, \"minstep\": 1}, \"field\": {\"repeat\": \"row\"}, \"type\": \"quantitative\"}, \"y\": {\"aggregate\": \"count\", \"title\": null, \"type\": \"quantitative\"}}, \"name\": \"view_9\"}, {\"mark\": {\"type\": \"bar\"}, \"encoding\": {\"x\": {\"axis\": {\"format\": \"d\", \"titleAnchor\": \"start\"}, \"bin\": {\"maxbins\": 100, \"minstep\": 1}, \"field\": {\"repeat\": \"row\"}, \"type\": \"quantitative\"}, \"y\": {\"aggregate\": \"count\", \"title\": null, \"type\": \"quantitative\"}}, \"transform\": [{\"filter\": {\"param\": \"param_14\"}}]}], \"height\": 100, \"width\": 900}, \"data\": {\"url\": \"https://cdn.jsdelivr.net/npm/vega-datasets@1/data/flights-5k.json\"}, \"params\": [{\"name\": \"param_14\", \"select\": {\"type\": \"interval\", \"encodings\": [\"x\"], \"resolve\": \"intersect\"}, \"views\": [\"child__row_delay_view_9\", \"child__row_distance_view_9\", \"child__row_time_view_9\"]}], \"transform\": [{\"calculate\": \"datum.delay < 180 ? datum.delay : 180\", \"as\": \"delay\"}, {\"calculate\": \"hours(datum.date) + minutes(datum.date) / 60\", \"as\": \"time\"}], \"$schema\": \"https://vega.github.io/schema/vega-lite/v5.20.1.json\"}, {\"mode\": \"vega-lite\"});\n",
              "</script>"
            ],
            "text/plain": [
              "alt.RepeatChart(...)"
            ]
          },
          "metadata": {},
          "execution_count": 23
        }
      ],
      "source": [
        "brush = alt.selection_interval(\n",
        "    encodings=['x'],\n",
        "    resolve='intersect'\n",
        ");\n",
        "\n",
        "hist = alt.Chart().mark_bar().encode(\n",
        "    alt.X(alt.repeat('row'), type='quantitative',\n",
        "        bin=alt.Bin(maxbins=100, minstep=1), # até 100 intervalos\n",
        "        axis=alt.Axis(format='d', titleAnchor='start') # formato inteiro, título alinhado à esquerda\n",
        "    ),\n",
        "    alt.Y('count():Q', title=None) # sem título no eixo y\n",
        ")\n",
        "\n",
        "alt.layer(\n",
        "    hist.add_params(brush).encode(color=alt.value('lightgrey')),\n",
        "    hist.transform_filter(brush)\n",
        ").properties(\n",
        "    width=900,\n",
        "    height=100\n",
        ").repeat(\n",
        "    row=['delay', 'distance', 'time'],\n",
        "    data=flights\n",
        ").transform_calculate(\n",
        "    delay='datum.delay < 180 ? datum.delay : 180', # fixa atrasos maiores que 3 horas em 180 minutos\n",
        "    time='hours(datum.date) + minutes(datum.date) / 60' # horas fracionárias\n",
        ").configure_view(\n",
        "    stroke='transparent' # sem outline\n",
        ")"
      ]
    },
    {
      "cell_type": "markdown",
      "metadata": {
        "id": "W3vuyVhF3VML"
      },
      "source": [
        "*Com a filtragem cruzada, você pode observar que voos atrasados têm mais chance de partir em horários mais tardios. Esse fenômeno é familiar para viajantes frequentes: um atraso pode se propagar ao longo do dia, afetando os voos subsequentes da mesma aeronave. Para aumentar as chances de uma chegada pontual, reserve um voo mais cedo!*\n",
        "\n",
        "A combinação de múltiplas visualizações e seleções interativas pode possibilitar formas valiosas de análise multidimensional, transformando até mesmo histogramas básicos em poderosas ferramentas para fazer perguntas a um dataset!\n"
      ]
    },
    {
      "cell_type": "markdown",
      "metadata": {
        "id": "E_hDxp6V3VML"
      },
      "source": [
        "## <font color=\"#747a7f\">6.8</font> Sumário"
      ]
    },
    {
      "cell_type": "markdown",
      "metadata": {
        "id": "CR6_J5vX3VMM"
      },
      "source": [
        "Para mais informações sobre as opções de interação suportadas no Altair, por favor consulte a [documentação de seleção interativa do Altair](https://altair-viz.github.io/user_guide/interactions.html). Para detalhes sobre como personalizar manipuladores de eventos, por exemplo para compor várias técnicas de interação ou suportar entrada por toque em dispositivos móveis, consulte a [documentação de seleção do Vega-Lite](https://vega.github.io/vega-lite/docs/selection.html).\n",
        "\n",
        "Interessado em aprender mais? - A abstração de *seleção* foi introduzida no artigo [Vega-Lite: A Grammar of Interactive Graphics](http://idl.cs.washington.edu/papers/vega-lite/), de Satyanarayan, Moritz, Wongsuphasawat e Heer. - O sistema PRIM-9 (para projeção, rotação, isolamento e mascaramento em até 9 dimensões) é uma das primeiras ferramentas de visualização interativas, desenvolvida no início dos anos 1970 por Fisherkeller, Tukey e Friedman. [Um vídeo demo retro ainda existe!](https://www.youtube.com/watch?v=B7XoW2qiFUA) - O conceito de brushing & linking foi consolidado por Becker, Cleveland e Wilks no artigo de 1987 [Dynamic Graphics for Data Analysis](https://scholar.google.com/scholar?cluster=14817303117298653693). - Para um resumo abrangente das técnicas de interação para visualização, consulte [Interactive Dynamics for Visual Analysis](https://queue.acm.org/detail.cfm?id=2146416) de Heer & Shneiderman. - Finalmente, para um tratado sobre o que torna a interação eficaz, leia o clássico artigo [Direct Manipulation Interfaces](https://scholar.google.com/scholar?cluster=15702972136892195211) de Hutchins, Hollan e Norman.\n"
      ]
    },
    {
      "cell_type": "markdown",
      "metadata": {
        "id": "Tb8HoZyr3VMM"
      },
      "source": [
        "#### <font color=\"#747a7f\">6.8.0.1</font> Apêndice: Sobre a Representação do Tempo\n",
        "\n",
        "Anteriormente, nós observamos um pequeno pico no número de filmes em 1969 e 1970. De onde vem esse pico? E por que 1969 *ou* 1970? A resposta vem de uma combinação de dados ausentes e como o seu computador representa o tempo.\n",
        "\n",
        "Internamente, datas e horários são representados em relação ao [epoch UNIX](https://en.wikipedia.org/wiki/Unix_time), onde o tempo \"zero\" corresponde à meia-noite de 1º de janeiro de 1970 no horário [UTC](https://en.wikipedia.org/wiki/Coordinated_Universal_Time), que segue o [meridiano principal](https://en.wikipedia.org/wiki/Prime_meridian). Acontece que há alguns filmes com datas de lançamento ausentes (`null`). Esses valores `null` são interpretados como tempo `0`, e, portanto, mapeados para 1º de janeiro de 1970 no horário UTC. Se você mora nas Américas – e, portanto, em fusos horários \"anteriores\" – esse ponto exato no tempo corresponde a uma hora anterior em 31 de dezembro de 1969 no seu fuso horário local. Por outro lado, se você mora perto ou a leste do meridiano principal, a data no seu fuso horário local será 1º de janeiro de 1970.\n",
        "\n",
        "A lição? Sempre seja cético com seus dados e tenha em mente que a forma como os dados são representados (seja como datas e horários, números de ponto flutuante, latitudes e longitudes, *etc.*) pode, por vezes, levar a artefatos que impactam a análise!\n"
      ]
    }
  ]
}