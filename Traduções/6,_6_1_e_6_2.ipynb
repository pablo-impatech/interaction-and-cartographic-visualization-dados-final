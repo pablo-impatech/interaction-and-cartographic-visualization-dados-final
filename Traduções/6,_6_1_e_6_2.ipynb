{
  "nbformat": 4,
  "nbformat_minor": 0,
  "metadata": {
    "colab": {
      "provenance": []
    },
    "kernelspec": {
      "name": "python3",
      "display_name": "Python 3"
    },
    "language_info": {
      "name": "python"
    }
  },
  "cells": [
    {
      "cell_type": "markdown",
      "source": [
        "# <font color=\"#747a7f\">6</font> Interação"
      ],
      "metadata": {
        "id": "-NjmRRfgRjfr"
      }
    },
    {
      "cell_type": "markdown",
      "source": [
        "<em>\"Um gráfico não é 'desenhado' de uma vez; ele é 'construído' e reconstruído até revelar todos os relacionamentos constituídos pelas relações entre os dados. As melhores operações de gráficos são aquelas feitas pelas decisões deles mesmos.\" — [Jacques Bertin](https://books.google.com/books?id=csqX_xnm4tcC)</em>\n",
        "\n",
        "A visualização oferece um poderoso método de dar sentido aos dados. Uma única imagem, entretanto, tipicamente oferece respostas para, no melhor dos casos, um punhado de perguntas. Pela *interação* nós podemos transformar imagens estáticas em ferramentas de exploração: destacando pontos de interesse, dando zoom para revelar padrões sutis, e fazer ligações entre visualizações múltiplas para pensar sobre relacionamentos multi-dimensionais.\n",
        "\n",
        "Nos fundamentos da interação está a noção de uma *seleção*: um método de indicar para o computador quais elementos ou regiões nós estamos interessados. Por exemplo, nós podemos passar o mouse sobre um ponto, clicar em várias marcas, ou desenhar um contorno ao redor de uma região para destacar subconjuntos de dados para investigações mais minuciosas.\n",
        "\n",
        "Além de codificações visuais e transformações de dados, o Altair oferece uma abstração *selection* para criar interações. Estas seleções encorporam três aspectos:\n",
        "\n",
        "1. Evento de tratamento de entrada para selecionar pontos ou regiões de interesse, assim como mouse hover, click, drag, scroll, e eventos de toque.\n",
        "2. Generalizar a partir de uma entrada para formar uma regra de seleção (ou <em>[predicado](https://en.wikipedia.org/wiki/Predicate_%28mathematical_logic%29)</em>) que determina se um dado registro está ou não na seleção.\n",
        "3. Usar o predicado de seleção para configurar dinamicamente uma visualização por meio de *codificações condicionais*, *transformações de filtro*, ou *domínios de escala*.\n",
        "\n",
        "Este notebook introduz seleções interativas e explora como usá-las para criar uma variedade de técnicas de interação, assim como consultas dinâmicas, panning & zooming, details-on-demand, e brushing & linking.\n",
        "\n",
        "Este notebook é parte do [data visualization curriculum](https://github.com/uwdata/visualization-curriculum)."
      ],
      "metadata": {
        "id": "1tUZpD0nRmlg"
      }
    },
    {
      "cell_type": "code",
      "source": [
        "import pandas as pd\n",
        "import altair as alt"
      ],
      "metadata": {
        "id": "wKl-dOVmjHTT"
      },
      "execution_count": null,
      "outputs": []
    },
    {
      "cell_type": "markdown",
      "source": [
        "## <font color=\"#747a7f\">6.1</font> Datasets"
      ],
      "metadata": {
        "id": "5uWnewk3kFqR"
      }
    },
    {
      "cell_type": "markdown",
      "source": [
        "Nós iremos visualizar uma variedade de datasets da coleção [vega-datasets](https://github.com/vega/vega-datasets):\n",
        "\n",
        "- Um dataset de carros (`cars`) dos anos 70 e início dos anos 80,\n",
        "- Um dataset de filmes (`movies`), previamente usados no notebook [Data Transformation](https://github.com/uwdata/visualization-curriculum/blob/master/altair_data_transformation.ipynb),\n",
        "- Um dataset contendo dez anos dos preços das ações [S&P 500](https://en.wikipedia.org/wiki/S%26P_500_Index) (`sp500`),\n",
        "- Um dataset de ações (`stocks`) de empresas de tecnologia, e\n",
        "- Um dataset de voos (`flights`), incluindo tempo de embarque, distância, e atraso no desembarque."
      ],
      "metadata": {
        "id": "X829NueekO0Z"
      }
    },
    {
      "cell_type": "code",
      "source": [
        "cars = 'https://cdn.jsdelivr.net/npm/vega-datasets@1/data/cars.json'\n",
        "movies = 'https://cdn.jsdelivr.net/npm/vega-datasets@1/data/movies.json'\n",
        "sp500 = 'https://cdn.jsdelivr.net/npm/vega-datasets@1/data/sp500.csv'\n",
        "stocks = 'https://cdn.jsdelivr.net/npm/vega-datasets@1/data/stocks.csv'\n",
        "flights = 'https://cdn.jsdelivr.net/npm/vega-datasets@1/data/flights-5k.json'"
      ],
      "metadata": {
        "id": "vHYupeCemTuV"
      },
      "execution_count": null,
      "outputs": []
    },
    {
      "cell_type": "markdown",
      "source": [
        "## <font color=\"#747a7f\">6.2</font> Introduzindo Seleções"
      ],
      "metadata": {
        "id": "_6H1mep4mYnW"
      }
    },
    {
      "cell_type": "markdown",
      "source": [
        "Vamos começar com uma seleção básica: simplesmente clicando um ponto para destacá-lo. Usando o dataset `cars`, nós iremos começar com um scatter plot de cavalos de potência versos milhas por galão, com uma codificação de cor para o número de cilíndros no motor do carro.\n",
        "\n",
        "Além disso, nós iremos criar uma instância de seleção chamando `alt.selection_point()`, indicando que nós queremos uma seleção definida sobre um único valor. Por padrão, a seleção usa um mouse click para determinar o valor selecionado. Para registrar uma seleção com o gráfico, nós devemos adicioná-lo usando o método `.add_params()`.\n",
        "\n",
        "Assim que nossa seleção é definida, nós podemos usá-la como um parâmetro para *codificações condicionais*, as quais aplicam uma codificação diferente a depender se um registro está dentro ou fora da seleção. Por exemplo, considere o seguinte código:"
      ],
      "metadata": {
        "id": "lVkuongXmgap"
      }
    },
    {
      "cell_type": "code",
      "source": [
        "color=alt.condition(selection, 'Cylinders:O', alt.value('grey'))"
      ],
      "metadata": {
        "id": "_YcHMdQ9p6ZU"
      },
      "execution_count": null,
      "outputs": []
    },
    {
      "cell_type": "markdown",
      "source": [
        "Esta definição de codificação declara que pontos contidos na `selection` devem ser coloridos de acordo ao campo `Cylinder`, enquanto pontos não-selecionados devem usar um cinza padrão. Uma seleção vazia inclue *todos* os pontos, e então inicialmente todos os pontos irão ser coloridos.\n",
        "\n",
        "*Tente clicar em diferentes pontos do gráfico abaixo com click e shift-ckick. O que acontece? (Clique no fundo para limpar a declaração da seleção e retornar para uma seleção \"vazia\".)*"
      ],
      "metadata": {
        "id": "P_6t_2bPqKTB"
      }
    },
    {
      "cell_type": "code",
      "source": [
        "selection = alt.selection_point();\n",
        "\n",
        "alt.Chart(cars).mark_circle().add_params(\n",
        "    selection\n",
        ").encode(\n",
        "    x='Horsepower:Q',\n",
        "    y='Miles_per_Gallon:Q',\n",
        "    color=alt.condition(selection, 'Cylinders:O', alt.value('grey')),\n",
        "    opacity=alt.condition(selection, alt.value(0.8), alt.value(0.1))\n",
        ")"
      ],
      "metadata": {
        "colab": {
          "base_uri": "https://localhost:8080/",
          "height": 367
        },
        "id": "GUsgWIdQru7_",
        "outputId": "cb8d7922-ede0-442a-ea1f-beac6b591192"
      },
      "execution_count": null,
      "outputs": [
        {
          "output_type": "execute_result",
          "data": {
            "text/html": [
              "\n",
              "<style>\n",
              "  #altair-viz-b4d6fdb9954441ecafe36289cffd1b24.vega-embed {\n",
              "    width: 100%;\n",
              "    display: flex;\n",
              "  }\n",
              "\n",
              "  #altair-viz-b4d6fdb9954441ecafe36289cffd1b24.vega-embed details,\n",
              "  #altair-viz-b4d6fdb9954441ecafe36289cffd1b24.vega-embed details summary {\n",
              "    position: relative;\n",
              "  }\n",
              "</style>\n",
              "<div id=\"altair-viz-b4d6fdb9954441ecafe36289cffd1b24\"></div>\n",
              "<script type=\"text/javascript\">\n",
              "  var VEGA_DEBUG = (typeof VEGA_DEBUG == \"undefined\") ? {} : VEGA_DEBUG;\n",
              "  (function(spec, embedOpt){\n",
              "    let outputDiv = document.currentScript.previousElementSibling;\n",
              "    if (outputDiv.id !== \"altair-viz-b4d6fdb9954441ecafe36289cffd1b24\") {\n",
              "      outputDiv = document.getElementById(\"altair-viz-b4d6fdb9954441ecafe36289cffd1b24\");\n",
              "    }\n",
              "\n",
              "    const paths = {\n",
              "      \"vega\": \"https://cdn.jsdelivr.net/npm/vega@5?noext\",\n",
              "      \"vega-lib\": \"https://cdn.jsdelivr.net/npm/vega-lib?noext\",\n",
              "      \"vega-lite\": \"https://cdn.jsdelivr.net/npm/vega-lite@5.20.1?noext\",\n",
              "      \"vega-embed\": \"https://cdn.jsdelivr.net/npm/vega-embed@6?noext\",\n",
              "    };\n",
              "\n",
              "    function maybeLoadScript(lib, version) {\n",
              "      var key = `${lib.replace(\"-\", \"\")}_version`;\n",
              "      return (VEGA_DEBUG[key] == version) ?\n",
              "        Promise.resolve(paths[lib]) :\n",
              "        new Promise(function(resolve, reject) {\n",
              "          var s = document.createElement('script');\n",
              "          document.getElementsByTagName(\"head\")[0].appendChild(s);\n",
              "          s.async = true;\n",
              "          s.onload = () => {\n",
              "            VEGA_DEBUG[key] = version;\n",
              "            return resolve(paths[lib]);\n",
              "          };\n",
              "          s.onerror = () => reject(`Error loading script: ${paths[lib]}`);\n",
              "          s.src = paths[lib];\n",
              "        });\n",
              "    }\n",
              "\n",
              "    function showError(err) {\n",
              "      outputDiv.innerHTML = `<div class=\"error\" style=\"color:red;\">${err}</div>`;\n",
              "      throw err;\n",
              "    }\n",
              "\n",
              "    function displayChart(vegaEmbed) {\n",
              "      vegaEmbed(outputDiv, spec, embedOpt)\n",
              "        .catch(err => showError(`Javascript Error: ${err.message}<br>This usually means there's a typo in your chart specification. See the javascript console for the full traceback.`));\n",
              "    }\n",
              "\n",
              "    if(typeof define === \"function\" && define.amd) {\n",
              "      requirejs.config({paths});\n",
              "      let deps = [\"vega-embed\"];\n",
              "      require(deps, displayChart, err => showError(`Error loading script: ${err.message}`));\n",
              "    } else {\n",
              "      maybeLoadScript(\"vega\", \"5\")\n",
              "        .then(() => maybeLoadScript(\"vega-lite\", \"5.20.1\"))\n",
              "        .then(() => maybeLoadScript(\"vega-embed\", \"6\"))\n",
              "        .catch(showError)\n",
              "        .then(() => displayChart(vegaEmbed));\n",
              "    }\n",
              "  })({\"config\": {\"view\": {\"continuousWidth\": 300, \"continuousHeight\": 300}}, \"data\": {\"url\": \"https://cdn.jsdelivr.net/npm/vega-datasets@1/data/cars.json\"}, \"mark\": {\"type\": \"circle\"}, \"encoding\": {\"color\": {\"condition\": {\"param\": \"param_1\", \"field\": \"Cylinders\", \"type\": \"ordinal\"}, \"value\": \"grey\"}, \"opacity\": {\"condition\": {\"param\": \"param_1\", \"value\": 0.8}, \"value\": 0.1}, \"x\": {\"field\": \"Horsepower\", \"type\": \"quantitative\"}, \"y\": {\"field\": \"Miles_per_Gallon\", \"type\": \"quantitative\"}}, \"params\": [{\"name\": \"param_1\", \"select\": {\"type\": \"point\"}}], \"$schema\": \"https://vega.github.io/schema/vega-lite/v5.20.1.json\"}, {\"mode\": \"vega-lite\"});\n",
              "</script>"
            ],
            "text/plain": [
              "alt.Chart(...)"
            ]
          },
          "metadata": {},
          "execution_count": 7
        }
      ]
    },
    {
      "cell_type": "markdown",
      "source": [
        "Como nós iremos ver, seleções de pontos oferecem úteis blocos de construção para interações mais poderosas. Ademais, seleções de pontos são somente um dos dois tipos de seleção oferecidos pelo Altair:\n",
        "\n",
        "- `selection_point` - seleciona múltiplos valores discretos. O primeiro valor é selecionado no mouse click e valores adicionais alternados usando shift-click.\n",
        "- `selection_interval` - seleciona um intervalo contínuo de valores, iniciado por mouse drag.\n",
        "\n",
        "Vamos comparar cada um destes tipos de seleção lado a lado. Para manter nosso código organizado nós iremos definir uma função (`plot`) que gera uma especificação de scatter plot exatamente como a função abaixo. Nós podemos passar uma seleção para a função `plot` para tê-la aplicada ao gráfico:"
      ],
      "metadata": {
        "id": "z2_v03yIr9WT"
      }
    },
    {
      "cell_type": "code",
      "source": [
        "def plot(selection):\n",
        "    return alt.Chart(cars).mark_circle().add_params(\n",
        "        selection\n",
        "    ).encode(\n",
        "        x='Horsepower:Q',\n",
        "        y='Miles_per_Gallon:Q',\n",
        "        color=alt.condition(selection, 'Cylinders:O', alt.value('grey')),\n",
        "        opacity=alt.condition(selection, alt.value(0.8), alt.value(0.1))\n",
        "    ).properties(\n",
        "        width=240,\n",
        "        height=180\n",
        "    )"
      ],
      "metadata": {
        "id": "OWKNh4-xv9ea"
      },
      "execution_count": null,
      "outputs": []
    },
    {
      "cell_type": "markdown",
      "source": [
        "Vamos usar nossa função `plot` para criar duas variantes de gráficos, um para cada tipo de seleção.\n",
        "\n",
        "O primeiro gráfico (`point`) replica nosso exemplo anterior, suportando interações shift-click para alternar inclusões de múltiplos pontos na seleção. O segundo gráfico (`interval`) gera uma região de seleção (ou *brush*) no mouse drag. Uma vez criada, você pode arrastar o brush ao redor para selecionar diferentes pontos, ou rolar o scroll quando o cursor está dentro do brush para mudar o tamanho do brush (zoom).\n",
        "\n",
        "*Tente interagir com cada um dos gráficos abaixo!*"
      ],
      "metadata": {
        "id": "PPzEUajmwCB7"
      }
    },
    {
      "cell_type": "code",
      "source": [
        "alt.hconcat(\n",
        "  plot(alt.selection_point()).properties(title='Point (Click e Shift-Click)'),\n",
        "  plot(alt.selection_interval()).properties(title='Interval (Drag)')\n",
        ")"
      ],
      "metadata": {
        "colab": {
          "base_uri": "https://localhost:8080/",
          "height": 266
        },
        "id": "bk5sDkzA1BO1",
        "outputId": "3905d83d-aed7-4f4d-ea97-8d107f1227fe"
      },
      "execution_count": null,
      "outputs": [
        {
          "output_type": "execute_result",
          "data": {
            "text/html": [
              "\n",
              "<style>\n",
              "  #altair-viz-b145ba31fc93409eb56be422440b62b5.vega-embed {\n",
              "    width: 100%;\n",
              "    display: flex;\n",
              "  }\n",
              "\n",
              "  #altair-viz-b145ba31fc93409eb56be422440b62b5.vega-embed details,\n",
              "  #altair-viz-b145ba31fc93409eb56be422440b62b5.vega-embed details summary {\n",
              "    position: relative;\n",
              "  }\n",
              "</style>\n",
              "<div id=\"altair-viz-b145ba31fc93409eb56be422440b62b5\"></div>\n",
              "<script type=\"text/javascript\">\n",
              "  var VEGA_DEBUG = (typeof VEGA_DEBUG == \"undefined\") ? {} : VEGA_DEBUG;\n",
              "  (function(spec, embedOpt){\n",
              "    let outputDiv = document.currentScript.previousElementSibling;\n",
              "    if (outputDiv.id !== \"altair-viz-b145ba31fc93409eb56be422440b62b5\") {\n",
              "      outputDiv = document.getElementById(\"altair-viz-b145ba31fc93409eb56be422440b62b5\");\n",
              "    }\n",
              "\n",
              "    const paths = {\n",
              "      \"vega\": \"https://cdn.jsdelivr.net/npm/vega@5?noext\",\n",
              "      \"vega-lib\": \"https://cdn.jsdelivr.net/npm/vega-lib?noext\",\n",
              "      \"vega-lite\": \"https://cdn.jsdelivr.net/npm/vega-lite@5.20.1?noext\",\n",
              "      \"vega-embed\": \"https://cdn.jsdelivr.net/npm/vega-embed@6?noext\",\n",
              "    };\n",
              "\n",
              "    function maybeLoadScript(lib, version) {\n",
              "      var key = `${lib.replace(\"-\", \"\")}_version`;\n",
              "      return (VEGA_DEBUG[key] == version) ?\n",
              "        Promise.resolve(paths[lib]) :\n",
              "        new Promise(function(resolve, reject) {\n",
              "          var s = document.createElement('script');\n",
              "          document.getElementsByTagName(\"head\")[0].appendChild(s);\n",
              "          s.async = true;\n",
              "          s.onload = () => {\n",
              "            VEGA_DEBUG[key] = version;\n",
              "            return resolve(paths[lib]);\n",
              "          };\n",
              "          s.onerror = () => reject(`Error loading script: ${paths[lib]}`);\n",
              "          s.src = paths[lib];\n",
              "        });\n",
              "    }\n",
              "\n",
              "    function showError(err) {\n",
              "      outputDiv.innerHTML = `<div class=\"error\" style=\"color:red;\">${err}</div>`;\n",
              "      throw err;\n",
              "    }\n",
              "\n",
              "    function displayChart(vegaEmbed) {\n",
              "      vegaEmbed(outputDiv, spec, embedOpt)\n",
              "        .catch(err => showError(`Javascript Error: ${err.message}<br>This usually means there's a typo in your chart specification. See the javascript console for the full traceback.`));\n",
              "    }\n",
              "\n",
              "    if(typeof define === \"function\" && define.amd) {\n",
              "      requirejs.config({paths});\n",
              "      let deps = [\"vega-embed\"];\n",
              "      require(deps, displayChart, err => showError(`Error loading script: ${err.message}`));\n",
              "    } else {\n",
              "      maybeLoadScript(\"vega\", \"5\")\n",
              "        .then(() => maybeLoadScript(\"vega-lite\", \"5.20.1\"))\n",
              "        .then(() => maybeLoadScript(\"vega-embed\", \"6\"))\n",
              "        .catch(showError)\n",
              "        .then(() => displayChart(vegaEmbed));\n",
              "    }\n",
              "  })({\"config\": {\"view\": {\"continuousWidth\": 300, \"continuousHeight\": 300}}, \"hconcat\": [{\"mark\": {\"type\": \"circle\"}, \"encoding\": {\"color\": {\"condition\": {\"param\": \"param_2\", \"field\": \"Cylinders\", \"type\": \"ordinal\"}, \"value\": \"grey\"}, \"opacity\": {\"condition\": {\"param\": \"param_2\", \"value\": 0.8}, \"value\": 0.1}, \"x\": {\"field\": \"Horsepower\", \"type\": \"quantitative\"}, \"y\": {\"field\": \"Miles_per_Gallon\", \"type\": \"quantitative\"}}, \"height\": 180, \"name\": \"view_1\", \"title\": \"Point (Click e Shift-Click)\", \"width\": 240}, {\"mark\": {\"type\": \"circle\"}, \"encoding\": {\"color\": {\"condition\": {\"param\": \"param_3\", \"field\": \"Cylinders\", \"type\": \"ordinal\"}, \"value\": \"grey\"}, \"opacity\": {\"condition\": {\"param\": \"param_3\", \"value\": 0.8}, \"value\": 0.1}, \"x\": {\"field\": \"Horsepower\", \"type\": \"quantitative\"}, \"y\": {\"field\": \"Miles_per_Gallon\", \"type\": \"quantitative\"}}, \"height\": 180, \"name\": \"view_2\", \"title\": \"Interval (Drag)\", \"width\": 240}], \"data\": {\"url\": \"https://cdn.jsdelivr.net/npm/vega-datasets@1/data/cars.json\"}, \"params\": [{\"name\": \"param_2\", \"select\": {\"type\": \"point\"}, \"views\": [\"view_1\"]}, {\"name\": \"param_3\", \"select\": {\"type\": \"interval\"}, \"views\": [\"view_2\"]}], \"$schema\": \"https://vega.github.io/schema/vega-lite/v5.20.1.json\"}, {\"mode\": \"vega-lite\"});\n",
              "</script>"
            ],
            "text/plain": [
              "alt.HConcatChart(...)"
            ]
          },
          "metadata": {},
          "execution_count": 9
        }
      ]
    },
    {
      "cell_type": "markdown",
      "source": [
        "O exemplo abaixo usa interações padrões (click, shift-click, drag). Nós podemos personalizar mais as interações oferecendo especificações de eventos de entrada usando a [sintáxe do seletor de eventos do Vega](https://vega.github.io/vega/docs/event-streams/). Por exemplo, nós podemos modificar nosso gráfico `point` para agir nos eventos `mouseover` ao invés de eventos `click`.\n",
        "\n",
        "*Segure a tecla shift no gráfico para \"pintar\" com dados!*"
      ],
      "metadata": {
        "id": "VsCf3UWj1rkM"
      }
    },
    {
      "cell_type": "code",
      "source": [
        "alt.hconcat(\n",
        "  plot(alt.selection_point(on='mouseover')).properties(title='Point (Mouseover e Shift-Mouseover)'),\n",
        ")"
      ],
      "metadata": {
        "colab": {
          "base_uri": "https://localhost:8080/",
          "height": 266
        },
        "id": "C0Ckf4iE3UNM",
        "outputId": "ab799f9a-be0b-4920-d514-81ec00effdff"
      },
      "execution_count": null,
      "outputs": [
        {
          "output_type": "execute_result",
          "data": {
            "text/html": [
              "\n",
              "<style>\n",
              "  #altair-viz-488de0b4931e470d881738565d2dbee7.vega-embed {\n",
              "    width: 100%;\n",
              "    display: flex;\n",
              "  }\n",
              "\n",
              "  #altair-viz-488de0b4931e470d881738565d2dbee7.vega-embed details,\n",
              "  #altair-viz-488de0b4931e470d881738565d2dbee7.vega-embed details summary {\n",
              "    position: relative;\n",
              "  }\n",
              "</style>\n",
              "<div id=\"altair-viz-488de0b4931e470d881738565d2dbee7\"></div>\n",
              "<script type=\"text/javascript\">\n",
              "  var VEGA_DEBUG = (typeof VEGA_DEBUG == \"undefined\") ? {} : VEGA_DEBUG;\n",
              "  (function(spec, embedOpt){\n",
              "    let outputDiv = document.currentScript.previousElementSibling;\n",
              "    if (outputDiv.id !== \"altair-viz-488de0b4931e470d881738565d2dbee7\") {\n",
              "      outputDiv = document.getElementById(\"altair-viz-488de0b4931e470d881738565d2dbee7\");\n",
              "    }\n",
              "\n",
              "    const paths = {\n",
              "      \"vega\": \"https://cdn.jsdelivr.net/npm/vega@5?noext\",\n",
              "      \"vega-lib\": \"https://cdn.jsdelivr.net/npm/vega-lib?noext\",\n",
              "      \"vega-lite\": \"https://cdn.jsdelivr.net/npm/vega-lite@5.20.1?noext\",\n",
              "      \"vega-embed\": \"https://cdn.jsdelivr.net/npm/vega-embed@6?noext\",\n",
              "    };\n",
              "\n",
              "    function maybeLoadScript(lib, version) {\n",
              "      var key = `${lib.replace(\"-\", \"\")}_version`;\n",
              "      return (VEGA_DEBUG[key] == version) ?\n",
              "        Promise.resolve(paths[lib]) :\n",
              "        new Promise(function(resolve, reject) {\n",
              "          var s = document.createElement('script');\n",
              "          document.getElementsByTagName(\"head\")[0].appendChild(s);\n",
              "          s.async = true;\n",
              "          s.onload = () => {\n",
              "            VEGA_DEBUG[key] = version;\n",
              "            return resolve(paths[lib]);\n",
              "          };\n",
              "          s.onerror = () => reject(`Error loading script: ${paths[lib]}`);\n",
              "          s.src = paths[lib];\n",
              "        });\n",
              "    }\n",
              "\n",
              "    function showError(err) {\n",
              "      outputDiv.innerHTML = `<div class=\"error\" style=\"color:red;\">${err}</div>`;\n",
              "      throw err;\n",
              "    }\n",
              "\n",
              "    function displayChart(vegaEmbed) {\n",
              "      vegaEmbed(outputDiv, spec, embedOpt)\n",
              "        .catch(err => showError(`Javascript Error: ${err.message}<br>This usually means there's a typo in your chart specification. See the javascript console for the full traceback.`));\n",
              "    }\n",
              "\n",
              "    if(typeof define === \"function\" && define.amd) {\n",
              "      requirejs.config({paths});\n",
              "      let deps = [\"vega-embed\"];\n",
              "      require(deps, displayChart, err => showError(`Error loading script: ${err.message}`));\n",
              "    } else {\n",
              "      maybeLoadScript(\"vega\", \"5\")\n",
              "        .then(() => maybeLoadScript(\"vega-lite\", \"5.20.1\"))\n",
              "        .then(() => maybeLoadScript(\"vega-embed\", \"6\"))\n",
              "        .catch(showError)\n",
              "        .then(() => displayChart(vegaEmbed));\n",
              "    }\n",
              "  })({\"config\": {\"view\": {\"continuousWidth\": 300, \"continuousHeight\": 300}}, \"hconcat\": [{\"mark\": {\"type\": \"circle\"}, \"encoding\": {\"color\": {\"condition\": {\"param\": \"param_4\", \"field\": \"Cylinders\", \"type\": \"ordinal\"}, \"value\": \"grey\"}, \"opacity\": {\"condition\": {\"param\": \"param_4\", \"value\": 0.8}, \"value\": 0.1}, \"x\": {\"field\": \"Horsepower\", \"type\": \"quantitative\"}, \"y\": {\"field\": \"Miles_per_Gallon\", \"type\": \"quantitative\"}}, \"height\": 180, \"name\": \"view_3\", \"title\": \"Point (Mouseover e Shift-Mouseover)\", \"width\": 240}], \"data\": {\"url\": \"https://cdn.jsdelivr.net/npm/vega-datasets@1/data/cars.json\"}, \"params\": [{\"name\": \"param_4\", \"select\": {\"type\": \"point\", \"on\": \"mouseover\"}, \"views\": [\"view_3\"]}], \"$schema\": \"https://vega.github.io/schema/vega-lite/v5.20.1.json\"}, {\"mode\": \"vega-lite\"});\n",
              "</script>"
            ],
            "text/plain": [
              "alt.HConcatChart(...)"
            ]
          },
          "metadata": {},
          "execution_count": 10
        }
      ]
    },
    {
      "cell_type": "markdown",
      "source": [
        "Agora que nós cobrimos o básico de seleções do Altair, vamos fazer um tour pelas várias técnicas de interação que ele permite!"
      ],
      "metadata": {
        "id": "-yLKMr-_3ZVp"
      }
    }
  ]
}