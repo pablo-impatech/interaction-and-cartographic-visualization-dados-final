{
  "cells": [
    {
      "cell_type": "markdown",
      "metadata": {
        "id": "MKrYzHunCjd3"
      },
      "source": [
        "<!--## Navigation: Overview + Detail-->\n",
        "\n",
        "## Navegação: Visão geral e detalhes\n"
      ]
    },
    {
      "cell_type": "markdown",
      "metadata": {
        "id": "8IVaqjenCjeA"
      },
      "source": [
        "<!--When panning and zooming, we directly adjust the \"viewport\" of a chart. The related navigation strategy of _overview + detail_ instead uses an overview display to show _all_ of the data, while supporting selections that pan and zoom a separate focus display.\n",
        "\n",
        "Below we have two area charts showing a decade of price fluctuations for the S&amp;P 500 stock index. Initially both charts show the same data range. _Click and drag in the bottom overview chart to update the focus display and examine specific time spans._-->\n",
        "\n",
        "Ao fazer a visão panorâmica e dar zoom, ajustamos diretamente a \"janela de visualização\" de um gráfico. A estratégia de navegação relacionada de _visão geral e detalhes_, em vez disso, usa uma exibição de visão geral para mostrar _todos_ os dados, oferecendo ainda o suporte a seleções que movimentam e ampliam uma exibição de foco separada.\n",
        "\n",
        "Abaixo, temos dois gráficos de área que mostram uma década de flutuações de preços para o índice de ações S&amp;P 500. Inicialmente, ambos os gráficos mostram o mesmo intervalo de dados. _Clique e arraste no gráfico de visão geral inferior para atualizar a exibição de foco e examinar intervalos de tempo específicos._"
      ]
    },
    {
      "cell_type": "code",
      "execution_count": null,
      "metadata": {
        "id": "yFhTmPhjCjeA",
        "outputId": "699699cf-051c-4a15-f006-a6de60ba43ff"
      },
      "outputs": [
        {
          "data": {
            "text/html": [
              "\n",
              "<div id=\"altair-viz-3c9ec269fb264a78b20d7e23b5dd7d15\"></div>\n",
              "<script type=\"text/javascript\">\n",
              "  (function(spec, embedOpt){\n",
              "    let outputDiv = document.currentScript.previousElementSibling;\n",
              "    if (outputDiv.id !== \"altair-viz-3c9ec269fb264a78b20d7e23b5dd7d15\") {\n",
              "      outputDiv = document.getElementById(\"altair-viz-3c9ec269fb264a78b20d7e23b5dd7d15\");\n",
              "    }\n",
              "    const paths = {\n",
              "      \"vega\": \"https://cdn.jsdelivr.net/npm//vega@5?noext\",\n",
              "      \"vega-lib\": \"https://cdn.jsdelivr.net/npm//vega-lib?noext\",\n",
              "      \"vega-lite\": \"https://cdn.jsdelivr.net/npm//vega-lite@4.8.1?noext\",\n",
              "      \"vega-embed\": \"https://cdn.jsdelivr.net/npm//vega-embed@6?noext\",\n",
              "    };\n",
              "\n",
              "    function loadScript(lib) {\n",
              "      return new Promise(function(resolve, reject) {\n",
              "        var s = document.createElement('script');\n",
              "        s.src = paths[lib];\n",
              "        s.async = true;\n",
              "        s.onload = () => resolve(paths[lib]);\n",
              "        s.onerror = () => reject(`Error loading script: ${paths[lib]}`);\n",
              "        document.getElementsByTagName(\"head\")[0].appendChild(s);\n",
              "      });\n",
              "    }\n",
              "\n",
              "    function showError(err) {\n",
              "      outputDiv.innerHTML = `<div class=\"error\" style=\"color:red;\">${err}</div>`;\n",
              "      throw err;\n",
              "    }\n",
              "\n",
              "    function displayChart(vegaEmbed) {\n",
              "      vegaEmbed(outputDiv, spec, embedOpt)\n",
              "        .catch(err => showError(`Javascript Error: ${err.message}<br>This usually means there's a typo in your chart specification. See the javascript console for the full traceback.`));\n",
              "    }\n",
              "\n",
              "    if(typeof define === \"function\" && define.amd) {\n",
              "      requirejs.config({paths});\n",
              "      require([\"vega-embed\"], displayChart, err => showError(`Error loading script: ${err.message}`));\n",
              "    } else if (typeof vegaEmbed === \"function\") {\n",
              "      displayChart(vegaEmbed);\n",
              "    } else {\n",
              "      loadScript(\"vega\")\n",
              "        .then(() => loadScript(\"vega-lite\"))\n",
              "        .then(() => loadScript(\"vega-embed\"))\n",
              "        .catch(showError)\n",
              "        .then(() => displayChart(vegaEmbed));\n",
              "    }\n",
              "  })({\"config\": {\"view\": {\"continuousWidth\": 400, \"continuousHeight\": 300}}, \"vconcat\": [{\"mark\": \"area\", \"encoding\": {\"x\": {\"type\": \"temporal\", \"field\": \"date\", \"scale\": {\"domain\": {\"selection\": \"selector011\"}}, \"title\": null}, \"y\": {\"type\": \"quantitative\", \"field\": \"price\"}}, \"width\": 700}, {\"mark\": \"area\", \"encoding\": {\"x\": {\"type\": \"temporal\", \"field\": \"date\", \"title\": null}, \"y\": {\"type\": \"quantitative\", \"field\": \"price\"}}, \"height\": 60, \"selection\": {\"selector011\": {\"type\": \"interval\", \"encodings\": [\"x\"]}}, \"width\": 700}], \"data\": {\"url\": \"https://cdn.jsdelivr.net/npm/vega-datasets@1/data/sp500.csv\"}, \"$schema\": \"https://vega.github.io/schema/vega-lite/v4.8.1.json\"}, {\"mode\": \"vega-lite\"});\n",
              "</script>"
            ],
            "text/plain": [
              "alt.VConcatChart(...)"
            ]
          },
          "execution_count": 15,
          "metadata": {},
          "output_type": "execute_result"
        }
      ],
      "source": [
        "brush = alt.selection_interval(encodings=['x']);\n",
        "\n",
        "base = alt.Chart().mark_area().encode(\n",
        "    alt.X('date:T', title=None),\n",
        "    alt.Y('price:Q')\n",
        ").properties(\n",
        "    width=700\n",
        ")\n",
        "\n",
        "alt.vconcat(\n",
        "    base.encode(alt.X('date:T', title=None, scale=alt.Scale(domain=brush))),\n",
        "    base.add_selection(brush).properties(height=60),\n",
        "    data=sp500\n",
        ")"
      ]
    },
    {
      "cell_type": "markdown",
      "metadata": {
        "id": "OQkpzwrECjeB"
      },
      "source": [
        "<!--Unlike our earlier panning &amp; zooming case, here we don't want to bind a selection directly to the scales of a single interactive chart. Instead, we want to bind the selection to a scale domain in _another_ chart. To do so, we update the `x` encoding channel for our focus chart, setting the scale `domain` property to reference our `brush` selection. If no interval is defined (the selection is empty), Altair ignores the brush and uses the underlying data to determine the domain. When a brush interval is created, Altair instead uses that as the scale `domain` for the focus chart.-->\n",
        "\n",
        "Ao contrário do nosso conjunto panorâmica e zoom, aqui não queremos vincular uma seleção diretamente às escalas de um único gráfico interativo. Para isso, queremos vincular a seleção a um domínio de escala em _outro_ gráfico. Para fazer isso, atualizamos o canal de codificação `x` para nosso gráfico principal, definindo a propriedade de escala `domain` (domínio) para referenciar nossa seleção de `brush` (Pincel). Se nenhum intervalo for definido (seleção vazia), o Altair ignora o pincel e usa os dados subjacentes para determinar o domínio. Quando um intervalo de pincel é criado, o Altair o usa como o `domain` da escala para o gráfico principal."
      ]
    },
    {
      "cell_type": "markdown",
      "metadata": {
        "id": "mii6FZ5PCjeB"
      },
      "source": [
        "<!--## Details on Demand-->\n",
        "\n",
        "## Detalhes sob demanda"
      ]
    },
    {
      "cell_type": "markdown",
      "metadata": {
        "id": "H8Dz_kuUCjeC"
      },
      "source": [
        "<!--Once we spot points of interest within a visualization, we often want to know more about them. _Details-on-demand_ refers to interactively querying for more information about selected values. _Tooltips_ are one useful means of providing details on demand. However, tooltips typically only show information for one data point at a time. How might we show more?\n",
        "\n",
        "The movie ratings scatterplot includes a number of potentially interesting outliers where the Rotten Tomatoes and IMDB ratings disagree. Let's create a plot that allows us to interactively select points and show their labels. To trigger the filter query on either the hover or click interaction, we will use the [Altair composition operator](https://altair-viz.github.io/user_guide/interactions.html#composing-multiple-selections) `|` (\"or\").\n",
        "\n",
        "_Mouse over points in the scatter plot below to see a highlight and title label. Shift-click points to make annotations persistent and view multiple labels at once. Which movies are loved by Rotten Tomatoes critics, but not the general audience on IMDB (or vice versa)? See if you can find possible errors, where two different movies with the same name were accidentally combined!_-->\n",
        "\n",
        "Após identificarmos pontos de interesse em uma visualização, por vezes queremos saber mais sobre eles. _Detalhes sob demanda_ refere-se à consulta interativa de mais informações sobre os valores selecionados. _Dicas de ferramentas_ são um meio útil de fornecer detalhes sob demanda. No entanto, as dicas de ferramentas normalmente mostram informações apenas para um ponto de dados por vez. Então, como podemos mostrar mais informações?\n",
        "\n",
        "O gráfico de dispersão das classificações de filmes inclui uma série de valores discrepantes potencialmente interessantes onde as classificações do _Rotten Tomatoes_ e do _IMDB_ divergem. Vamos criar um gráfico que nos permita selecionar pontos de forma interativa e mostrar suas categorias. Para acionar a consulta de filtro na interação de passar o mouse ou clicar, usaremos o [operador de composição Altair](https://altair-viz.github.io/user_guide/interactions.html#composing-multiple-selections) `|` (\"ou\").\n",
        "\n",
        "_Passe o cursor sobre os pontos no gráfico de dispersão abaixo para ver um destaque e uma categoria de título. Clique com a tecla Shift pressionada para tornar as anotações persistentes e visualizar vários rótulos de uma só vez. Quais filmes são amados pelos críticos do Rotten Tomatoes, mas não pelo público em geral no IMDB (ou vice-versa)? Veja se consegue encontrar possíveis erros, onde dois filmes diferentes com o mesmo nome foram acidentalmente combinados!_"
      ]
    },
    {
      "cell_type": "code",
      "execution_count": null,
      "metadata": {
        "id": "MHMosDNiCjeC",
        "outputId": "019a43da-85a6-4bd3-c37b-127e0896e896"
      },
      "outputs": [
        {
          "data": {
            "text/html": [
              "\n",
              "<div id=\"altair-viz-883f25541a0e48899f1e8afd330ed07e\"></div>\n",
              "<script type=\"text/javascript\">\n",
              "  (function(spec, embedOpt){\n",
              "    let outputDiv = document.currentScript.previousElementSibling;\n",
              "    if (outputDiv.id !== \"altair-viz-883f25541a0e48899f1e8afd330ed07e\") {\n",
              "      outputDiv = document.getElementById(\"altair-viz-883f25541a0e48899f1e8afd330ed07e\");\n",
              "    }\n",
              "    const paths = {\n",
              "      \"vega\": \"https://cdn.jsdelivr.net/npm//vega@5?noext\",\n",
              "      \"vega-lib\": \"https://cdn.jsdelivr.net/npm//vega-lib?noext\",\n",
              "      \"vega-lite\": \"https://cdn.jsdelivr.net/npm//vega-lite@4.8.1?noext\",\n",
              "      \"vega-embed\": \"https://cdn.jsdelivr.net/npm//vega-embed@6?noext\",\n",
              "    };\n",
              "\n",
              "    function loadScript(lib) {\n",
              "      return new Promise(function(resolve, reject) {\n",
              "        var s = document.createElement('script');\n",
              "        s.src = paths[lib];\n",
              "        s.async = true;\n",
              "        s.onload = () => resolve(paths[lib]);\n",
              "        s.onerror = () => reject(`Error loading script: ${paths[lib]}`);\n",
              "        document.getElementsByTagName(\"head\")[0].appendChild(s);\n",
              "      });\n",
              "    }\n",
              "\n",
              "    function showError(err) {\n",
              "      outputDiv.innerHTML = `<div class=\"error\" style=\"color:red;\">${err}</div>`;\n",
              "      throw err;\n",
              "    }\n",
              "\n",
              "    function displayChart(vegaEmbed) {\n",
              "      vegaEmbed(outputDiv, spec, embedOpt)\n",
              "        .catch(err => showError(`Javascript Error: ${err.message}<br>This usually means there's a typo in your chart specification. See the javascript console for the full traceback.`));\n",
              "    }\n",
              "\n",
              "    if(typeof define === \"function\" && define.amd) {\n",
              "      requirejs.config({paths});\n",
              "      require([\"vega-embed\"], displayChart, err => showError(`Error loading script: ${err.message}`));\n",
              "    } else if (typeof vegaEmbed === \"function\") {\n",
              "      displayChart(vegaEmbed);\n",
              "    } else {\n",
              "      loadScript(\"vega\")\n",
              "        .then(() => loadScript(\"vega-lite\"))\n",
              "        .then(() => loadScript(\"vega-embed\"))\n",
              "        .catch(showError)\n",
              "        .then(() => displayChart(vegaEmbed));\n",
              "    }\n",
              "  })({\"config\": {\"view\": {\"continuousWidth\": 400, \"continuousHeight\": 300}}, \"layer\": [{\"mark\": \"circle\", \"encoding\": {\"x\": {\"type\": \"quantitative\", \"field\": \"Rotten_Tomatoes_Rating\"}, \"y\": {\"type\": \"quantitative\", \"field\": \"IMDB_Rating\"}}, \"selection\": {\"selector012\": {\"type\": \"single\", \"on\": \"mouseover\", \"nearest\": true, \"empty\": \"none\"}, \"selector013\": {\"type\": \"multi\", \"empty\": \"none\"}}}, {\"mark\": {\"type\": \"point\", \"size\": 100, \"stroke\": \"firebrick\", \"strokeWidth\": 1}, \"encoding\": {\"x\": {\"type\": \"quantitative\", \"field\": \"Rotten_Tomatoes_Rating\"}, \"y\": {\"type\": \"quantitative\", \"field\": \"IMDB_Rating\"}}, \"transform\": [{\"filter\": {\"or\": [{\"selection\": \"selector012\"}, {\"selection\": \"selector013\"}]}}]}, {\"mark\": {\"type\": \"text\", \"align\": \"right\", \"dx\": 4, \"dy\": -8, \"stroke\": \"white\", \"strokeWidth\": 2}, \"encoding\": {\"text\": {\"type\": \"nominal\", \"field\": \"Title\"}, \"x\": {\"type\": \"quantitative\", \"field\": \"Rotten_Tomatoes_Rating\"}, \"y\": {\"type\": \"quantitative\", \"field\": \"IMDB_Rating\"}}, \"transform\": [{\"filter\": {\"or\": [{\"selection\": \"selector012\"}, {\"selection\": \"selector013\"}]}}]}, {\"mark\": {\"type\": \"text\", \"align\": \"right\", \"dx\": 4, \"dy\": -8}, \"encoding\": {\"text\": {\"type\": \"nominal\", \"field\": \"Title\"}, \"x\": {\"type\": \"quantitative\", \"field\": \"Rotten_Tomatoes_Rating\"}, \"y\": {\"type\": \"quantitative\", \"field\": \"IMDB_Rating\"}}, \"transform\": [{\"filter\": {\"or\": [{\"selection\": \"selector012\"}, {\"selection\": \"selector013\"}]}}]}], \"data\": {\"url\": \"https://cdn.jsdelivr.net/npm/vega-datasets@1/data/movies.json\"}, \"height\": 450, \"width\": 600, \"$schema\": \"https://vega.github.io/schema/vega-lite/v4.8.1.json\"}, {\"mode\": \"vega-lite\"});\n",
              "</script>"
            ],
            "text/plain": [
              "alt.LayerChart(...)"
            ]
          },
          "execution_count": 16,
          "metadata": {},
          "output_type": "execute_result"
        }
      ],
      "source": [
        "hover = alt.selection_single(\n",
        "    on='mouseover',  # Selecionar o cursor\n",
        "    nearest=True,    # Seleciona o ponto mais próximo do cursor\n",
        "    empty='none'     # Seleção vazia não retorna nada\n",
        ")\n",
        "\n",
        "click = alt.selection_multi(\n",
        "    empty='none' # Seleção vazia não retorna nada\n",
        ")\n",
        "\n",
        "# scatter plot dos parâmetros citados\n",
        "plot = alt.Chart().mark_circle().encode(\n",
        "    x='Rotten_Tomatoes_Rating:Q',\n",
        "    y='IMDB_Rating:Q'\n",
        ")\n",
        "\n",
        "# Camadas\n",
        "base = plot.transform_filter(\n",
        "    hover | click # Filtrar os pontos em ambas as direções\n",
        ")\n",
        "\n",
        "# Detalhes adcionais da visualização\n",
        "alt.layer(\n",
        "    plot.add_selection(hover).add_selection(click),\n",
        "    base.mark_point(size=100, stroke='firebrick', strokeWidth=1),\n",
        "    base.mark_text(dx=4, dy=-8, align='right', stroke='white', strokeWidth=2).encode(text='Title:N'),\n",
        "    base.mark_text(dx=4, dy=-8, align='right').encode(text='Title:N'),\n",
        "    data=movies\n",
        ").properties(\n",
        "    width=600,\n",
        "    height=450\n",
        ")"
      ]
    },
    {
      "cell_type": "markdown",
      "metadata": {
        "id": "OFFXFaBRCjeC"
      },
      "source": [
        "<!--The example above adds three new layers to the scatter plot: a circular annotation, white text to provide a legible background, and black text showing a film title. In addition, this example uses two selections in tandem:\n",
        "\n",
        "1. A single selection (`hover`) that includes `nearest=True` to automatically select the nearest data point as the mouse moves.\n",
        "2. A multi selection (`click`) to create persistent selections via shift-click.\n",
        "\n",
        "Both selections include the set `empty='none'` to indicate that no points should be included if a selection is empty. These selections are then combined into a single filter predicate &mdash; the logical _or_ of `hover` and `click` &mdash; to include points that reside in _either_ selection. We use this predicate to filter the new layers to show annotations and labels for selected points only.-->\n",
        "\n",
        "O exemplo acima adiciona três novas camadas ao gráfico de dispersão: uma anotação circular, texto branco para fornecer um fundo legível e texto preto mostrando o título de um filme. Além disso, este exemplo usa duas seleções em conjunto:\n",
        "\n",
        "1. Uma única seleção (`hover`) que inclui `nearest=True` para selecionar automaticamente o ponto de dados mais próximo conforme o cursor se move.\n",
        "2. Uma seleção múltipla (`clique`) para criar seleções persistentes via shift-clique.\n",
        "\n",
        "Ambas as seleções incluem o conjunto `empty='none'` para indicar que nenhum ponto deve ser incluído se uma seleção estiver vazia. Essas seleções são então combinadas em uma única condição de filtro &mdash; o _ou_ lógico de `hover` e `click` &mdash; para incluir pontos que residem em _qualquer_ seleção. Usamos essa condição para filtrar as novas camadas para mostrar anotações e rótulos apenas para pontos selecionados."
      ]
    },
    {
      "cell_type": "markdown",
      "metadata": {
        "id": "QlIJ9gKRCjeD"
      },
      "source": [
        "<!--Using selections and layers, we can realize a number of different designs for details on demand! For example, here is a log-scaled time series of technology stock prices, annotated with a guideline and labels for the date nearest the mouse cursor:-->\n",
        "\n",
        "Usando seleções e camadas, podemos realizar vários designs diferentes para obter detalhes sob demanda! Por exemplo, aqui está uma série temporal em escala logarítmica de preços de ações de tecnologia, anotada com uma diretriz e categorias para a data mais próxima do cursor:"
      ]
    },
    {
      "cell_type": "code",
      "execution_count": null,
      "metadata": {
        "id": "yZ2GCFZXCjeD",
        "outputId": "da7b1db1-630c-4f61-d537-1af3e02af460"
      },
      "outputs": [
        {
          "data": {
            "text/html": [
              "\n",
              "<div id=\"altair-viz-9a60e36f46a24f72a2163f9cf52987ba\"></div>\n",
              "<script type=\"text/javascript\">\n",
              "  (function(spec, embedOpt){\n",
              "    let outputDiv = document.currentScript.previousElementSibling;\n",
              "    if (outputDiv.id !== \"altair-viz-9a60e36f46a24f72a2163f9cf52987ba\") {\n",
              "      outputDiv = document.getElementById(\"altair-viz-9a60e36f46a24f72a2163f9cf52987ba\");\n",
              "    }\n",
              "    const paths = {\n",
              "      \"vega\": \"https://cdn.jsdelivr.net/npm//vega@5?noext\",\n",
              "      \"vega-lib\": \"https://cdn.jsdelivr.net/npm//vega-lib?noext\",\n",
              "      \"vega-lite\": \"https://cdn.jsdelivr.net/npm//vega-lite@4.8.1?noext\",\n",
              "      \"vega-embed\": \"https://cdn.jsdelivr.net/npm//vega-embed@6?noext\",\n",
              "    };\n",
              "\n",
              "    function loadScript(lib) {\n",
              "      return new Promise(function(resolve, reject) {\n",
              "        var s = document.createElement('script');\n",
              "        s.src = paths[lib];\n",
              "        s.async = true;\n",
              "        s.onload = () => resolve(paths[lib]);\n",
              "        s.onerror = () => reject(`Error loading script: ${paths[lib]}`);\n",
              "        document.getElementsByTagName(\"head\")[0].appendChild(s);\n",
              "      });\n",
              "    }\n",
              "\n",
              "    function showError(err) {\n",
              "      outputDiv.innerHTML = `<div class=\"error\" style=\"color:red;\">${err}</div>`;\n",
              "      throw err;\n",
              "    }\n",
              "\n",
              "    function displayChart(vegaEmbed) {\n",
              "      vegaEmbed(outputDiv, spec, embedOpt)\n",
              "        .catch(err => showError(`Javascript Error: ${err.message}<br>This usually means there's a typo in your chart specification. See the javascript console for the full traceback.`));\n",
              "    }\n",
              "\n",
              "    if(typeof define === \"function\" && define.amd) {\n",
              "      requirejs.config({paths});\n",
              "      require([\"vega-embed\"], displayChart, err => showError(`Error loading script: ${err.message}`));\n",
              "    } else if (typeof vegaEmbed === \"function\") {\n",
              "      displayChart(vegaEmbed);\n",
              "    } else {\n",
              "      loadScript(\"vega\")\n",
              "        .then(() => loadScript(\"vega-lite\"))\n",
              "        .then(() => loadScript(\"vega-embed\"))\n",
              "        .catch(showError)\n",
              "        .then(() => displayChart(vegaEmbed));\n",
              "    }\n",
              "  })({\"config\": {\"view\": {\"continuousWidth\": 400, \"continuousHeight\": 300}}, \"layer\": [{\"mark\": \"line\", \"encoding\": {\"color\": {\"type\": \"nominal\", \"field\": \"symbol\"}, \"x\": {\"type\": \"temporal\", \"field\": \"date\"}, \"y\": {\"type\": \"quantitative\", \"field\": \"price\", \"scale\": {\"type\": \"log\"}}}}, {\"mark\": {\"type\": \"rule\", \"color\": \"#aaa\"}, \"encoding\": {\"x\": {\"type\": \"temporal\", \"field\": \"date\"}}, \"transform\": [{\"filter\": {\"selection\": \"selector014\"}}]}, {\"mark\": \"circle\", \"encoding\": {\"color\": {\"type\": \"nominal\", \"field\": \"symbol\"}, \"opacity\": {\"condition\": {\"value\": 1, \"selection\": \"selector014\"}, \"value\": 0}, \"x\": {\"type\": \"temporal\", \"field\": \"date\"}, \"y\": {\"type\": \"quantitative\", \"field\": \"price\", \"scale\": {\"type\": \"log\"}}}, \"selection\": {\"selector014\": {\"type\": \"single\", \"encodings\": [\"x\"], \"on\": \"mouseover\", \"nearest\": true, \"empty\": \"none\"}}}, {\"mark\": {\"type\": \"text\", \"align\": \"left\", \"dx\": 5, \"dy\": -5, \"stroke\": \"white\", \"strokeWidth\": 2}, \"encoding\": {\"color\": {\"type\": \"nominal\", \"field\": \"symbol\"}, \"text\": {\"type\": \"quantitative\", \"field\": \"price\"}, \"x\": {\"type\": \"temporal\", \"field\": \"date\"}, \"y\": {\"type\": \"quantitative\", \"field\": \"price\", \"scale\": {\"type\": \"log\"}}}, \"transform\": [{\"filter\": {\"selection\": \"selector014\"}}]}, {\"mark\": {\"type\": \"text\", \"align\": \"left\", \"dx\": 5, \"dy\": -5}, \"encoding\": {\"color\": {\"type\": \"nominal\", \"field\": \"symbol\"}, \"text\": {\"type\": \"quantitative\", \"field\": \"price\"}, \"x\": {\"type\": \"temporal\", \"field\": \"date\"}, \"y\": {\"type\": \"quantitative\", \"field\": \"price\", \"scale\": {\"type\": \"log\"}}}, \"transform\": [{\"filter\": {\"selection\": \"selector014\"}}]}], \"data\": {\"url\": \"https://cdn.jsdelivr.net/npm/vega-datasets@1/data/stocks.csv\"}, \"height\": 400, \"width\": 700, \"$schema\": \"https://vega.github.io/schema/vega-lite/v4.8.1.json\"}, {\"mode\": \"vega-lite\"});\n",
              "</script>"
            ],
            "text/plain": [
              "alt.LayerChart(...)"
            ]
          },
          "execution_count": 17,
          "metadata": {},
          "output_type": "execute_result"
        }
      ],
      "source": [
        "# selecione um ponto para o qual fornecer detalhes sob demanda\n",
        "label = alt.selection_single(\n",
        "    encodings=['x'], # limitar a seleção ao valor do eixo x\n",
        "    on='mouseover',  # selecione em eventos de ausência de cursor\n",
        "    nearest=True,    # selecione o ponto de dados mais próximo do cursor\n",
        "    empty='none'     # seleção vazia não inclui pontos de dados\n",
        ")\n",
        "\n",
        "# definir nosso gráfico de linha base de preços de ações\n",
        "base = alt.Chart().mark_line().encode(\n",
        "    alt.X('date:T'),\n",
        "    alt.Y('price:Q', scale=alt.Scale(type='log')),\n",
        "    alt.Color('symbol:N')\n",
        ")\n",
        "\n",
        "alt.layer(\n",
        "    base, # gráfico de linha básica\n",
        "\n",
        "    # adicionar uma marca para servir como linha guia\n",
        "    alt.Chart().mark_rule(color='#aaa').encode(\n",
        "        x='date:T'\n",
        "    ).transform_filter(label),\n",
        "\n",
        "    # adicionar marcas circulares para pontos de tempo selecionados, ocultar pontos não selecionados\n",
        "    base.mark_circle().encode(\n",
        "        opacity=alt.condition(label, alt.value(1), alt.value(0))\n",
        "    ).add_selection(label),\n",
        "\n",
        "    # adicionar texto branco para fornecer um fundo legível para rótulos\n",
        "    base.mark_text(align='left', dx=5, dy=-5, stroke='white', strokeWidth=2).encode(\n",
        "        text='price:Q'\n",
        "    ).transform_filter(label),\n",
        "\n",
        "    # adicionar categorias de texto para o preços das ações\n",
        "    base.mark_text(align='left', dx=5, dy=-5).encode(\n",
        "        text='price:Q'\n",
        "    ).transform_filter(label),\n",
        "\n",
        "    data=stocks\n",
        ").properties(\n",
        "    width=700,\n",
        "    height=400\n",
        ")"
      ]
    },
    {
      "cell_type": "markdown",
      "metadata": {
        "id": "zP9Pd7EwCjeD"
      },
      "source": [
        "<!--_Putting into action what we've learned so far: can you modify the movie scatter plot above (the one with the dynamic query over years) to include a `rule` mark that shows the average IMDB (or Rotten Tomatoes) rating for the data contained within the year `interval` selection?_-->\n",
        "\n",
        "_Colocando em ação o que aprendemos até agora: você pode modificar o gráfico de dispersão do filme acima (aquele com a consulta dinâmica ao longo dos anos) para incluir uma marca de `regra` que mostre a classificação média do IMDB (ou Rotten Tomatoes) para os dados contidos na seleção de `intervalo` do ano?_"
      ]
    },
    {
      "cell_type": "markdown",
      "metadata": {
        "id": "LTgkv-osCjeD"
      },
      "source": [
        "<!--## Brushing &amp; Linking, Revisited-->\n",
        "\n",
        "## Exploração e Vinculação, Revisão"
      ]
    },
    {
      "cell_type": "markdown",
      "metadata": {
        "id": "YitcHHDuCjeE"
      },
      "source": [
        "<!--Earlier in this notebook we saw an example of _brushing &amp; linking_: using a dynamic query histogram to highlight points in a movie rating scatter plot. Here, we'll visit some additional examples involving linked selections.\n",
        "\n",
        "Returning to the `cars` dataset, we can use the `repeat` operator to build a [scatter plot matrix (SPLOM)](https://en.wikipedia.org/wiki/Scatter_plot#Scatterplot_matrices) that shows associations between mileage, acceleration, and horsepower. We can define an `interval` selection and include it _within_ our repeated scatter plot specification to enable linked selections among all the plots.\n",
        "\n",
        "_Click and drag in any of the plots below to perform brushing &amp; linking!_\n",
        "-->\n",
        "Anteriormente neste _notebook_ vimos um exemplo de _exploração e vinculação_: usando um histograma de consulta dinâmica para destacar pontos em um gráfico de dispersão de classificação de filme. Agora, visitaremos alguns exemplos adicionais envolvendo seleções vinculadas.\n",
        "\n",
        "Voltando ao conjunto de dados `cars` (carros), podemos usar o operador `repeat` para construir uma [matriz de gráfico de dispersão (SPLOM)](https://en.wikipedia.org/wiki/Scatter_plot#Scatterplot_matrices) que mostra associações entre quilometragem, aceleração e potência. Podemos definir uma seleção de `intervalo` e incluí-la _dentro_ de nossa especificação de gráfico de dispersão repetido para permitir seleções vinculadas entre todos os gráficos.\n",
        "\n",
        "_Clique e arraste em qualquer uma das visualizações abaixo para realizar a exploração e vinculação!_"
      ]
    },
    {
      "cell_type": "code",
      "execution_count": null,
      "metadata": {
        "id": "1H5x6TRpCjeE",
        "outputId": "c77785b1-8267-4b93-d66b-984bf48c0a74"
      },
      "outputs": [
        {
          "data": {
            "text/html": [
              "\n",
              "<div id=\"altair-viz-358bcda977a841ab8660af82875e3378\"></div>\n",
              "<script type=\"text/javascript\">\n",
              "  (function(spec, embedOpt){\n",
              "    let outputDiv = document.currentScript.previousElementSibling;\n",
              "    if (outputDiv.id !== \"altair-viz-358bcda977a841ab8660af82875e3378\") {\n",
              "      outputDiv = document.getElementById(\"altair-viz-358bcda977a841ab8660af82875e3378\");\n",
              "    }\n",
              "    const paths = {\n",
              "      \"vega\": \"https://cdn.jsdelivr.net/npm//vega@5?noext\",\n",
              "      \"vega-lib\": \"https://cdn.jsdelivr.net/npm//vega-lib?noext\",\n",
              "      \"vega-lite\": \"https://cdn.jsdelivr.net/npm//vega-lite@4.8.1?noext\",\n",
              "      \"vega-embed\": \"https://cdn.jsdelivr.net/npm//vega-embed@6?noext\",\n",
              "    };\n",
              "\n",
              "    function loadScript(lib) {\n",
              "      return new Promise(function(resolve, reject) {\n",
              "        var s = document.createElement('script');\n",
              "        s.src = paths[lib];\n",
              "        s.async = true;\n",
              "        s.onload = () => resolve(paths[lib]);\n",
              "        s.onerror = () => reject(`Error loading script: ${paths[lib]}`);\n",
              "        document.getElementsByTagName(\"head\")[0].appendChild(s);\n",
              "      });\n",
              "    }\n",
              "\n",
              "    function showError(err) {\n",
              "      outputDiv.innerHTML = `<div class=\"error\" style=\"color:red;\">${err}</div>`;\n",
              "      throw err;\n",
              "    }\n",
              "\n",
              "    function displayChart(vegaEmbed) {\n",
              "      vegaEmbed(outputDiv, spec, embedOpt)\n",
              "        .catch(err => showError(`Javascript Error: ${err.message}<br>This usually means there's a typo in your chart specification. See the javascript console for the full traceback.`));\n",
              "    }\n",
              "\n",
              "    if(typeof define === \"function\" && define.amd) {\n",
              "      requirejs.config({paths});\n",
              "      require([\"vega-embed\"], displayChart, err => showError(`Error loading script: ${err.message}`));\n",
              "    } else if (typeof vegaEmbed === \"function\") {\n",
              "      displayChart(vegaEmbed);\n",
              "    } else {\n",
              "      loadScript(\"vega\")\n",
              "        .then(() => loadScript(\"vega-lite\"))\n",
              "        .then(() => loadScript(\"vega-embed\"))\n",
              "        .catch(showError)\n",
              "        .then(() => displayChart(vegaEmbed));\n",
              "    }\n",
              "  })({\"config\": {\"view\": {\"continuousWidth\": 400, \"continuousHeight\": 300}}, \"repeat\": {\"column\": [\"Acceleration\", \"Horsepower\", \"Miles_per_Gallon\"], \"row\": [\"Miles_per_Gallon\", \"Horsepower\", \"Acceleration\"]}, \"spec\": {\"data\": {\"url\": \"https://cdn.jsdelivr.net/npm/vega-datasets@1/data/cars.json\"}, \"mark\": \"circle\", \"encoding\": {\"color\": {\"condition\": {\"type\": \"ordinal\", \"field\": \"Cylinders\", \"selection\": \"selector015\"}, \"value\": \"grey\"}, \"opacity\": {\"condition\": {\"value\": 0.8, \"selection\": \"selector015\"}, \"value\": 0.1}, \"x\": {\"type\": \"quantitative\", \"field\": {\"repeat\": \"column\"}}, \"y\": {\"type\": \"quantitative\", \"field\": {\"repeat\": \"row\"}}}, \"height\": 140, \"selection\": {\"selector015\": {\"type\": \"interval\", \"resolve\": \"global\"}}, \"width\": 140}, \"$schema\": \"https://vega.github.io/schema/vega-lite/v4.8.1.json\"}, {\"mode\": \"vega-lite\"});\n",
              "</script>"
            ],
            "text/plain": [
              "alt.RepeatChart(...)"
            ]
          },
          "execution_count": 18,
          "metadata": {},
          "output_type": "execute_result"
        }
      ],
      "source": [
        "brush = alt.selection_interval(\n",
        "    resolve='global' # Seleção 'resolve' definida globalmente\n",
        ")\n",
        "\n",
        "alt.Chart(cars).mark_circle().add_selection(\n",
        "    brush\n",
        ").encode(\n",
        "    alt.X(alt.repeat('column'), type='quantitative'),\n",
        "    alt.Y(alt.repeat('row'), type='quantitative'),\n",
        "    color=alt.condition(brush, 'Cylinders:O', alt.value('grey')),\n",
        "    opacity=alt.condition(brush, alt.value(0.8), alt.value(0.1))\n",
        ").properties(\n",
        "    width=140,\n",
        "    height=140\n",
        ").repeat(\n",
        "    column=['Acceleration', 'Horsepower', 'Miles_per_Gallon'],\n",
        "    row=['Miles_per_Gallon', 'Horsepower', 'Acceleration']\n",
        ")"
      ]
    },
    {
      "cell_type": "markdown",
      "metadata": {
        "id": "qLpHS__oCjeE"
      },
      "source": [
        "<!--Note above the use of `resolve='global'` on the `interval` selection. The default setting of `'global'` indicates that across all plots only one brush can be active at a time. However, in some cases we might want to define brushes in multiple plots and combine the results. If we use `resolve='union'`, the selection will be the _union_ of all brushes: if a point resides within any brush it will be selected. Alternatively, if we use `resolve='intersect'`, the selection will consist of the _intersection_ of all brushes: only points that reside within all brushes will be selected.\n",
        "\n",
        "_Try setting the `resolve` parameter to `'union'` and `'intersect'` and see how it changes the resulting selection logic._-->\n",
        "\n",
        "Observe acima o uso de `resolve='global'` na seleção de `interval`. A configuração padrão `'global'` indica que em todos os gráficos apenas um pincel pode estar ativo por vez. No entanto, em alguns casos, podemos querer definir pincéis em vários gráficos e combinar os resultados. Se usarmos `resolve='union'`, a seleção será a _união_ de todos os pincéis de entrada: se um ponto estiver dentro de qualquer pincel ele será selecionado. Alternativamente, se usarmos `resolve='intersect'`, a seleção consistirá na _interseção_ de todos os pincéis de entrada: apenas os pontos que estão dentro de todos os pincéis serão selecionados.\n",
        "\n",
        "_Tente definir o parâmetro `resolve` para `'union'` e `'intersect'` e veja como isso muda a lógica de seleção resultante._"
      ]
    }
  ],
  "metadata": {
    "kernelspec": {
      "display_name": "Python 3",
      "language": "python",
      "name": "python3"
    },
    "language_info": {
      "codemirror_mode": {
        "name": "ipython",
        "version": 3
      },
      "file_extension": ".py",
      "mimetype": "text/x-python",
      "name": "python",
      "nbconvert_exporter": "python",
      "pygments_lexer": "ipython3",
      "version": "3.7.9"
    },
    "colab": {
      "provenance": []
    }
  },
  "nbformat": 4,
  "nbformat_minor": 0
}