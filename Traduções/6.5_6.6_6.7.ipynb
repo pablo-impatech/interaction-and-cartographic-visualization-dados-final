{
  "cells": [
    {
      "cell_type": "code",
      "source": [
        "import altair as alt\n",
        "cars = 'https://cdn.jsdelivr.net/npm/vega-datasets@1/data/cars.json'\n",
        "movies = 'https://cdn.jsdelivr.net/npm/vega-datasets@1/data/movies.json'\n",
        "sp500 = 'https://cdn.jsdelivr.net/npm/vega-datasets@1/data/sp500.csv'\n",
        "stocks = 'https://cdn.jsdelivr.net/npm/vega-datasets@1/data/stocks.csv'"
      ],
      "metadata": {
        "id": "tEf03WS6EHx-"
      },
      "execution_count": 87,
      "outputs": []
    },
    {
      "cell_type": "markdown",
      "metadata": {
        "id": "MKrYzHunCjd3"
      },
      "source": [
        "## <font color=\"#747a7f\">6.5</font> Navegação: Visão geral + Detalhes\n"
      ]
    },
    {
      "cell_type": "markdown",
      "metadata": {
        "id": "8IVaqjenCjeA"
      },
      "source": [
        "Ao mover e dar zoom, ajustamos diretamente a \"área de visualização\" de um gráfico. A estratégia de navegação relacionada de *visão geral + detalhes*, ao invés disso, usa uma exibição de visão geral para mostrar *tudo* dos dados, enquanto suporta seleções que movimentam e ampliam uma exibição de foco separada.\n",
        "\n",
        "Abaixo, temos dois gráficos de área que mostram uma década de flutuações de preços para o índice de ações S&amp;P 500. Inicialmente, ambos os gráficos mostram o mesmo intervalo de dados. *Clique e arraste no gráfico de visão geral inferior para atualizar a exibição de foco e examinar intervalos de tempo específicos.*"
      ]
    },
    {
      "cell_type": "code",
      "execution_count": 88,
      "metadata": {
        "id": "yFhTmPhjCjeA",
        "outputId": "9bd39e65-b6d7-4c95-9adb-dd2a02ae26bc",
        "colab": {
          "base_uri": "https://localhost:8080/",
          "height": 454
        }
      },
      "outputs": [
        {
          "output_type": "execute_result",
          "data": {
            "text/html": [
              "\n",
              "<style>\n",
              "  #altair-viz-6d93a5d1aea446369a795db22bf18b2d.vega-embed {\n",
              "    width: 100%;\n",
              "    display: flex;\n",
              "  }\n",
              "\n",
              "  #altair-viz-6d93a5d1aea446369a795db22bf18b2d.vega-embed details,\n",
              "  #altair-viz-6d93a5d1aea446369a795db22bf18b2d.vega-embed details summary {\n",
              "    position: relative;\n",
              "  }\n",
              "</style>\n",
              "<div id=\"altair-viz-6d93a5d1aea446369a795db22bf18b2d\"></div>\n",
              "<script type=\"text/javascript\">\n",
              "  var VEGA_DEBUG = (typeof VEGA_DEBUG == \"undefined\") ? {} : VEGA_DEBUG;\n",
              "  (function(spec, embedOpt){\n",
              "    let outputDiv = document.currentScript.previousElementSibling;\n",
              "    if (outputDiv.id !== \"altair-viz-6d93a5d1aea446369a795db22bf18b2d\") {\n",
              "      outputDiv = document.getElementById(\"altair-viz-6d93a5d1aea446369a795db22bf18b2d\");\n",
              "    }\n",
              "\n",
              "    const paths = {\n",
              "      \"vega\": \"https://cdn.jsdelivr.net/npm/vega@5?noext\",\n",
              "      \"vega-lib\": \"https://cdn.jsdelivr.net/npm/vega-lib?noext\",\n",
              "      \"vega-lite\": \"https://cdn.jsdelivr.net/npm/vega-lite@5.20.1?noext\",\n",
              "      \"vega-embed\": \"https://cdn.jsdelivr.net/npm/vega-embed@6?noext\",\n",
              "    };\n",
              "\n",
              "    function maybeLoadScript(lib, version) {\n",
              "      var key = `${lib.replace(\"-\", \"\")}_version`;\n",
              "      return (VEGA_DEBUG[key] == version) ?\n",
              "        Promise.resolve(paths[lib]) :\n",
              "        new Promise(function(resolve, reject) {\n",
              "          var s = document.createElement('script');\n",
              "          document.getElementsByTagName(\"head\")[0].appendChild(s);\n",
              "          s.async = true;\n",
              "          s.onload = () => {\n",
              "            VEGA_DEBUG[key] = version;\n",
              "            return resolve(paths[lib]);\n",
              "          };\n",
              "          s.onerror = () => reject(`Error loading script: ${paths[lib]}`);\n",
              "          s.src = paths[lib];\n",
              "        });\n",
              "    }\n",
              "\n",
              "    function showError(err) {\n",
              "      outputDiv.innerHTML = `<div class=\"error\" style=\"color:red;\">${err}</div>`;\n",
              "      throw err;\n",
              "    }\n",
              "\n",
              "    function displayChart(vegaEmbed) {\n",
              "      vegaEmbed(outputDiv, spec, embedOpt)\n",
              "        .catch(err => showError(`Javascript Error: ${err.message}<br>This usually means there's a typo in your chart specification. See the javascript console for the full traceback.`));\n",
              "    }\n",
              "\n",
              "    if(typeof define === \"function\" && define.amd) {\n",
              "      requirejs.config({paths});\n",
              "      let deps = [\"vega-embed\"];\n",
              "      require(deps, displayChart, err => showError(`Error loading script: ${err.message}`));\n",
              "    } else {\n",
              "      maybeLoadScript(\"vega\", \"5\")\n",
              "        .then(() => maybeLoadScript(\"vega-lite\", \"5.20.1\"))\n",
              "        .then(() => maybeLoadScript(\"vega-embed\", \"6\"))\n",
              "        .catch(showError)\n",
              "        .then(() => displayChart(vegaEmbed));\n",
              "    }\n",
              "  })({\"config\": {\"view\": {\"continuousWidth\": 300, \"continuousHeight\": 300}}, \"vconcat\": [{\"mark\": {\"type\": \"area\"}, \"encoding\": {\"x\": {\"field\": \"date\", \"scale\": {\"domain\": {\"param\": \"param_139\"}}, \"title\": null, \"type\": \"temporal\"}, \"y\": {\"field\": \"price\", \"type\": \"quantitative\"}}, \"width\": 700}, {\"mark\": {\"type\": \"area\"}, \"encoding\": {\"x\": {\"field\": \"date\", \"title\": null, \"type\": \"temporal\"}, \"y\": {\"field\": \"price\", \"type\": \"quantitative\"}}, \"height\": 60, \"name\": \"view_74\", \"width\": 700}], \"data\": {\"url\": \"https://cdn.jsdelivr.net/npm/vega-datasets@1/data/sp500.csv\"}, \"params\": [{\"name\": \"param_139\", \"select\": {\"type\": \"interval\", \"encodings\": [\"x\"]}, \"views\": [\"view_74\"]}], \"$schema\": \"https://vega.github.io/schema/vega-lite/v5.20.1.json\"}, {\"mode\": \"vega-lite\"});\n",
              "</script>"
            ],
            "text/plain": [
              "alt.VConcatChart(...)"
            ]
          },
          "metadata": {},
          "execution_count": 88
        }
      ],
      "source": [
        "brush = alt.selection_interval(encodings=['x']);\n",
        "\n",
        "base = alt.Chart().mark_area().encode(\n",
        "    alt.X('date:T', title=None),\n",
        "    alt.Y('price:Q')\n",
        ").properties(\n",
        "    width=700\n",
        ")\n",
        "\n",
        "alt.vconcat(\n",
        "    base.encode(alt.X('date:T', title=None, scale=alt.Scale(domain=brush))),\n",
        "    base.add_params(brush).properties(height=60),\n",
        "    data=sp500\n",
        ")"
      ]
    },
    {
      "cell_type": "markdown",
      "metadata": {
        "id": "OQkpzwrECjeB"
      },
      "source": [
        "<!--Unlike our earlier panning &amp; zooming case, here we don't want to bind a selection directly to the scales of a single interactive chart. Instead, we want to bind the selection to a scale domain in _another_ chart. To do so, we update the `x` encoding channel for our focus chart, setting the scale `domain` property to reference our `brush` selection. If no interval is defined (the selection is empty), Altair ignores the brush and uses the underlying data to determine the domain. When a brush interval is created, Altair instead uses that as the scale `domain` for the focus chart.-->\n",
        "\n",
        "Ao contrário do nosso conjunto panorâmica e zoom, aqui não queremos vincular uma seleção diretamente às escalas de um único gráfico interativo. Para isso, queremos vincular a seleção a um domínio de escala em _outro_ gráfico. Para fazer isso, atualizamos o canal de codificação `x` para nosso gráfico principal, definindo a propriedade de escala `domain` (domínio) para referenciar nossa seleção de `brush` (Pincel). Se nenhum intervalo for definido (seleção vazia), o Altair ignora o pincel e usa os dados subjacentes para determinar o domínio. Quando um intervalo de pincel é criado, o Altair o usa como o `domain` da escala para o gráfico principal."
      ]
    },
    {
      "cell_type": "markdown",
      "metadata": {
        "id": "mii6FZ5PCjeB"
      },
      "source": [
        "## <font color=\"#747a7f\">6.6</font> Detalhes sob demanda"
      ]
    },
    {
      "cell_type": "markdown",
      "metadata": {
        "id": "H8Dz_kuUCjeC"
      },
      "source": [
        "Após nós identificarmos pontos de interesse em uma visualização, por vezes nós queremos saber mais sobre eles. *Detalhes sob demanda* refere-se à consultar interativamente por mais informações sobre os valores selecionados. *Tooltips* são um método útil de oferecer detalhes sob demanda. Entretanto, as tooltips normalmente mostram informações apenas para um ponto por vez. Como nós poderíamos mostrar mais?\n",
        "\n",
        "O scatter plot das classificações de filmes inclui uma série de potenciais valores discrepantes interessantes onde as classificações do *Rotten Tomatoes* e do *IMDB* divergem. Vamos criar um gráfico que nos permita selecionar pontos interativamente e mostrar seus rótulos. Para acionar a consulta de filtro na interação de passar o mouse ou clicar, usaremos o [operador de composição Altair](https://altair-viz.github.io/user_guide/interactions.html#composing-multiple-selections) `|` (\"ou\").\n",
        "\n",
        "*Passe o cursor sobre os pontos no scatter plot abaixo para ver um destaque e um rótulo. Clique com a tecla Shift pressionada para tornar as anotações persistentes e visualizar vários rótulos de uma só vez. Quais filmes são amados pelos críticos do Rotten Tomatoes, mas não pelo público em geral no IMDB (ou vice-versa)? Veja se consegue encontrar possíveis erros, onde dois filmes diferentes com o mesmo nome foram acidentalmente combinados!*"
      ]
    },
    {
      "cell_type": "code",
      "execution_count": 89,
      "metadata": {
        "id": "MHMosDNiCjeC",
        "outputId": "ada44f2e-51a6-4c19-cbea-7f4c4b560275",
        "colab": {
          "base_uri": "https://localhost:8080/",
          "height": 518
        }
      },
      "outputs": [
        {
          "output_type": "execute_result",
          "data": {
            "text/html": [
              "\n",
              "<style>\n",
              "  #altair-viz-bed72347c03c4c9bae853dcf69495f11.vega-embed {\n",
              "    width: 100%;\n",
              "    display: flex;\n",
              "  }\n",
              "\n",
              "  #altair-viz-bed72347c03c4c9bae853dcf69495f11.vega-embed details,\n",
              "  #altair-viz-bed72347c03c4c9bae853dcf69495f11.vega-embed details summary {\n",
              "    position: relative;\n",
              "  }\n",
              "</style>\n",
              "<div id=\"altair-viz-bed72347c03c4c9bae853dcf69495f11\"></div>\n",
              "<script type=\"text/javascript\">\n",
              "  var VEGA_DEBUG = (typeof VEGA_DEBUG == \"undefined\") ? {} : VEGA_DEBUG;\n",
              "  (function(spec, embedOpt){\n",
              "    let outputDiv = document.currentScript.previousElementSibling;\n",
              "    if (outputDiv.id !== \"altair-viz-bed72347c03c4c9bae853dcf69495f11\") {\n",
              "      outputDiv = document.getElementById(\"altair-viz-bed72347c03c4c9bae853dcf69495f11\");\n",
              "    }\n",
              "\n",
              "    const paths = {\n",
              "      \"vega\": \"https://cdn.jsdelivr.net/npm/vega@5?noext\",\n",
              "      \"vega-lib\": \"https://cdn.jsdelivr.net/npm/vega-lib?noext\",\n",
              "      \"vega-lite\": \"https://cdn.jsdelivr.net/npm/vega-lite@5.20.1?noext\",\n",
              "      \"vega-embed\": \"https://cdn.jsdelivr.net/npm/vega-embed@6?noext\",\n",
              "    };\n",
              "\n",
              "    function maybeLoadScript(lib, version) {\n",
              "      var key = `${lib.replace(\"-\", \"\")}_version`;\n",
              "      return (VEGA_DEBUG[key] == version) ?\n",
              "        Promise.resolve(paths[lib]) :\n",
              "        new Promise(function(resolve, reject) {\n",
              "          var s = document.createElement('script');\n",
              "          document.getElementsByTagName(\"head\")[0].appendChild(s);\n",
              "          s.async = true;\n",
              "          s.onload = () => {\n",
              "            VEGA_DEBUG[key] = version;\n",
              "            return resolve(paths[lib]);\n",
              "          };\n",
              "          s.onerror = () => reject(`Error loading script: ${paths[lib]}`);\n",
              "          s.src = paths[lib];\n",
              "        });\n",
              "    }\n",
              "\n",
              "    function showError(err) {\n",
              "      outputDiv.innerHTML = `<div class=\"error\" style=\"color:red;\">${err}</div>`;\n",
              "      throw err;\n",
              "    }\n",
              "\n",
              "    function displayChart(vegaEmbed) {\n",
              "      vegaEmbed(outputDiv, spec, embedOpt)\n",
              "        .catch(err => showError(`Javascript Error: ${err.message}<br>This usually means there's a typo in your chart specification. See the javascript console for the full traceback.`));\n",
              "    }\n",
              "\n",
              "    if(typeof define === \"function\" && define.amd) {\n",
              "      requirejs.config({paths});\n",
              "      let deps = [\"vega-embed\"];\n",
              "      require(deps, displayChart, err => showError(`Error loading script: ${err.message}`));\n",
              "    } else {\n",
              "      maybeLoadScript(\"vega\", \"5\")\n",
              "        .then(() => maybeLoadScript(\"vega-lite\", \"5.20.1\"))\n",
              "        .then(() => maybeLoadScript(\"vega-embed\", \"6\"))\n",
              "        .catch(showError)\n",
              "        .then(() => displayChart(vegaEmbed));\n",
              "    }\n",
              "  })({\"config\": {\"view\": {\"continuousWidth\": 300, \"continuousHeight\": 300}}, \"layer\": [{\"mark\": {\"type\": \"circle\"}, \"encoding\": {\"x\": {\"field\": \"Rotten_Tomatoes_Rating\", \"type\": \"quantitative\"}, \"y\": {\"field\": \"IMDB_Rating\", \"type\": \"quantitative\"}}, \"name\": \"view_75\"}, {\"mark\": {\"type\": \"point\", \"size\": 100, \"stroke\": \"firebrick\", \"strokeWidth\": 1}, \"encoding\": {\"x\": {\"field\": \"Rotten_Tomatoes_Rating\", \"type\": \"quantitative\"}, \"y\": {\"field\": \"IMDB_Rating\", \"type\": \"quantitative\"}}, \"transform\": [{\"filter\": {\"or\": [{\"param\": \"param_140\"}, {\"param\": \"param_141\"}]}}]}, {\"mark\": {\"type\": \"text\", \"align\": \"right\", \"dx\": 4, \"dy\": -8, \"stroke\": \"white\", \"strokeWidth\": 2}, \"encoding\": {\"text\": {\"field\": \"Title\", \"type\": \"nominal\"}, \"x\": {\"field\": \"Rotten_Tomatoes_Rating\", \"type\": \"quantitative\"}, \"y\": {\"field\": \"IMDB_Rating\", \"type\": \"quantitative\"}}, \"transform\": [{\"filter\": {\"or\": [{\"param\": \"param_140\"}, {\"param\": \"param_141\"}]}}]}, {\"mark\": {\"type\": \"text\", \"align\": \"right\", \"dx\": 4, \"dy\": -8}, \"encoding\": {\"text\": {\"field\": \"Title\", \"type\": \"nominal\"}, \"x\": {\"field\": \"Rotten_Tomatoes_Rating\", \"type\": \"quantitative\"}, \"y\": {\"field\": \"IMDB_Rating\", \"type\": \"quantitative\"}}, \"transform\": [{\"filter\": {\"or\": [{\"param\": \"param_140\"}, {\"param\": \"param_141\"}]}}]}], \"data\": {\"url\": \"https://cdn.jsdelivr.net/npm/vega-datasets@1/data/movies.json\"}, \"height\": 450, \"params\": [{\"name\": \"param_140\", \"select\": {\"type\": \"point\", \"nearest\": true, \"on\": \"mouseover\", \"toggle\": false}, \"views\": [\"view_75\"]}, {\"name\": \"param_141\", \"select\": {\"type\": \"point\"}, \"views\": [\"view_75\"]}], \"width\": 600, \"$schema\": \"https://vega.github.io/schema/vega-lite/v5.20.1.json\"}, {\"mode\": \"vega-lite\"});\n",
              "</script>"
            ],
            "text/plain": [
              "alt.LayerChart(...)"
            ]
          },
          "metadata": {},
          "execution_count": 89
        }
      ],
      "source": [
        "hover = alt.selection_point(\n",
        "    on='mouseover',  # selecionar no mouseover\n",
        "    nearest=True,    # seleciona o ponto mais próximo do cursor\n",
        "    empty='none',    # seleção vazia não deve corresponder a nada\n",
        "    toggle=False     # remove o shift + mouseover\n",
        ")\n",
        "\n",
        "click = alt.selection_point(\n",
        "    empty='none' # seleção vazia não corresponde a nenhum ponto\n",
        ")\n",
        "\n",
        "# codificações do scatter plot compartilhadas por todas as marcas\n",
        "plot = alt.Chart().mark_circle().encode(\n",
        "    x='Rotten_Tomatoes_Rating:Q',\n",
        "    y='IMDB_Rating:Q'\n",
        ")\n",
        "\n",
        "# base compartilhada por novas camadas\n",
        "base = plot.transform_filter(\n",
        "    hover | click # filtrar os pontos em ambas as direções\n",
        ")\n",
        "\n",
        "# camada com pontos do scatter plot, anotação circular, e títulos dos rótulos\n",
        "alt.layer(\n",
        "    plot.add_params(hover).add_params(click),\n",
        "    base.mark_point(size=100, stroke='firebrick', strokeWidth=1),\n",
        "    base.mark_text(dx=4, dy=-8, align='right', stroke='white', strokeWidth=2).encode(text='Title:N'),\n",
        "    base.mark_text(dx=4, dy=-8, align='right').encode(text='Title:N'),\n",
        "    data=movies\n",
        ").properties(\n",
        "    width=600,\n",
        "    height=450\n",
        ")"
      ]
    },
    {
      "cell_type": "markdown",
      "metadata": {
        "id": "OFFXFaBRCjeC"
      },
      "source": [
        "O exemplo acima adiciona três novas camadas ao scatter plot: uma anotação circular, texto branco para fornecer um fundo legível, e texto preto mostrando o título de um filme. Além disso, este exemplo usa duas seleções em conjunto:\n",
        "\n",
        "1. Uma seleção única (`hover`) que inclui `nearest=True` para selecionar automaticamente o ponto mais próximo conforme o cursor se move.\n",
        "2. Uma seleção múltipla (`click`) para criar seleções persistentes via shift-click.\n",
        "\n",
        "Ambas as seleções incluem o conjunto `empty='none'` para indicar que nenhum ponto deve ser incluído se uma seleção estiver vazia. Estas seleções são então combinadas em uma único predicado &mdash; o *ou* lógico de `hover` e `click` &mdash; para incluir pontos que residem em *qualquer* seleção. Nós usamos esta condição para filtrar as novas camadas para mostrar anotações e rótulos apenas para pontos selecionados.\n",
        "\n",
        "Usando seleções e camadas, nós podemos realizar vários designs diferentes para obter detalhes sob demanda! Por exemplo, aqui está uma série temporal em escala logarítmica de preços de ações de tecnologia, anotada com uma diretriz e categorias para a data mais próxima do cursor:"
      ]
    },
    {
      "cell_type": "code",
      "execution_count": 90,
      "metadata": {
        "id": "yZ2GCFZXCjeD",
        "outputId": "b481a299-fc44-4c8e-b282-ecebbaa294f9",
        "colab": {
          "base_uri": "https://localhost:8080/",
          "height": 468
        }
      },
      "outputs": [
        {
          "output_type": "execute_result",
          "data": {
            "text/html": [
              "\n",
              "<style>\n",
              "  #altair-viz-a22ebd8357294e3ea65761f9841ba4f9.vega-embed {\n",
              "    width: 100%;\n",
              "    display: flex;\n",
              "  }\n",
              "\n",
              "  #altair-viz-a22ebd8357294e3ea65761f9841ba4f9.vega-embed details,\n",
              "  #altair-viz-a22ebd8357294e3ea65761f9841ba4f9.vega-embed details summary {\n",
              "    position: relative;\n",
              "  }\n",
              "</style>\n",
              "<div id=\"altair-viz-a22ebd8357294e3ea65761f9841ba4f9\"></div>\n",
              "<script type=\"text/javascript\">\n",
              "  var VEGA_DEBUG = (typeof VEGA_DEBUG == \"undefined\") ? {} : VEGA_DEBUG;\n",
              "  (function(spec, embedOpt){\n",
              "    let outputDiv = document.currentScript.previousElementSibling;\n",
              "    if (outputDiv.id !== \"altair-viz-a22ebd8357294e3ea65761f9841ba4f9\") {\n",
              "      outputDiv = document.getElementById(\"altair-viz-a22ebd8357294e3ea65761f9841ba4f9\");\n",
              "    }\n",
              "\n",
              "    const paths = {\n",
              "      \"vega\": \"https://cdn.jsdelivr.net/npm/vega@5?noext\",\n",
              "      \"vega-lib\": \"https://cdn.jsdelivr.net/npm/vega-lib?noext\",\n",
              "      \"vega-lite\": \"https://cdn.jsdelivr.net/npm/vega-lite@5.20.1?noext\",\n",
              "      \"vega-embed\": \"https://cdn.jsdelivr.net/npm/vega-embed@6?noext\",\n",
              "    };\n",
              "\n",
              "    function maybeLoadScript(lib, version) {\n",
              "      var key = `${lib.replace(\"-\", \"\")}_version`;\n",
              "      return (VEGA_DEBUG[key] == version) ?\n",
              "        Promise.resolve(paths[lib]) :\n",
              "        new Promise(function(resolve, reject) {\n",
              "          var s = document.createElement('script');\n",
              "          document.getElementsByTagName(\"head\")[0].appendChild(s);\n",
              "          s.async = true;\n",
              "          s.onload = () => {\n",
              "            VEGA_DEBUG[key] = version;\n",
              "            return resolve(paths[lib]);\n",
              "          };\n",
              "          s.onerror = () => reject(`Error loading script: ${paths[lib]}`);\n",
              "          s.src = paths[lib];\n",
              "        });\n",
              "    }\n",
              "\n",
              "    function showError(err) {\n",
              "      outputDiv.innerHTML = `<div class=\"error\" style=\"color:red;\">${err}</div>`;\n",
              "      throw err;\n",
              "    }\n",
              "\n",
              "    function displayChart(vegaEmbed) {\n",
              "      vegaEmbed(outputDiv, spec, embedOpt)\n",
              "        .catch(err => showError(`Javascript Error: ${err.message}<br>This usually means there's a typo in your chart specification. See the javascript console for the full traceback.`));\n",
              "    }\n",
              "\n",
              "    if(typeof define === \"function\" && define.amd) {\n",
              "      requirejs.config({paths});\n",
              "      let deps = [\"vega-embed\"];\n",
              "      require(deps, displayChart, err => showError(`Error loading script: ${err.message}`));\n",
              "    } else {\n",
              "      maybeLoadScript(\"vega\", \"5\")\n",
              "        .then(() => maybeLoadScript(\"vega-lite\", \"5.20.1\"))\n",
              "        .then(() => maybeLoadScript(\"vega-embed\", \"6\"))\n",
              "        .catch(showError)\n",
              "        .then(() => displayChart(vegaEmbed));\n",
              "    }\n",
              "  })({\"config\": {\"view\": {\"continuousWidth\": 300, \"continuousHeight\": 300}}, \"layer\": [{\"mark\": {\"type\": \"line\"}, \"encoding\": {\"color\": {\"field\": \"symbol\", \"type\": \"nominal\"}, \"x\": {\"field\": \"date\", \"type\": \"temporal\"}, \"y\": {\"field\": \"price\", \"scale\": {\"type\": \"log\"}, \"type\": \"quantitative\"}}}, {\"mark\": {\"type\": \"rule\", \"color\": \"#aaa\"}, \"encoding\": {\"x\": {\"field\": \"date\", \"type\": \"temporal\"}}, \"transform\": [{\"filter\": {\"param\": \"param_142\", \"empty\": false}}]}, {\"mark\": {\"type\": \"circle\"}, \"encoding\": {\"color\": {\"field\": \"symbol\", \"type\": \"nominal\"}, \"opacity\": {\"condition\": {\"param\": \"param_142\", \"value\": 1, \"empty\": false}, \"value\": 0}, \"x\": {\"field\": \"date\", \"type\": \"temporal\"}, \"y\": {\"field\": \"price\", \"scale\": {\"type\": \"log\"}, \"type\": \"quantitative\"}}, \"name\": \"view_76\"}, {\"mark\": {\"type\": \"text\", \"align\": \"left\", \"dx\": 5, \"dy\": -5, \"stroke\": \"white\", \"strokeWidth\": 2}, \"encoding\": {\"color\": {\"field\": \"symbol\", \"type\": \"nominal\"}, \"text\": {\"field\": \"price\", \"type\": \"quantitative\"}, \"x\": {\"field\": \"date\", \"type\": \"temporal\"}, \"y\": {\"field\": \"price\", \"scale\": {\"type\": \"log\"}, \"type\": \"quantitative\"}}, \"transform\": [{\"filter\": {\"param\": \"param_142\", \"empty\": false}}]}, {\"mark\": {\"type\": \"text\", \"align\": \"left\", \"dx\": 5, \"dy\": -5}, \"encoding\": {\"color\": {\"field\": \"symbol\", \"type\": \"nominal\"}, \"text\": {\"field\": \"price\", \"type\": \"quantitative\"}, \"x\": {\"field\": \"date\", \"type\": \"temporal\"}, \"y\": {\"field\": \"price\", \"scale\": {\"type\": \"log\"}, \"type\": \"quantitative\"}}, \"transform\": [{\"filter\": {\"param\": \"param_142\", \"empty\": false}}]}], \"data\": {\"url\": \"https://cdn.jsdelivr.net/npm/vega-datasets@1/data/stocks.csv\"}, \"height\": 400, \"params\": [{\"name\": \"param_142\", \"select\": {\"type\": \"point\", \"encodings\": [\"x\"], \"nearest\": true, \"on\": \"mouseover\"}, \"views\": [\"view_76\"]}], \"width\": 700, \"$schema\": \"https://vega.github.io/schema/vega-lite/v5.20.1.json\"}, {\"mode\": \"vega-lite\"});\n",
              "</script>"
            ],
            "text/plain": [
              "alt.LayerChart(...)"
            ]
          },
          "metadata": {},
          "execution_count": 90
        }
      ],
      "source": [
        "# seleciona um ponto para o qual oferece detalhes sob demanda\n",
        "label = alt.selection_point(\n",
        "    encodings=['x'], # limita a seleção ao valor do eixo x\n",
        "    on='mouseover',  # seleciona em eventos mouseover\n",
        "    nearest=True,    # seleciona o ponto mais próximo do cursor\n",
        "    empty='none'     # seleção vazia não inclui nenhum ponto\n",
        ")\n",
        "\n",
        "# define nosso gráfico de linha dos preços das ações\n",
        "base = alt.Chart().mark_line().encode(\n",
        "    alt.X('date:T'),\n",
        "    alt.Y('price:Q', scale=alt.Scale(type='log')),\n",
        "    alt.Color('symbol:N')\n",
        ")\n",
        "\n",
        "alt.layer(\n",
        "    base, # gráfico de linha base\n",
        "\n",
        "    # adiciona uma marca para servir como linha guia\n",
        "    alt.Chart().mark_rule(color='#aaa').encode(\n",
        "        x='date:T'\n",
        "    ).transform_filter(label),\n",
        "\n",
        "    # adiciona marcas circulares para pontos de tempo selecionados, oculta pontos não selecionados\n",
        "    base.mark_circle().encode(\n",
        "        opacity=alt.condition(label, alt.value(1), alt.value(0))\n",
        "    ).add_params(label),\n",
        "\n",
        "    # adiciona texto branco para oferecer um fundo legível para rótulos\n",
        "    base.mark_text(align='left', dx=5, dy=-5, stroke='white', strokeWidth=2).encode(\n",
        "        text='price:Q'\n",
        "    ).transform_filter(label),\n",
        "\n",
        "    # adiciona rótulos de texto para o preços das ações\n",
        "    base.mark_text(align='left', dx=5, dy=-5).encode(\n",
        "        text='price:Q'\n",
        "    ).transform_filter(label),\n",
        "\n",
        "    data=stocks\n",
        ").properties(\n",
        "    width=700,\n",
        "    height=400\n",
        ")"
      ]
    },
    {
      "cell_type": "markdown",
      "metadata": {
        "id": "zP9Pd7EwCjeD"
      },
      "source": [
        "*Colocando em ação o que nós aprendemos até agora: você pode modificar o scatter plot do filme acima (aquele com a consulta dinâmica ao longo dos anos) para incluir uma marca `rule` que mostra a classificação média do IMDB (ou Rotten Tomatoes) para os dados contidos na seleção `interval` do ano?*"
      ]
    },
    {
      "cell_type": "markdown",
      "metadata": {
        "id": "LTgkv-osCjeD"
      },
      "source": [
        "## <font color=\"#747a7f\">6.7</font> Brushing & Linking, Revisão"
      ]
    },
    {
      "cell_type": "markdown",
      "metadata": {
        "id": "YitcHHDuCjeE"
      },
      "source": [
        "Anteriormente neste notebook nós vimos um exemplo de *brushing & linking*: usando um histograma de consulta dinâmica para destacar pontos em um scatter plot de classificação de filme. Aqui, nós visitaremos alguns exemplos adicionais envolvendo seleções vinculadas.\n",
        "\n",
        "Voltando ao dataset `cars`, nós podemos usar o operador `repeat` para construir uma [matriz de scatter plot (SPLOM)](https://en.wikipedia.org/wiki/Scatter_plot#Scatterplot_matrices) que mostra associações entre quilometragem, aceleração e cavalos de potência. Nós podemos definir uma seleção  `interval` e incluí-la *dentro* de nossa especificação de scatter plot repetido para permitir seleções vinculadas entre todos os gráficos.\n",
        "\n",
        "*Clique e arraste em qualquer uma das visualizações abaixo para realizar o brushing & linking!*"
      ]
    },
    {
      "cell_type": "code",
      "execution_count": 91,
      "metadata": {
        "id": "1H5x6TRpCjeE",
        "outputId": "9fdf4bfe-758f-4899-9664-8adbc2d15006",
        "colab": {
          "base_uri": "https://localhost:8080/",
          "height": 598
        }
      },
      "outputs": [
        {
          "output_type": "execute_result",
          "data": {
            "text/html": [
              "\n",
              "<style>\n",
              "  #altair-viz-86f3aa4699d4404a9778a51c78517ac4.vega-embed {\n",
              "    width: 100%;\n",
              "    display: flex;\n",
              "  }\n",
              "\n",
              "  #altair-viz-86f3aa4699d4404a9778a51c78517ac4.vega-embed details,\n",
              "  #altair-viz-86f3aa4699d4404a9778a51c78517ac4.vega-embed details summary {\n",
              "    position: relative;\n",
              "  }\n",
              "</style>\n",
              "<div id=\"altair-viz-86f3aa4699d4404a9778a51c78517ac4\"></div>\n",
              "<script type=\"text/javascript\">\n",
              "  var VEGA_DEBUG = (typeof VEGA_DEBUG == \"undefined\") ? {} : VEGA_DEBUG;\n",
              "  (function(spec, embedOpt){\n",
              "    let outputDiv = document.currentScript.previousElementSibling;\n",
              "    if (outputDiv.id !== \"altair-viz-86f3aa4699d4404a9778a51c78517ac4\") {\n",
              "      outputDiv = document.getElementById(\"altair-viz-86f3aa4699d4404a9778a51c78517ac4\");\n",
              "    }\n",
              "\n",
              "    const paths = {\n",
              "      \"vega\": \"https://cdn.jsdelivr.net/npm/vega@5?noext\",\n",
              "      \"vega-lib\": \"https://cdn.jsdelivr.net/npm/vega-lib?noext\",\n",
              "      \"vega-lite\": \"https://cdn.jsdelivr.net/npm/vega-lite@5.20.1?noext\",\n",
              "      \"vega-embed\": \"https://cdn.jsdelivr.net/npm/vega-embed@6?noext\",\n",
              "    };\n",
              "\n",
              "    function maybeLoadScript(lib, version) {\n",
              "      var key = `${lib.replace(\"-\", \"\")}_version`;\n",
              "      return (VEGA_DEBUG[key] == version) ?\n",
              "        Promise.resolve(paths[lib]) :\n",
              "        new Promise(function(resolve, reject) {\n",
              "          var s = document.createElement('script');\n",
              "          document.getElementsByTagName(\"head\")[0].appendChild(s);\n",
              "          s.async = true;\n",
              "          s.onload = () => {\n",
              "            VEGA_DEBUG[key] = version;\n",
              "            return resolve(paths[lib]);\n",
              "          };\n",
              "          s.onerror = () => reject(`Error loading script: ${paths[lib]}`);\n",
              "          s.src = paths[lib];\n",
              "        });\n",
              "    }\n",
              "\n",
              "    function showError(err) {\n",
              "      outputDiv.innerHTML = `<div class=\"error\" style=\"color:red;\">${err}</div>`;\n",
              "      throw err;\n",
              "    }\n",
              "\n",
              "    function displayChart(vegaEmbed) {\n",
              "      vegaEmbed(outputDiv, spec, embedOpt)\n",
              "        .catch(err => showError(`Javascript Error: ${err.message}<br>This usually means there's a typo in your chart specification. See the javascript console for the full traceback.`));\n",
              "    }\n",
              "\n",
              "    if(typeof define === \"function\" && define.amd) {\n",
              "      requirejs.config({paths});\n",
              "      let deps = [\"vega-embed\"];\n",
              "      require(deps, displayChart, err => showError(`Error loading script: ${err.message}`));\n",
              "    } else {\n",
              "      maybeLoadScript(\"vega\", \"5\")\n",
              "        .then(() => maybeLoadScript(\"vega-lite\", \"5.20.1\"))\n",
              "        .then(() => maybeLoadScript(\"vega-embed\", \"6\"))\n",
              "        .catch(showError)\n",
              "        .then(() => displayChart(vegaEmbed));\n",
              "    }\n",
              "  })({\"config\": {\"view\": {\"continuousWidth\": 300, \"continuousHeight\": 300}}, \"repeat\": {\"column\": [\"Acceleration\", \"Horsepower\", \"Miles_per_Gallon\"], \"row\": [\"Miles_per_Gallon\", \"Horsepower\", \"Acceleration\"]}, \"spec\": {\"data\": {\"url\": \"https://cdn.jsdelivr.net/npm/vega-datasets@1/data/cars.json\"}, \"mark\": {\"type\": \"circle\"}, \"encoding\": {\"color\": {\"condition\": {\"param\": \"param_143\", \"field\": \"Cylinders\", \"type\": \"ordinal\"}, \"value\": \"grey\"}, \"opacity\": {\"condition\": {\"param\": \"param_143\", \"value\": 0.8}, \"value\": 0.1}, \"x\": {\"field\": {\"repeat\": \"column\"}, \"type\": \"quantitative\"}, \"y\": {\"field\": {\"repeat\": \"row\"}, \"type\": \"quantitative\"}}, \"height\": 140, \"name\": \"view_77\", \"width\": 140}, \"params\": [{\"name\": \"param_143\", \"select\": {\"type\": \"interval\", \"resolve\": \"global\"}, \"views\": [\"view_77_child__row_Miles_per_Galloncolumn_Acceleration\", \"view_77_child__row_Miles_per_Galloncolumn_Horsepower\", \"view_77_child__row_Miles_per_Galloncolumn_Miles_per_Gallon\", \"view_77_child__row_Horsepowercolumn_Acceleration\", \"view_77_child__row_Horsepowercolumn_Horsepower\", \"view_77_child__row_Horsepowercolumn_Miles_per_Gallon\", \"view_77_child__row_Accelerationcolumn_Acceleration\", \"view_77_child__row_Accelerationcolumn_Horsepower\", \"view_77_child__row_Accelerationcolumn_Miles_per_Gallon\"]}], \"$schema\": \"https://vega.github.io/schema/vega-lite/v5.20.1.json\"}, {\"mode\": \"vega-lite\"});\n",
              "</script>"
            ],
            "text/plain": [
              "alt.RepeatChart(...)"
            ]
          },
          "metadata": {},
          "execution_count": 91
        }
      ],
      "source": [
        "brush = alt.selection_interval(\n",
        "    resolve='global' # resolve todas as seleções para uma única instância global\n",
        ")\n",
        "\n",
        "alt.Chart(cars).mark_circle().add_params(\n",
        "    brush\n",
        ").encode(\n",
        "    alt.X(alt.repeat('column'), type='quantitative'),\n",
        "    alt.Y(alt.repeat('row'), type='quantitative'),\n",
        "    color=alt.condition(brush, 'Cylinders:O', alt.value('grey')),\n",
        "    opacity=alt.condition(brush, alt.value(0.8), alt.value(0.1))\n",
        ").properties(\n",
        "    width=140,\n",
        "    height=140\n",
        ").repeat(\n",
        "    column=['Acceleration', 'Horsepower', 'Miles_per_Gallon'],\n",
        "    row=['Miles_per_Gallon', 'Horsepower', 'Acceleration']\n",
        ")"
      ]
    },
    {
      "cell_type": "markdown",
      "metadata": {
        "id": "qLpHS__oCjeE"
      },
      "source": [
        "Observe acima o uso de `resolve='global'` na seleção `interval`. A configuração padrão `'global'` indica que em todos os gráficos apenas um brush pode estar ativo por vez. Entretanto, em alguns casos, nós poderíamos querer definir brushes em vários gráficos e combinar os resultados. Se nós usarmos `resolve='union'`, a seleção será a *união* de todos os brushes: se um ponto estiver dentro de qualquer brush ele será selecionado. Alternativamente, se usarmos `resolve='intersect'`, a seleção consistirá na *interseção* de todos os brushes: apenas os pontos que estão dentro de todos os brushes serão selecionados.\n",
        "\n",
        "*Tente definir o parâmetro `resolve` para `'union'` e `'intersect'` e veja como isso muda a lógica da seleção resultante.*"
      ]
    }
  ],
  "metadata": {
    "kernelspec": {
      "display_name": "Python 3",
      "language": "python",
      "name": "python3"
    },
    "language_info": {
      "codemirror_mode": {
        "name": "ipython",
        "version": 3
      },
      "file_extension": ".py",
      "mimetype": "text/x-python",
      "name": "python",
      "nbconvert_exporter": "python",
      "pygments_lexer": "ipython3",
      "version": "3.7.9"
    },
    "colab": {
      "provenance": []
    }
  },
  "nbformat": 4,
  "nbformat_minor": 0
}