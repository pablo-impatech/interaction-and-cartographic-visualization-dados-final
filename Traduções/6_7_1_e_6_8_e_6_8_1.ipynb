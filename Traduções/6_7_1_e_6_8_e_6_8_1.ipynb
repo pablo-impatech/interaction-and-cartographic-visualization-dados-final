{
  "cells": [
    {
      "cell_type": "code",
      "source": [
        "import altair as alt\n",
        "flights = 'https://cdn.jsdelivr.net/npm/vega-datasets@1/data/flights-5k.json'"
      ],
      "metadata": {
        "id": "_QfQbbsIUijQ"
      },
      "execution_count": 1,
      "outputs": []
    },
    {
      "cell_type": "markdown",
      "metadata": {
        "id": "8eQjelPd3VML"
      },
      "source": [
        "### <font color=\"#747a7f\">6.7.1</font> Filtragem Cruzada\n",
        "\n",
        "Os exemplos de brushing & linking que nós analisamos até agora utilizam codificações condicionais, por exemplo para alterar valores de opacidade em resposta a uma seleção. Outra opção é usar uma seleção definida em uma visualização para *filtrar* o conteúdo de outra visualização.\n",
        "\n",
        "Vamos construir uma coleção de histogramas para o dataset `flights`: o `delay` de chegada (o quão cedo ou tarde um voo chega, em minutos), `distance` (a distância percorrida em milhas) e `time` (hora do dia da partida). Nós usaremos o operador `repeat` para criar os histogramas e adicionar uma seleção de intervalo (`interval`) para o eixo `x`, com seleções filtradas pela interseção (brush).\n",
        "\n",
        "Em particular, cada histograma consistirá em duas camadas: uma camada de fundo cinza e uma camada de primeiro plano azul, com a camada de primeiro plano filtrada pela interseção das seleções brush. O resultado é uma interação de *filtragem cruzada* entre os três gráficos!\n",
        "\n",
        "*Arraste os intervalos de seleção nos gráficos abaixo. Ao selecionar voos com maiores ou menores atrasos na chegada, como as distribuições de distância e horário reagem?*\n"
      ]
    },
    {
      "cell_type": "code",
      "execution_count": 2,
      "metadata": {
        "id": "sdmYCRV43VML",
        "outputId": "63620de9-c69f-473f-dc97-772dc9f17457",
        "colab": {
          "base_uri": "https://localhost:8080/",
          "height": 503
        }
      },
      "outputs": [
        {
          "output_type": "execute_result",
          "data": {
            "text/html": [
              "\n",
              "<style>\n",
              "  #altair-viz-d1e7f59b3aec451e8bdc7396aaf23eac.vega-embed {\n",
              "    width: 100%;\n",
              "    display: flex;\n",
              "  }\n",
              "\n",
              "  #altair-viz-d1e7f59b3aec451e8bdc7396aaf23eac.vega-embed details,\n",
              "  #altair-viz-d1e7f59b3aec451e8bdc7396aaf23eac.vega-embed details summary {\n",
              "    position: relative;\n",
              "  }\n",
              "</style>\n",
              "<div id=\"altair-viz-d1e7f59b3aec451e8bdc7396aaf23eac\"></div>\n",
              "<script type=\"text/javascript\">\n",
              "  var VEGA_DEBUG = (typeof VEGA_DEBUG == \"undefined\") ? {} : VEGA_DEBUG;\n",
              "  (function(spec, embedOpt){\n",
              "    let outputDiv = document.currentScript.previousElementSibling;\n",
              "    if (outputDiv.id !== \"altair-viz-d1e7f59b3aec451e8bdc7396aaf23eac\") {\n",
              "      outputDiv = document.getElementById(\"altair-viz-d1e7f59b3aec451e8bdc7396aaf23eac\");\n",
              "    }\n",
              "\n",
              "    const paths = {\n",
              "      \"vega\": \"https://cdn.jsdelivr.net/npm/vega@5?noext\",\n",
              "      \"vega-lib\": \"https://cdn.jsdelivr.net/npm/vega-lib?noext\",\n",
              "      \"vega-lite\": \"https://cdn.jsdelivr.net/npm/vega-lite@5.20.1?noext\",\n",
              "      \"vega-embed\": \"https://cdn.jsdelivr.net/npm/vega-embed@6?noext\",\n",
              "    };\n",
              "\n",
              "    function maybeLoadScript(lib, version) {\n",
              "      var key = `${lib.replace(\"-\", \"\")}_version`;\n",
              "      return (VEGA_DEBUG[key] == version) ?\n",
              "        Promise.resolve(paths[lib]) :\n",
              "        new Promise(function(resolve, reject) {\n",
              "          var s = document.createElement('script');\n",
              "          document.getElementsByTagName(\"head\")[0].appendChild(s);\n",
              "          s.async = true;\n",
              "          s.onload = () => {\n",
              "            VEGA_DEBUG[key] = version;\n",
              "            return resolve(paths[lib]);\n",
              "          };\n",
              "          s.onerror = () => reject(`Error loading script: ${paths[lib]}`);\n",
              "          s.src = paths[lib];\n",
              "        });\n",
              "    }\n",
              "\n",
              "    function showError(err) {\n",
              "      outputDiv.innerHTML = `<div class=\"error\" style=\"color:red;\">${err}</div>`;\n",
              "      throw err;\n",
              "    }\n",
              "\n",
              "    function displayChart(vegaEmbed) {\n",
              "      vegaEmbed(outputDiv, spec, embedOpt)\n",
              "        .catch(err => showError(`Javascript Error: ${err.message}<br>This usually means there's a typo in your chart specification. See the javascript console for the full traceback.`));\n",
              "    }\n",
              "\n",
              "    if(typeof define === \"function\" && define.amd) {\n",
              "      requirejs.config({paths});\n",
              "      let deps = [\"vega-embed\"];\n",
              "      require(deps, displayChart, err => showError(`Error loading script: ${err.message}`));\n",
              "    } else {\n",
              "      maybeLoadScript(\"vega\", \"5\")\n",
              "        .then(() => maybeLoadScript(\"vega-lite\", \"5.20.1\"))\n",
              "        .then(() => maybeLoadScript(\"vega-embed\", \"6\"))\n",
              "        .catch(showError)\n",
              "        .then(() => displayChart(vegaEmbed));\n",
              "    }\n",
              "  })({\"config\": {\"view\": {\"continuousWidth\": 300, \"continuousHeight\": 300, \"stroke\": \"transparent\"}}, \"repeat\": {\"row\": [\"delay\", \"distance\", \"time\"]}, \"spec\": {\"layer\": [{\"mark\": {\"type\": \"bar\"}, \"encoding\": {\"color\": {\"value\": \"lightgrey\"}, \"x\": {\"axis\": {\"format\": \"d\", \"titleAnchor\": \"start\"}, \"bin\": {\"maxbins\": 100, \"minstep\": 1}, \"field\": {\"repeat\": \"row\"}, \"type\": \"quantitative\"}, \"y\": {\"aggregate\": \"count\", \"title\": null, \"type\": \"quantitative\"}}, \"name\": \"view_1\"}, {\"mark\": {\"type\": \"bar\"}, \"encoding\": {\"x\": {\"axis\": {\"format\": \"d\", \"titleAnchor\": \"start\"}, \"bin\": {\"maxbins\": 100, \"minstep\": 1}, \"field\": {\"repeat\": \"row\"}, \"type\": \"quantitative\"}, \"y\": {\"aggregate\": \"count\", \"title\": null, \"type\": \"quantitative\"}}, \"transform\": [{\"filter\": {\"param\": \"param_1\"}}]}], \"height\": 100, \"width\": 900}, \"data\": {\"url\": \"https://cdn.jsdelivr.net/npm/vega-datasets@1/data/flights-5k.json\"}, \"params\": [{\"name\": \"param_1\", \"select\": {\"type\": \"interval\", \"encodings\": [\"x\"], \"resolve\": \"intersect\"}, \"views\": [\"child__row_delay_view_1\", \"child__row_distance_view_1\", \"child__row_time_view_1\"]}], \"transform\": [{\"calculate\": \"datum.delay < 180 ? datum.delay : 180\", \"as\": \"delay\"}, {\"calculate\": \"hours(datum.date) + minutes(datum.date) / 60\", \"as\": \"time\"}], \"$schema\": \"https://vega.github.io/schema/vega-lite/v5.20.1.json\"}, {\"mode\": \"vega-lite\"});\n",
              "</script>"
            ],
            "text/plain": [
              "alt.RepeatChart(...)"
            ]
          },
          "metadata": {},
          "execution_count": 2
        }
      ],
      "source": [
        "brush = alt.selection_interval(\n",
        "    encodings=['x'],\n",
        "    resolve='intersect'\n",
        ");\n",
        "\n",
        "hist = alt.Chart().mark_bar().encode(\n",
        "    alt.X(alt.repeat('row'), type='quantitative',\n",
        "        bin=alt.Bin(maxbins=100, minstep=1), # até 100 intervalos\n",
        "        axis=alt.Axis(format='d', titleAnchor='start') # formato inteiro, título alinhado à esquerda\n",
        "    ),\n",
        "    alt.Y('count():Q', title=None) # sem título no eixo y\n",
        ")\n",
        "\n",
        "alt.layer(\n",
        "    hist.add_params(brush).encode(color=alt.value('lightgrey')),\n",
        "    hist.transform_filter(brush)\n",
        ").properties(\n",
        "    width=900,\n",
        "    height=100\n",
        ").repeat(\n",
        "    row=['delay', 'distance', 'time'],\n",
        "    data=flights\n",
        ").transform_calculate(\n",
        "    delay='datum.delay < 180 ? datum.delay : 180', # fixa atrasos maiores que 3 horas em 180 minutos\n",
        "    time='hours(datum.date) + minutes(datum.date) / 60' # horas fracionárias\n",
        ").configure_view(\n",
        "    stroke='transparent' # sem outline\n",
        ")"
      ]
    },
    {
      "cell_type": "markdown",
      "metadata": {
        "id": "W3vuyVhF3VML"
      },
      "source": [
        "*Com a filtragem cruzada, você pode observar que voos atrasados têm mais chance de partir em horários mais tardios. Esse fenômeno é familiar para viajantes frequentes: um atraso pode se propagar ao longo do dia, afetando os voos subsequentes da mesma aeronave. Para aumentar as chances de uma chegada pontual, reserve um voo mais cedo!*\n",
        "\n",
        "A combinação de múltiplas visualizações e seleções interativas pode possibilitar formas valiosas de análise multidimensional, transformando até mesmo histogramas básicos em poderosas ferramentas para fazer perguntas a um dataset!\n"
      ]
    },
    {
      "cell_type": "markdown",
      "metadata": {
        "id": "E_hDxp6V3VML"
      },
      "source": [
        "## <font color=\"#747a7f\">6.8</font> Sumário"
      ]
    },
    {
      "cell_type": "markdown",
      "metadata": {
        "id": "CR6_J5vX3VMM"
      },
      "source": [
        "Para mais informações sobre as opções de interação suportadas no Altair, por favor consulte a [documentação de seleção interativa do Altair](https://altair-viz.github.io/user_guide/interactions.html). Para detalhes sobre como personalizar manipuladores de eventos, por exemplo para compor várias técnicas de interação ou suportar entrada por toque em dispositivos móveis, consulte a [documentação de seleção do Vega-Lite](https://vega.github.io/vega-lite/docs/selection.html).\n",
        "\n",
        "Interessado em aprender mais? - A abstração de *seleção* foi introduzida no artigo [Vega-Lite: A Grammar of Interactive Graphics](http://idl.cs.washington.edu/papers/vega-lite/), de Satyanarayan, Moritz, Wongsuphasawat e Heer. - O sistema PRIM-9 (para projeção, rotação, isolamento e mascaramento em até 9 dimensões) é uma das primeiras ferramentas de visualização interativas, desenvolvida no início dos anos 1970 por Fisherkeller, Tukey e Friedman. [Um vídeo demo retro ainda existe!](https://www.youtube.com/watch?v=B7XoW2qiFUA) - O conceito de brushing & linking foi consolidado por Becker, Cleveland e Wilks no artigo de 1987 [Dynamic Graphics for Data Analysis](https://scholar.google.com/scholar?cluster=14817303117298653693). - Para um resumo abrangente das técnicas de interação para visualização, consulte [Interactive Dynamics for Visual Analysis](https://queue.acm.org/detail.cfm?id=2146416) de Heer & Shneiderman. - Finalmente, para um tratado sobre o que torna a interação eficaz, leia o clássico artigo [Direct Manipulation Interfaces](https://scholar.google.com/scholar?cluster=15702972136892195211) de Hutchins, Hollan e Norman.\n"
      ]
    },
    {
      "cell_type": "markdown",
      "metadata": {
        "id": "Tb8HoZyr3VMM"
      },
      "source": [
        "#### <font color=\"#747a7f\">6.8.0.1</font> Apêndice: Sobre a Representação do Tempo\n",
        "\n",
        "Anteriormente, nós observamos um pequeno pico no número de filmes em 1969 e 1970. De onde vem esse pico? E por que 1969 *ou* 1970? A resposta vem de uma combinação de dados ausentes e como o seu computador representa o tempo.\n",
        "\n",
        "Internamente, datas e horários são representados em relação ao [epoch UNIX](https://en.wikipedia.org/wiki/Unix_time), onde o tempo \"zero\" corresponde à meia-noite de 1º de janeiro de 1970 no horário [UTC](https://en.wikipedia.org/wiki/Coordinated_Universal_Time), que segue o [meridiano principal](https://en.wikipedia.org/wiki/Prime_meridian). Acontece que há alguns filmes com datas de lançamento ausentes (`null`). Esses valores `null` são interpretados como tempo `0`, e, portanto, mapeados para 1º de janeiro de 1970 no horário UTC. Se você mora nas Américas – e, portanto, em fusos horários \"anteriores\" – esse ponto exato no tempo corresponde a uma hora anterior em 31 de dezembro de 1969 no seu fuso horário local. Por outro lado, se você mora perto ou a leste do meridiano principal, a data no seu fuso horário local será 1º de janeiro de 1970.\n",
        "\n",
        "A lição? Sempre seja cético com seus dados e tenha em mente que a forma como os dados são representados (seja como datas e horários, números de ponto flutuante, latitudes e longitudes, *etc.*) pode, por vezes, levar a artefatos que impactam a análise!\n"
      ]
    }
  ],
  "metadata": {
    "kernelspec": {
      "display_name": "Python 3 (ipykernel)",
      "language": "python",
      "name": "python3"
    },
    "language_info": {
      "codemirror_mode": {
        "name": "ipython",
        "version": 3
      },
      "file_extension": ".py",
      "mimetype": "text/x-python",
      "name": "python",
      "nbconvert_exporter": "python",
      "pygments_lexer": "ipython3",
      "version": "3.11.1"
    },
    "colab": {
      "provenance": []
    }
  },
  "nbformat": 4,
  "nbformat_minor": 0
}