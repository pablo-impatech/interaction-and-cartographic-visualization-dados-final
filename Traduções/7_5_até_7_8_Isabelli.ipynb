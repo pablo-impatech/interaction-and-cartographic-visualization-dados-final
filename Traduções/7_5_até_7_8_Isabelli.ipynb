{
  "nbformat": 4,
  "nbformat_minor": 0,
  "metadata": {
    "colab": {
      "provenance": []
    },
    "kernelspec": {
      "name": "python3",
      "display_name": "Python 3"
    },
    "language_info": {
      "name": "python"
    }
  },
  "cells": [
    {
      "cell_type": "markdown",
      "source": [
        "## <font color=\"#747a7f\">7.5</font> Mapas coropléticos"
      ],
      "metadata": {
        "id": "IIMiJW7HChJ_"
      }
    },
    {
      "cell_type": "markdown",
      "source": [
        "Um [mapa coroplético](https://pt.wikipedia.org/wiki/Mapa_coropl%C3%A9tico) usa regiões sombreadas ou texturizadas para visualizar valores de dados. Mapas de símbolos dimensionados costumam ser mais precisos para ler, pois as pessoas tendem a ser melhores em estimar diferenças proporcionais entre a área de círculos do que entre tons de cores. No entanto, os mapas coropléticos são populares na prática e particularmente úteis quando muitos símbolos se tornam perceptivelmente esmagadores.\n",
        "\n",
        "Por exemplo, embora os Estados Unidos tenham apenas 50 estados, eles têm milhares de condados dentro desses estados. Vamos construir um mapa coroplético da taxa de desemprego por condado, no ano de recessão de 2008. Em alguns casos, os arquivos GeoJSON ou TopoJSON de entrada podem incluir dados estatísticos que podemos visualizar diretamente. Neste caso, entretanto, nós temos dois arquivos: nosso arquivo TopoJSON que inclui features de fronteira de condado (`usa`), e um arquivo de texto separado que contém estatísticas de desemprego:"
      ],
      "metadata": {
        "id": "HL9FYeD9CbNo"
      }
    },
    {
      "cell_type": "code",
      "source": [
        "unemp = data.unemployment.url\n",
        "unemp"
      ],
      "metadata": {
        "colab": {
          "base_uri": "https://localhost:8080/",
          "height": 35
        },
        "id": "CGFlyWzrOaOK",
        "outputId": "0bd413b5-a809-4e73-eed3-e828f4859c0c"
      },
      "execution_count": null,
      "outputs": [
        {
          "output_type": "execute_result",
          "data": {
            "text/plain": [
              "'https://cdn.jsdelivr.net/npm/vega-datasets@v1.29.0/data/unemployment.tsv'"
            ],
            "application/vnd.google.colaboratory.intrinsic+json": {
              "type": "string"
            }
          },
          "metadata": {},
          "execution_count": 25
        }
      ]
    },
    {
      "cell_type": "markdown",
      "source": [
        "Para integrar nossas fontes de dados, nós precisaremos usar novamente a transformação de `lookup`, aumentando nossos dados de `geoshape` baseados em TopoJSON com taxas de desemprego. Podemos então criar um mapa que inclua uma codificação de `color` para o campo `rate` pesquisado."
      ],
      "metadata": {
        "id": "0oPaS9qmCoCG"
      }
    },
    {
      "cell_type": "code",
      "source": [
        "alt.Chart(alt.topo_feature(usa, 'counties')).mark_geoshape(\n",
        "    stroke='#aaa', strokeWidth=0.25\n",
        ").transform_lookup(\n",
        "    lookup='id', from_=alt.LookupData(data=unemp, key='id', fields=['rate'])\n",
        ").encode(\n",
        "    alt.Color('rate:Q',\n",
        "              scale=alt.Scale(domain=[0, 0.3], clamp=True),\n",
        "              legend=alt.Legend(format='%')),\n",
        "    alt.Tooltip('rate:Q', format='.0%')\n",
        ").project(\n",
        "    type='albersUsa'\n",
        ").properties(\n",
        "    width=900,\n",
        "    height=500\n",
        ").configure_view(\n",
        "    stroke=None\n",
        ")"
      ],
      "metadata": {
        "colab": {
          "base_uri": "https://localhost:8080/",
          "height": 533
        },
        "id": "B_akEquqCxuO",
        "outputId": "273837bb-b4fa-42ee-f841-3366f3d3a2fb"
      },
      "execution_count": null,
      "outputs": [
        {
          "output_type": "execute_result",
          "data": {
            "text/html": [
              "\n",
              "<style>\n",
              "  #altair-viz-81458bf0c39445c1b7abbdb8ed274042.vega-embed {\n",
              "    width: 100%;\n",
              "    display: flex;\n",
              "  }\n",
              "\n",
              "  #altair-viz-81458bf0c39445c1b7abbdb8ed274042.vega-embed details,\n",
              "  #altair-viz-81458bf0c39445c1b7abbdb8ed274042.vega-embed details summary {\n",
              "    position: relative;\n",
              "  }\n",
              "</style>\n",
              "<div id=\"altair-viz-81458bf0c39445c1b7abbdb8ed274042\"></div>\n",
              "<script type=\"text/javascript\">\n",
              "  var VEGA_DEBUG = (typeof VEGA_DEBUG == \"undefined\") ? {} : VEGA_DEBUG;\n",
              "  (function(spec, embedOpt){\n",
              "    let outputDiv = document.currentScript.previousElementSibling;\n",
              "    if (outputDiv.id !== \"altair-viz-81458bf0c39445c1b7abbdb8ed274042\") {\n",
              "      outputDiv = document.getElementById(\"altair-viz-81458bf0c39445c1b7abbdb8ed274042\");\n",
              "    }\n",
              "\n",
              "    const paths = {\n",
              "      \"vega\": \"https://cdn.jsdelivr.net/npm/vega@5?noext\",\n",
              "      \"vega-lib\": \"https://cdn.jsdelivr.net/npm/vega-lib?noext\",\n",
              "      \"vega-lite\": \"https://cdn.jsdelivr.net/npm/vega-lite@5.20.1?noext\",\n",
              "      \"vega-embed\": \"https://cdn.jsdelivr.net/npm/vega-embed@6?noext\",\n",
              "    };\n",
              "\n",
              "    function maybeLoadScript(lib, version) {\n",
              "      var key = `${lib.replace(\"-\", \"\")}_version`;\n",
              "      return (VEGA_DEBUG[key] == version) ?\n",
              "        Promise.resolve(paths[lib]) :\n",
              "        new Promise(function(resolve, reject) {\n",
              "          var s = document.createElement('script');\n",
              "          document.getElementsByTagName(\"head\")[0].appendChild(s);\n",
              "          s.async = true;\n",
              "          s.onload = () => {\n",
              "            VEGA_DEBUG[key] = version;\n",
              "            return resolve(paths[lib]);\n",
              "          };\n",
              "          s.onerror = () => reject(`Error loading script: ${paths[lib]}`);\n",
              "          s.src = paths[lib];\n",
              "        });\n",
              "    }\n",
              "\n",
              "    function showError(err) {\n",
              "      outputDiv.innerHTML = `<div class=\"error\" style=\"color:red;\">${err}</div>`;\n",
              "      throw err;\n",
              "    }\n",
              "\n",
              "    function displayChart(vegaEmbed) {\n",
              "      vegaEmbed(outputDiv, spec, embedOpt)\n",
              "        .catch(err => showError(`Javascript Error: ${err.message}<br>This usually means there's a typo in your chart specification. See the javascript console for the full traceback.`));\n",
              "    }\n",
              "\n",
              "    if(typeof define === \"function\" && define.amd) {\n",
              "      requirejs.config({paths});\n",
              "      let deps = [\"vega-embed\"];\n",
              "      require(deps, displayChart, err => showError(`Error loading script: ${err.message}`));\n",
              "    } else {\n",
              "      maybeLoadScript(\"vega\", \"5\")\n",
              "        .then(() => maybeLoadScript(\"vega-lite\", \"5.20.1\"))\n",
              "        .then(() => maybeLoadScript(\"vega-embed\", \"6\"))\n",
              "        .catch(showError)\n",
              "        .then(() => displayChart(vegaEmbed));\n",
              "    }\n",
              "  })({\"config\": {\"view\": {\"continuousWidth\": 300, \"continuousHeight\": 300, \"stroke\": null}}, \"data\": {\"url\": \"https://cdn.jsdelivr.net/npm/vega-datasets@v1.29.0/data/us-10m.json\", \"format\": {\"feature\": \"counties\", \"type\": \"topojson\"}}, \"mark\": {\"type\": \"geoshape\", \"stroke\": \"#aaa\", \"strokeWidth\": 0.25}, \"encoding\": {\"color\": {\"field\": \"rate\", \"legend\": {\"format\": \"%\"}, \"scale\": {\"clamp\": true, \"domain\": [0, 0.3]}, \"type\": \"quantitative\"}, \"tooltip\": {\"field\": \"rate\", \"format\": \".0%\", \"type\": \"quantitative\"}}, \"height\": 500, \"projection\": {\"type\": \"albersUsa\"}, \"transform\": [{\"lookup\": \"id\", \"from\": {\"data\": {\"url\": \"https://cdn.jsdelivr.net/npm/vega-datasets@v1.29.0/data/unemployment.tsv\"}, \"key\": \"id\", \"fields\": [\"rate\"]}}], \"width\": 900, \"$schema\": \"https://vega.github.io/schema/vega-lite/v5.20.1.json\"}, {\"mode\": \"vega-lite\"});\n",
              "</script>"
            ],
            "text/plain": [
              "alt.Chart(...)"
            ]
          },
          "metadata": {},
          "execution_count": 38
        }
      ]
    },
    {
      "cell_type": "markdown",
      "source": [
        "*Examine as taxas de desemprego por condado. Valores mais altos em Michigan podem estar relacionados à indústria automotiva. Condados nos estados das [Grandes Planícies](https://pt.wikipedia.org/wiki/Grandes_Plan%C3%ADcies) e Montanhas apresentam taxas baixas **e** altas. Esta variação é significativa ou é possivelmente um [artefato de tamanhos de amostra menores](https://medium.com/@uwdata/surprise-maps-showing-the-unexpected-e92b67398865)? Para explorar mais, tente alterar o domínio de escala superior (por exemplo, para ``0,2``) para ajustar o mapeamento de cores.*\n",
        "\n",
        "Uma preocupação central para mapas coropléticos é a escolha de cores. Acima, nós usamos o esquema padrão `'yellowgreenblue'` do Altair para mapas de calor. Abaixo, nós comparamos outros esquemas, incluindo um esquema *sequencial de matiz único* (`teals`) que varia apenas em luminância, um esquema *sequencial de vários matizes* (`viridis`) que aumenta em luminância e matiz e um esquema *divergente* (`blueorange`) que usa um ponto médio branco:"
      ],
      "metadata": {
        "id": "kozhPTHUCyhG"
      }
    },
    {
      "cell_type": "code",
      "source": [
        "# função utilitária para gerar uma especificação de mapa para um esquema de cores oferecido\n",
        "def map_(scheme):\n",
        "    return alt.Chart().mark_geoshape().project(type='albersUsa').encode(\n",
        "        alt.Color('rate:Q', scale=alt.Scale(scheme=scheme), legend=None)\n",
        "    ).properties(width=305, height=200)\n",
        "\n",
        "alt.hconcat(\n",
        "    map_('tealblues'), map_('viridis'), map_('blueorange'),\n",
        "    data=alt.topo_feature(usa, 'counties')\n",
        ").transform_lookup(\n",
        "    lookup='id', from_=alt.LookupData(data=unemp, key='id', fields=['rate'])\n",
        ").configure_view(\n",
        "    stroke=None\n",
        ").resolve_scale(\n",
        "    color='independent'\n",
        ")"
      ],
      "metadata": {
        "id": "hMK83MKLDDFe",
        "colab": {
          "base_uri": "https://localhost:8080/",
          "height": 231
        },
        "outputId": "cbb480a0-fd32-4cde-d4be-062d4fce9f62"
      },
      "execution_count": null,
      "outputs": [
        {
          "output_type": "execute_result",
          "data": {
            "text/html": [
              "\n",
              "<style>\n",
              "  #altair-viz-bd34150cae1843cd9c4e9e838ff2312c.vega-embed {\n",
              "    width: 100%;\n",
              "    display: flex;\n",
              "  }\n",
              "\n",
              "  #altair-viz-bd34150cae1843cd9c4e9e838ff2312c.vega-embed details,\n",
              "  #altair-viz-bd34150cae1843cd9c4e9e838ff2312c.vega-embed details summary {\n",
              "    position: relative;\n",
              "  }\n",
              "</style>\n",
              "<div id=\"altair-viz-bd34150cae1843cd9c4e9e838ff2312c\"></div>\n",
              "<script type=\"text/javascript\">\n",
              "  var VEGA_DEBUG = (typeof VEGA_DEBUG == \"undefined\") ? {} : VEGA_DEBUG;\n",
              "  (function(spec, embedOpt){\n",
              "    let outputDiv = document.currentScript.previousElementSibling;\n",
              "    if (outputDiv.id !== \"altair-viz-bd34150cae1843cd9c4e9e838ff2312c\") {\n",
              "      outputDiv = document.getElementById(\"altair-viz-bd34150cae1843cd9c4e9e838ff2312c\");\n",
              "    }\n",
              "\n",
              "    const paths = {\n",
              "      \"vega\": \"https://cdn.jsdelivr.net/npm/vega@5?noext\",\n",
              "      \"vega-lib\": \"https://cdn.jsdelivr.net/npm/vega-lib?noext\",\n",
              "      \"vega-lite\": \"https://cdn.jsdelivr.net/npm/vega-lite@5.20.1?noext\",\n",
              "      \"vega-embed\": \"https://cdn.jsdelivr.net/npm/vega-embed@6?noext\",\n",
              "    };\n",
              "\n",
              "    function maybeLoadScript(lib, version) {\n",
              "      var key = `${lib.replace(\"-\", \"\")}_version`;\n",
              "      return (VEGA_DEBUG[key] == version) ?\n",
              "        Promise.resolve(paths[lib]) :\n",
              "        new Promise(function(resolve, reject) {\n",
              "          var s = document.createElement('script');\n",
              "          document.getElementsByTagName(\"head\")[0].appendChild(s);\n",
              "          s.async = true;\n",
              "          s.onload = () => {\n",
              "            VEGA_DEBUG[key] = version;\n",
              "            return resolve(paths[lib]);\n",
              "          };\n",
              "          s.onerror = () => reject(`Error loading script: ${paths[lib]}`);\n",
              "          s.src = paths[lib];\n",
              "        });\n",
              "    }\n",
              "\n",
              "    function showError(err) {\n",
              "      outputDiv.innerHTML = `<div class=\"error\" style=\"color:red;\">${err}</div>`;\n",
              "      throw err;\n",
              "    }\n",
              "\n",
              "    function displayChart(vegaEmbed) {\n",
              "      vegaEmbed(outputDiv, spec, embedOpt)\n",
              "        .catch(err => showError(`Javascript Error: ${err.message}<br>This usually means there's a typo in your chart specification. See the javascript console for the full traceback.`));\n",
              "    }\n",
              "\n",
              "    if(typeof define === \"function\" && define.amd) {\n",
              "      requirejs.config({paths});\n",
              "      let deps = [\"vega-embed\"];\n",
              "      require(deps, displayChart, err => showError(`Error loading script: ${err.message}`));\n",
              "    } else {\n",
              "      maybeLoadScript(\"vega\", \"5\")\n",
              "        .then(() => maybeLoadScript(\"vega-lite\", \"5.20.1\"))\n",
              "        .then(() => maybeLoadScript(\"vega-embed\", \"6\"))\n",
              "        .catch(showError)\n",
              "        .then(() => displayChart(vegaEmbed));\n",
              "    }\n",
              "  })({\"config\": {\"view\": {\"continuousWidth\": 300, \"continuousHeight\": 300, \"stroke\": null}}, \"hconcat\": [{\"mark\": {\"type\": \"geoshape\"}, \"encoding\": {\"color\": {\"field\": \"rate\", \"legend\": null, \"scale\": {\"scheme\": \"tealblues\"}, \"type\": \"quantitative\"}}, \"height\": 200, \"projection\": {\"type\": \"albersUsa\"}, \"width\": 305}, {\"mark\": {\"type\": \"geoshape\"}, \"encoding\": {\"color\": {\"field\": \"rate\", \"legend\": null, \"scale\": {\"scheme\": \"viridis\"}, \"type\": \"quantitative\"}}, \"height\": 200, \"projection\": {\"type\": \"albersUsa\"}, \"width\": 305}, {\"mark\": {\"type\": \"geoshape\"}, \"encoding\": {\"color\": {\"field\": \"rate\", \"legend\": null, \"scale\": {\"scheme\": \"blueorange\"}, \"type\": \"quantitative\"}}, \"height\": 200, \"projection\": {\"type\": \"albersUsa\"}, \"width\": 305}], \"data\": {\"url\": \"https://cdn.jsdelivr.net/npm/vega-datasets@v1.29.0/data/us-10m.json\", \"format\": {\"feature\": \"counties\", \"type\": \"topojson\"}}, \"resolve\": {\"scale\": {\"color\": \"independent\"}}, \"transform\": [{\"lookup\": \"id\", \"from\": {\"data\": {\"url\": \"https://cdn.jsdelivr.net/npm/vega-datasets@v1.29.0/data/unemployment.tsv\"}, \"key\": \"id\", \"fields\": [\"rate\"]}}], \"$schema\": \"https://vega.github.io/schema/vega-lite/v5.20.1.json\"}, {\"mode\": \"vega-lite\"});\n",
              "</script>"
            ],
            "text/plain": [
              "alt.HConcatChart(...)"
            ]
          },
          "metadata": {},
          "execution_count": 32
        }
      ]
    },
    {
      "cell_type": "markdown",
      "source": [
        "*Quais esquemas de cores você acha mais eficazes? Por que poderia ser? Modifique os mapas acima para usar outros esquemas disponíveis, conforme descrito na documentação [Vega Color Schemes](https://vega.github.io/vega/docs/schemes/).*"
      ],
      "metadata": {
        "id": "eBYUE_9nDY5m"
      }
    },
    {
      "cell_type": "markdown",
      "source": [
        "## <font color=\"#747a7f\">7.6</font> Projeções Cartográficas"
      ],
      "metadata": {
        "id": "cEjYN8OBR7k5"
      }
    },
    {
      "cell_type": "markdown",
      "source": [
        "Agora que nós temos alguma experiência na criação de mapas, vamos dar uma olhada mais de perto nas projeções cartográficas. Conforme explicado pela [Wikipedia](https://pt.wikipedia.org/wiki/Proje%C3%A7%C3%A3o_cartogr%C3%A1fica),\n",
        "\n",
        "> Todas as projeções de mapa necessariamente distorcem a superfície de alguma forma. Dependendo do propósito do mapa, algumas distorções são aceitáveis ​​e outras não; portanto, diferentes projeções de mapa existem para preservar algumas propriedades do corpo esférico em detrimento de outras propriedades.\n",
        "\n"
      ],
      "metadata": {
        "id": "1cyO8dczSIMR"
      }
    },
    {
      "cell_type": "markdown",
      "source": [
        "Algumas das propriedades que podemos querer considerar incluem:\n",
        "\n",
        "* *Área:* A projeção distorce os tamanhos das regiões?\n",
        "\n",
        "* *Orientação:* Uma linha reta corresponde a uma direção constante de viagem?\n",
        "\n",
        "* *Distância:* Linhas de comprimento igual correspondem a distâncias iguais no globo?\n",
        "\n",
        "* *Forma:* A projeção preserva relações espaciais (ângulos) entre pontos?"
      ],
      "metadata": {
        "id": "6LIQm4NiSew5"
      }
    },
    {
      "cell_type": "markdown",
      "source": [
        "A seleção de uma projeção apropriada depende, portanto, do caso de uso do mapa. Por exemplo, se estivermos a avaliar o uso da terra e a extensão das questões fundiárias, poderemos escolher uma projecção de preservação da área. Se quisermos visualizar as ondas de choque que emanam de um terremoto, podemos focar o mapa no epicentro do terremoto e preservar as distâncias a partir desse ponto. Ou, se quisermos ajudar a navegação, a preservação do rumo e da forma pode ser mais importante.\n",
        "\n",
        "Também podemos caracterizar as projeções em termos da *superfície de projeção*. As projeções cilíndricas, por exemplo, projetam pontos superficiais da esfera em um cilindro circundante; o cilindro “desenrolado” fornece então o nosso mapa. Como descreveremos abaixo, podemos alternativamente projetar na superfície de um cone (projeções cônicas) ou diretamente em um plano plano (projeções azimutais).\n",
        "\n",
        "*Vamos primeiro desenvolver nossa intuição interagindo com uma variedade de projeções! [Abra o caderno online Vega-Lite Cartographic Projections](https://observablehq.com/@vega/vega-lite-cartographic-projections). Use os controles naquela página para selecionar uma projeção e explorar parâmetros de projeção, como a ``escala`` (zoom) e a translação x/y (panning). Os controles de rotação ([guinada, inclinação, rolagem](https://pt.wikipedia.org/wiki/Eixos_do_avi%C3%A3o)) determinam a orientação do globo em relação à superfície que está sendo projetada.*"
      ],
      "metadata": {
        "id": "G2NGF_W9T0sK"
      }
    },
    {
      "cell_type": "markdown",
      "source": [
        "### <font color=\"#747a7f\">7.6.1</font> Um tour por tipos específicos de projeção"
      ],
      "metadata": {
        "id": "QCGitqvWVv0S"
      }
    },
    {
      "cell_type": "markdown",
      "source": [
        "**[Projeções cilíndricas](https://jjallaire.github.io/visualization-curriculum/altair_cartographic.html)** mapeiam a esfera em um cilindro circundante, então desenrolam o cilindro. Se o eixo principal do cilindro estiver orientado norte-sul, os meridianos são mapeados para linhas retas. [Projeções pseudocilíndricas](https://en.wikipedia.org/wiki/Map_projection#Pseudocylindrical) representam um meridiano central como uma linha reta, com outros meridianos “curvando-se” para longe do centro."
      ],
      "metadata": {
        "id": "IQLLlCQuV5up"
      }
    },
    {
      "cell_type": "code",
      "source": [
        "minimap = map.properties(width=225, height=225)\n",
        "alt.hconcat(\n",
        "    minimap.project(type='equirectangular').properties(title='Cilíndrica equidistante'),\n",
        "    minimap.project(type='mercator').properties(title='Mercator'),\n",
        "    minimap.project(type='transverseMercator').properties(title='Transversa de mercator'),\n",
        "    minimap.project(type='naturalEarth1').properties(title='Natural da terra')\n",
        ").properties(spacing=10).configure_view(stroke=None)"
      ],
      "metadata": {
        "colab": {
          "base_uri": "https://localhost:8080/",
          "height": 275
        },
        "id": "YBe2qJ1ZWFbJ",
        "outputId": "40d42880-a661-4c06-9a9d-dc6b33eeb022"
      },
      "execution_count": null,
      "outputs": [
        {
          "output_type": "execute_result",
          "data": {
            "text/html": [
              "\n",
              "<style>\n",
              "  #altair-viz-dd6f1e9c384440988bcd24c4f2bb708f.vega-embed {\n",
              "    width: 100%;\n",
              "    display: flex;\n",
              "  }\n",
              "\n",
              "  #altair-viz-dd6f1e9c384440988bcd24c4f2bb708f.vega-embed details,\n",
              "  #altair-viz-dd6f1e9c384440988bcd24c4f2bb708f.vega-embed details summary {\n",
              "    position: relative;\n",
              "  }\n",
              "</style>\n",
              "<div id=\"altair-viz-dd6f1e9c384440988bcd24c4f2bb708f\"></div>\n",
              "<script type=\"text/javascript\">\n",
              "  var VEGA_DEBUG = (typeof VEGA_DEBUG == \"undefined\") ? {} : VEGA_DEBUG;\n",
              "  (function(spec, embedOpt){\n",
              "    let outputDiv = document.currentScript.previousElementSibling;\n",
              "    if (outputDiv.id !== \"altair-viz-dd6f1e9c384440988bcd24c4f2bb708f\") {\n",
              "      outputDiv = document.getElementById(\"altair-viz-dd6f1e9c384440988bcd24c4f2bb708f\");\n",
              "    }\n",
              "\n",
              "    const paths = {\n",
              "      \"vega\": \"https://cdn.jsdelivr.net/npm/vega@5?noext\",\n",
              "      \"vega-lib\": \"https://cdn.jsdelivr.net/npm/vega-lib?noext\",\n",
              "      \"vega-lite\": \"https://cdn.jsdelivr.net/npm/vega-lite@5.20.1?noext\",\n",
              "      \"vega-embed\": \"https://cdn.jsdelivr.net/npm/vega-embed@6?noext\",\n",
              "    };\n",
              "\n",
              "    function maybeLoadScript(lib, version) {\n",
              "      var key = `${lib.replace(\"-\", \"\")}_version`;\n",
              "      return (VEGA_DEBUG[key] == version) ?\n",
              "        Promise.resolve(paths[lib]) :\n",
              "        new Promise(function(resolve, reject) {\n",
              "          var s = document.createElement('script');\n",
              "          document.getElementsByTagName(\"head\")[0].appendChild(s);\n",
              "          s.async = true;\n",
              "          s.onload = () => {\n",
              "            VEGA_DEBUG[key] = version;\n",
              "            return resolve(paths[lib]);\n",
              "          };\n",
              "          s.onerror = () => reject(`Error loading script: ${paths[lib]}`);\n",
              "          s.src = paths[lib];\n",
              "        });\n",
              "    }\n",
              "\n",
              "    function showError(err) {\n",
              "      outputDiv.innerHTML = `<div class=\"error\" style=\"color:red;\">${err}</div>`;\n",
              "      throw err;\n",
              "    }\n",
              "\n",
              "    function displayChart(vegaEmbed) {\n",
              "      vegaEmbed(outputDiv, spec, embedOpt)\n",
              "        .catch(err => showError(`Javascript Error: ${err.message}<br>This usually means there's a typo in your chart specification. See the javascript console for the full traceback.`));\n",
              "    }\n",
              "\n",
              "    if(typeof define === \"function\" && define.amd) {\n",
              "      requirejs.config({paths});\n",
              "      let deps = [\"vega-embed\"];\n",
              "      require(deps, displayChart, err => showError(`Error loading script: ${err.message}`));\n",
              "    } else {\n",
              "      maybeLoadScript(\"vega\", \"5\")\n",
              "        .then(() => maybeLoadScript(\"vega-lite\", \"5.20.1\"))\n",
              "        .then(() => maybeLoadScript(\"vega-embed\", \"6\"))\n",
              "        .catch(showError)\n",
              "        .then(() => displayChart(vegaEmbed));\n",
              "    }\n",
              "  })({\"config\": {\"view\": {\"continuousWidth\": 300, \"continuousHeight\": 300, \"stroke\": null}}, \"hconcat\": [{\"layer\": [{\"data\": {\"sphere\": true}, \"mark\": {\"type\": \"geoshape\", \"fill\": \"#e6f3ff\"}}, {\"data\": {\"graticule\": true}, \"mark\": {\"type\": \"geoshape\", \"stroke\": \"#ffffff\", \"strokeWidth\": 1}}, {\"data\": {\"url\": \"https://cdn.jsdelivr.net/npm/vega-datasets@v1.29.0/data/world-110m.json\", \"format\": {\"feature\": \"countries\", \"type\": \"topojson\"}}, \"mark\": {\"type\": \"geoshape\", \"fill\": \"#2a1d0c\", \"stroke\": \"#706545\", \"strokeWidth\": 0.5}}], \"height\": 225, \"projection\": {\"type\": \"equirectangular\"}, \"title\": \"Cil\\u00edndrica equidistante\", \"width\": 225}, {\"layer\": [{\"data\": {\"sphere\": true}, \"mark\": {\"type\": \"geoshape\", \"fill\": \"#e6f3ff\"}}, {\"data\": {\"graticule\": true}, \"mark\": {\"type\": \"geoshape\", \"stroke\": \"#ffffff\", \"strokeWidth\": 1}}, {\"data\": {\"url\": \"https://cdn.jsdelivr.net/npm/vega-datasets@v1.29.0/data/world-110m.json\", \"format\": {\"feature\": \"countries\", \"type\": \"topojson\"}}, \"mark\": {\"type\": \"geoshape\", \"fill\": \"#2a1d0c\", \"stroke\": \"#706545\", \"strokeWidth\": 0.5}}], \"height\": 225, \"projection\": {\"type\": \"mercator\"}, \"title\": \"Mercator\", \"width\": 225}, {\"layer\": [{\"data\": {\"sphere\": true}, \"mark\": {\"type\": \"geoshape\", \"fill\": \"#e6f3ff\"}}, {\"data\": {\"graticule\": true}, \"mark\": {\"type\": \"geoshape\", \"stroke\": \"#ffffff\", \"strokeWidth\": 1}}, {\"data\": {\"url\": \"https://cdn.jsdelivr.net/npm/vega-datasets@v1.29.0/data/world-110m.json\", \"format\": {\"feature\": \"countries\", \"type\": \"topojson\"}}, \"mark\": {\"type\": \"geoshape\", \"fill\": \"#2a1d0c\", \"stroke\": \"#706545\", \"strokeWidth\": 0.5}}], \"height\": 225, \"projection\": {\"type\": \"transverseMercator\"}, \"title\": \"Transversa de mercator\", \"width\": 225}, {\"layer\": [{\"data\": {\"sphere\": true}, \"mark\": {\"type\": \"geoshape\", \"fill\": \"#e6f3ff\"}}, {\"data\": {\"graticule\": true}, \"mark\": {\"type\": \"geoshape\", \"stroke\": \"#ffffff\", \"strokeWidth\": 1}}, {\"data\": {\"url\": \"https://cdn.jsdelivr.net/npm/vega-datasets@v1.29.0/data/world-110m.json\", \"format\": {\"feature\": \"countries\", \"type\": \"topojson\"}}, \"mark\": {\"type\": \"geoshape\", \"fill\": \"#2a1d0c\", \"stroke\": \"#706545\", \"strokeWidth\": 0.5}}], \"height\": 225, \"projection\": {\"type\": \"naturalEarth1\"}, \"title\": \"Natural da terra\", \"width\": 225}], \"spacing\": 10, \"$schema\": \"https://vega.github.io/schema/vega-lite/v5.20.1.json\"}, {\"mode\": \"vega-lite\"});\n",
              "</script>"
            ],
            "text/plain": [
              "alt.HConcatChart(...)"
            ]
          },
          "metadata": {},
          "execution_count": 42
        }
      ]
    },
    {
      "cell_type": "markdown",
      "source": [
        "\n",
        "\n",
        "* [Cilíndrica equidistante](https://pt.wikipedia.org/wiki/Proje%C3%A7%C3%A3o_cil%C3%ADndrica_equidistante) (``equirectangular``): Escala valores de coordenadas ``lat``, ``lon`` diretamente.\n",
        "\n",
        "* [Mercator](https://pt.wikipedia.org/wiki/Proje%C3%A7%C3%A3o_de_Mercator) (``mercator``): Projeta em um cilindro, usando ``lon`` diretamente, mas submetendo ``lat`` a uma transformação não linear. Linhas retas preservam orientações de bússola constantes ([linha de rumo](https://pt.wikipedia.org/wiki/Loxodromia)), tornando esta projeção bem adequada para navegação. No entanto, áreas no extremo norte ou sul podem ser bastante distorcidas.\n",
        "\n",
        "* [Transversa de mercator](https://pt.wikipedia.org/wiki/Proje%C3%A7%C3%A3o_transversa_de_Mercator) (``transverseMercator``): Uma projeção mercator, mas com o cilindro delimitador girado para um eixo transversal. Enquanto a projeção Mercator padrão tem maior precisão ao longo do equador, a projeção Transversa de mercator é mais precisa ao longo do meridiano central.\n",
        "\n",
        "* [Natural da terra](https://en.wikipedia.org/wiki/Natural_Earth_projection) (``naturalEarth1``): Uma projeção pseudocilíndrica projetada para mostrar toda a Terra em uma visão.\n"
      ],
      "metadata": {
        "id": "9AnwneyjX-TK"
      }
    },
    {
      "cell_type": "markdown",
      "source": [
        "[Projeções cônicas](https://en.wikipedia.org/wiki/Map_projection#Conic) mapeiam a esfera em um cone e, então, desenrolam o cone no plano. Projeções cônicas são configuradas por dois *paralelos padrões*, que determinam onde o cone intercepta o globo."
      ],
      "metadata": {
        "id": "zSRsnk_mZGKJ"
      }
    },
    {
      "cell_type": "code",
      "source": [
        "minimap = map.properties(width=180, height=130)\n",
        "alt.hconcat(\n",
        "    minimap.project(type='conicEqualArea').properties(title='Área cônica igual'),\n",
        "    minimap.project(type='conicEquidistant').properties(title='Cônica equidistante'),\n",
        "    minimap.project(type='conicConformal', scale=35, translate=[90,65]).properties(title='Cônica Conforme'),\n",
        "    minimap.project(type='albers').properties(title='Albers'),\n",
        "    minimap.project(type='albersUsa').properties(title='Albers EUA')\n",
        ").properties(spacing=10).configure_view(stroke=None)"
      ],
      "metadata": {
        "colab": {
          "base_uri": "https://localhost:8080/",
          "height": 178
        },
        "id": "abwu_TfaZFSK",
        "outputId": "df51f3e4-951b-49ad-a511-e43251efc03a"
      },
      "execution_count": null,
      "outputs": [
        {
          "output_type": "execute_result",
          "data": {
            "text/html": [
              "\n",
              "<style>\n",
              "  #altair-viz-a798f654e0934c79be47c9908240a527.vega-embed {\n",
              "    width: 100%;\n",
              "    display: flex;\n",
              "  }\n",
              "\n",
              "  #altair-viz-a798f654e0934c79be47c9908240a527.vega-embed details,\n",
              "  #altair-viz-a798f654e0934c79be47c9908240a527.vega-embed details summary {\n",
              "    position: relative;\n",
              "  }\n",
              "</style>\n",
              "<div id=\"altair-viz-a798f654e0934c79be47c9908240a527\"></div>\n",
              "<script type=\"text/javascript\">\n",
              "  var VEGA_DEBUG = (typeof VEGA_DEBUG == \"undefined\") ? {} : VEGA_DEBUG;\n",
              "  (function(spec, embedOpt){\n",
              "    let outputDiv = document.currentScript.previousElementSibling;\n",
              "    if (outputDiv.id !== \"altair-viz-a798f654e0934c79be47c9908240a527\") {\n",
              "      outputDiv = document.getElementById(\"altair-viz-a798f654e0934c79be47c9908240a527\");\n",
              "    }\n",
              "\n",
              "    const paths = {\n",
              "      \"vega\": \"https://cdn.jsdelivr.net/npm/vega@5?noext\",\n",
              "      \"vega-lib\": \"https://cdn.jsdelivr.net/npm/vega-lib?noext\",\n",
              "      \"vega-lite\": \"https://cdn.jsdelivr.net/npm/vega-lite@5.20.1?noext\",\n",
              "      \"vega-embed\": \"https://cdn.jsdelivr.net/npm/vega-embed@6?noext\",\n",
              "    };\n",
              "\n",
              "    function maybeLoadScript(lib, version) {\n",
              "      var key = `${lib.replace(\"-\", \"\")}_version`;\n",
              "      return (VEGA_DEBUG[key] == version) ?\n",
              "        Promise.resolve(paths[lib]) :\n",
              "        new Promise(function(resolve, reject) {\n",
              "          var s = document.createElement('script');\n",
              "          document.getElementsByTagName(\"head\")[0].appendChild(s);\n",
              "          s.async = true;\n",
              "          s.onload = () => {\n",
              "            VEGA_DEBUG[key] = version;\n",
              "            return resolve(paths[lib]);\n",
              "          };\n",
              "          s.onerror = () => reject(`Error loading script: ${paths[lib]}`);\n",
              "          s.src = paths[lib];\n",
              "        });\n",
              "    }\n",
              "\n",
              "    function showError(err) {\n",
              "      outputDiv.innerHTML = `<div class=\"error\" style=\"color:red;\">${err}</div>`;\n",
              "      throw err;\n",
              "    }\n",
              "\n",
              "    function displayChart(vegaEmbed) {\n",
              "      vegaEmbed(outputDiv, spec, embedOpt)\n",
              "        .catch(err => showError(`Javascript Error: ${err.message}<br>This usually means there's a typo in your chart specification. See the javascript console for the full traceback.`));\n",
              "    }\n",
              "\n",
              "    if(typeof define === \"function\" && define.amd) {\n",
              "      requirejs.config({paths});\n",
              "      let deps = [\"vega-embed\"];\n",
              "      require(deps, displayChart, err => showError(`Error loading script: ${err.message}`));\n",
              "    } else {\n",
              "      maybeLoadScript(\"vega\", \"5\")\n",
              "        .then(() => maybeLoadScript(\"vega-lite\", \"5.20.1\"))\n",
              "        .then(() => maybeLoadScript(\"vega-embed\", \"6\"))\n",
              "        .catch(showError)\n",
              "        .then(() => displayChart(vegaEmbed));\n",
              "    }\n",
              "  })({\"config\": {\"view\": {\"continuousWidth\": 300, \"continuousHeight\": 300, \"stroke\": null}}, \"hconcat\": [{\"layer\": [{\"data\": {\"sphere\": true}, \"mark\": {\"type\": \"geoshape\", \"fill\": \"#e6f3ff\"}}, {\"data\": {\"graticule\": true}, \"mark\": {\"type\": \"geoshape\", \"stroke\": \"#ffffff\", \"strokeWidth\": 1}}, {\"data\": {\"url\": \"https://cdn.jsdelivr.net/npm/vega-datasets@v1.29.0/data/world-110m.json\", \"format\": {\"feature\": \"countries\", \"type\": \"topojson\"}}, \"mark\": {\"type\": \"geoshape\", \"fill\": \"#2a1d0c\", \"stroke\": \"#706545\", \"strokeWidth\": 0.5}}], \"height\": 130, \"projection\": {\"type\": \"conicEqualArea\"}, \"title\": \"\\u00c1rea c\\u00f4nica igual\", \"width\": 180}, {\"layer\": [{\"data\": {\"sphere\": true}, \"mark\": {\"type\": \"geoshape\", \"fill\": \"#e6f3ff\"}}, {\"data\": {\"graticule\": true}, \"mark\": {\"type\": \"geoshape\", \"stroke\": \"#ffffff\", \"strokeWidth\": 1}}, {\"data\": {\"url\": \"https://cdn.jsdelivr.net/npm/vega-datasets@v1.29.0/data/world-110m.json\", \"format\": {\"feature\": \"countries\", \"type\": \"topojson\"}}, \"mark\": {\"type\": \"geoshape\", \"fill\": \"#2a1d0c\", \"stroke\": \"#706545\", \"strokeWidth\": 0.5}}], \"height\": 130, \"projection\": {\"type\": \"conicEquidistant\"}, \"title\": \"C\\u00f4nica equidistante\", \"width\": 180}, {\"layer\": [{\"data\": {\"sphere\": true}, \"mark\": {\"type\": \"geoshape\", \"fill\": \"#e6f3ff\"}}, {\"data\": {\"graticule\": true}, \"mark\": {\"type\": \"geoshape\", \"stroke\": \"#ffffff\", \"strokeWidth\": 1}}, {\"data\": {\"url\": \"https://cdn.jsdelivr.net/npm/vega-datasets@v1.29.0/data/world-110m.json\", \"format\": {\"feature\": \"countries\", \"type\": \"topojson\"}}, \"mark\": {\"type\": \"geoshape\", \"fill\": \"#2a1d0c\", \"stroke\": \"#706545\", \"strokeWidth\": 0.5}}], \"height\": 130, \"projection\": {\"scale\": 35, \"translate\": [90, 65], \"type\": \"conicConformal\"}, \"title\": \"C\\u00f4nica Conforme\", \"width\": 180}, {\"layer\": [{\"data\": {\"sphere\": true}, \"mark\": {\"type\": \"geoshape\", \"fill\": \"#e6f3ff\"}}, {\"data\": {\"graticule\": true}, \"mark\": {\"type\": \"geoshape\", \"stroke\": \"#ffffff\", \"strokeWidth\": 1}}, {\"data\": {\"url\": \"https://cdn.jsdelivr.net/npm/vega-datasets@v1.29.0/data/world-110m.json\", \"format\": {\"feature\": \"countries\", \"type\": \"topojson\"}}, \"mark\": {\"type\": \"geoshape\", \"fill\": \"#2a1d0c\", \"stroke\": \"#706545\", \"strokeWidth\": 0.5}}], \"height\": 130, \"projection\": {\"type\": \"albers\"}, \"title\": \"Albers\", \"width\": 180}, {\"layer\": [{\"data\": {\"sphere\": true}, \"mark\": {\"type\": \"geoshape\", \"fill\": \"#e6f3ff\"}}, {\"data\": {\"graticule\": true}, \"mark\": {\"type\": \"geoshape\", \"stroke\": \"#ffffff\", \"strokeWidth\": 1}}, {\"data\": {\"url\": \"https://cdn.jsdelivr.net/npm/vega-datasets@v1.29.0/data/world-110m.json\", \"format\": {\"feature\": \"countries\", \"type\": \"topojson\"}}, \"mark\": {\"type\": \"geoshape\", \"fill\": \"#2a1d0c\", \"stroke\": \"#706545\", \"strokeWidth\": 0.5}}], \"height\": 130, \"projection\": {\"type\": \"albersUsa\"}, \"title\": \"Albers EUA\", \"width\": 180}], \"spacing\": 10, \"$schema\": \"https://vega.github.io/schema/vega-lite/v5.20.1.json\"}, {\"mode\": \"vega-lite\"});\n",
              "</script>"
            ],
            "text/plain": [
              "alt.HConcatChart(...)"
            ]
          },
          "metadata": {},
          "execution_count": 49
        }
      ]
    },
    {
      "cell_type": "markdown",
      "source": [
        "* [Área cônica igual](https://pt.wikipedia.org/wiki/Proje%C3%A7%C3%A3o_de_Albers) (``conicEqualArea``): projeção cônica que preserva a área. A forma e a distância não são preservadas, mas são aproximadamente precisas dentro dos paralelos padrão.\n",
        "\n",
        "* [Cônica equidistante](https://pt.wikipedia.org/wiki/Proje%C3%A7%C3%A3o_c%C3%B4nica_equidistante_meridiana) (``conicEquidistant``): projeção cônica que preserva a distância ao longo dos meridianos e paralelos padrão.\n",
        "\n",
        "* [Cônica Conforme](https://pt.wikipedia.org/wiki/Proje%C3%A7%C3%A3o_c%C3%B4nica_conforme_de_Lambert) (``conicConformal``): projeção cônica que preserva a forma (ângulos locais), mas não a área ou a distância.\n",
        "\n",
        "* [Albers](https://pt.wikipedia.org/wiki/Proje%C3%A7%C3%A3o_de_Albers) (``albers``): uma variante da projeção de área cônica igual com paralelos padrão otimizados para criar mapas dos Estados Unidos.\n",
        "\n",
        "* [Albers EUA](https://pt.wikipedia.org/wiki/Proje%C3%A7%C3%A3o_de_Albers) (``albersUsa``): uma projeção híbrida para os 50 estados dos Estados Unidos da América. Esta projeção une três projeções de Albers com parâmetros diferentes para os EUA continentais, Alasca e Havaí.\n",
        "\n",
        "\n",
        "\n"
      ],
      "metadata": {
        "id": "AZEkqyRaZKXR"
      }
    },
    {
      "cell_type": "markdown",
      "source": [
        "[Projeções azimutais](https://en.wikipedia.org/wiki/Map_projection#Azimuthal_%28projections_onto_a_plane%29) mapeiam a esfera diretamente em um plano."
      ],
      "metadata": {
        "id": "RBE6BFtOkHfq"
      }
    },
    {
      "cell_type": "code",
      "source": [
        "minimap = map.properties(width=180, height=180)\n",
        "alt.hconcat(\n",
        "    minimap.project(type='azimuthalEqualArea').properties(title='Área Azimutal Igual'),\n",
        "    minimap.project(type='azimuthalEquidistant').properties(title='Azimutal Equidistante'),\n",
        "    minimap.project(type='orthographic').properties(title='Ortográfico'),\n",
        "    minimap.project(type='stereographic').properties(title='Estereográfico'),\n",
        "    minimap.project(type='gnomonic').properties(title='Gnomônico')\n",
        ").properties(spacing=10).configure_view(stroke=None)"
      ],
      "metadata": {
        "colab": {
          "base_uri": "https://localhost:8080/",
          "height": 230
        },
        "id": "Y4E6i6p_d6RK",
        "outputId": "dc984f70-b515-466a-af75-f97208b8ce68"
      },
      "execution_count": null,
      "outputs": [
        {
          "output_type": "execute_result",
          "data": {
            "text/html": [
              "\n",
              "<style>\n",
              "  #altair-viz-24a8de7eaf164b95bfd78a9161805836.vega-embed {\n",
              "    width: 100%;\n",
              "    display: flex;\n",
              "  }\n",
              "\n",
              "  #altair-viz-24a8de7eaf164b95bfd78a9161805836.vega-embed details,\n",
              "  #altair-viz-24a8de7eaf164b95bfd78a9161805836.vega-embed details summary {\n",
              "    position: relative;\n",
              "  }\n",
              "</style>\n",
              "<div id=\"altair-viz-24a8de7eaf164b95bfd78a9161805836\"></div>\n",
              "<script type=\"text/javascript\">\n",
              "  var VEGA_DEBUG = (typeof VEGA_DEBUG == \"undefined\") ? {} : VEGA_DEBUG;\n",
              "  (function(spec, embedOpt){\n",
              "    let outputDiv = document.currentScript.previousElementSibling;\n",
              "    if (outputDiv.id !== \"altair-viz-24a8de7eaf164b95bfd78a9161805836\") {\n",
              "      outputDiv = document.getElementById(\"altair-viz-24a8de7eaf164b95bfd78a9161805836\");\n",
              "    }\n",
              "\n",
              "    const paths = {\n",
              "      \"vega\": \"https://cdn.jsdelivr.net/npm/vega@5?noext\",\n",
              "      \"vega-lib\": \"https://cdn.jsdelivr.net/npm/vega-lib?noext\",\n",
              "      \"vega-lite\": \"https://cdn.jsdelivr.net/npm/vega-lite@5.20.1?noext\",\n",
              "      \"vega-embed\": \"https://cdn.jsdelivr.net/npm/vega-embed@6?noext\",\n",
              "    };\n",
              "\n",
              "    function maybeLoadScript(lib, version) {\n",
              "      var key = `${lib.replace(\"-\", \"\")}_version`;\n",
              "      return (VEGA_DEBUG[key] == version) ?\n",
              "        Promise.resolve(paths[lib]) :\n",
              "        new Promise(function(resolve, reject) {\n",
              "          var s = document.createElement('script');\n",
              "          document.getElementsByTagName(\"head\")[0].appendChild(s);\n",
              "          s.async = true;\n",
              "          s.onload = () => {\n",
              "            VEGA_DEBUG[key] = version;\n",
              "            return resolve(paths[lib]);\n",
              "          };\n",
              "          s.onerror = () => reject(`Error loading script: ${paths[lib]}`);\n",
              "          s.src = paths[lib];\n",
              "        });\n",
              "    }\n",
              "\n",
              "    function showError(err) {\n",
              "      outputDiv.innerHTML = `<div class=\"error\" style=\"color:red;\">${err}</div>`;\n",
              "      throw err;\n",
              "    }\n",
              "\n",
              "    function displayChart(vegaEmbed) {\n",
              "      vegaEmbed(outputDiv, spec, embedOpt)\n",
              "        .catch(err => showError(`Javascript Error: ${err.message}<br>This usually means there's a typo in your chart specification. See the javascript console for the full traceback.`));\n",
              "    }\n",
              "\n",
              "    if(typeof define === \"function\" && define.amd) {\n",
              "      requirejs.config({paths});\n",
              "      let deps = [\"vega-embed\"];\n",
              "      require(deps, displayChart, err => showError(`Error loading script: ${err.message}`));\n",
              "    } else {\n",
              "      maybeLoadScript(\"vega\", \"5\")\n",
              "        .then(() => maybeLoadScript(\"vega-lite\", \"5.20.1\"))\n",
              "        .then(() => maybeLoadScript(\"vega-embed\", \"6\"))\n",
              "        .catch(showError)\n",
              "        .then(() => displayChart(vegaEmbed));\n",
              "    }\n",
              "  })({\"config\": {\"view\": {\"continuousWidth\": 300, \"continuousHeight\": 300, \"stroke\": null}}, \"hconcat\": [{\"layer\": [{\"data\": {\"sphere\": true}, \"mark\": {\"type\": \"geoshape\", \"fill\": \"#e6f3ff\"}}, {\"data\": {\"graticule\": true}, \"mark\": {\"type\": \"geoshape\", \"stroke\": \"#ffffff\", \"strokeWidth\": 1}}, {\"data\": {\"url\": \"https://cdn.jsdelivr.net/npm/vega-datasets@v1.29.0/data/world-110m.json\", \"format\": {\"feature\": \"countries\", \"type\": \"topojson\"}}, \"mark\": {\"type\": \"geoshape\", \"fill\": \"#2a1d0c\", \"stroke\": \"#706545\", \"strokeWidth\": 0.5}}], \"height\": 180, \"projection\": {\"type\": \"azimuthalEqualArea\"}, \"title\": \"\\u00c1rea Azimutal Igual\", \"width\": 180}, {\"layer\": [{\"data\": {\"sphere\": true}, \"mark\": {\"type\": \"geoshape\", \"fill\": \"#e6f3ff\"}}, {\"data\": {\"graticule\": true}, \"mark\": {\"type\": \"geoshape\", \"stroke\": \"#ffffff\", \"strokeWidth\": 1}}, {\"data\": {\"url\": \"https://cdn.jsdelivr.net/npm/vega-datasets@v1.29.0/data/world-110m.json\", \"format\": {\"feature\": \"countries\", \"type\": \"topojson\"}}, \"mark\": {\"type\": \"geoshape\", \"fill\": \"#2a1d0c\", \"stroke\": \"#706545\", \"strokeWidth\": 0.5}}], \"height\": 180, \"projection\": {\"type\": \"azimuthalEquidistant\"}, \"title\": \"Azimutal Equidistante\", \"width\": 180}, {\"layer\": [{\"data\": {\"sphere\": true}, \"mark\": {\"type\": \"geoshape\", \"fill\": \"#e6f3ff\"}}, {\"data\": {\"graticule\": true}, \"mark\": {\"type\": \"geoshape\", \"stroke\": \"#ffffff\", \"strokeWidth\": 1}}, {\"data\": {\"url\": \"https://cdn.jsdelivr.net/npm/vega-datasets@v1.29.0/data/world-110m.json\", \"format\": {\"feature\": \"countries\", \"type\": \"topojson\"}}, \"mark\": {\"type\": \"geoshape\", \"fill\": \"#2a1d0c\", \"stroke\": \"#706545\", \"strokeWidth\": 0.5}}], \"height\": 180, \"projection\": {\"type\": \"orthographic\"}, \"title\": \"Ortogr\\u00e1fico\", \"width\": 180}, {\"layer\": [{\"data\": {\"sphere\": true}, \"mark\": {\"type\": \"geoshape\", \"fill\": \"#e6f3ff\"}}, {\"data\": {\"graticule\": true}, \"mark\": {\"type\": \"geoshape\", \"stroke\": \"#ffffff\", \"strokeWidth\": 1}}, {\"data\": {\"url\": \"https://cdn.jsdelivr.net/npm/vega-datasets@v1.29.0/data/world-110m.json\", \"format\": {\"feature\": \"countries\", \"type\": \"topojson\"}}, \"mark\": {\"type\": \"geoshape\", \"fill\": \"#2a1d0c\", \"stroke\": \"#706545\", \"strokeWidth\": 0.5}}], \"height\": 180, \"projection\": {\"type\": \"stereographic\"}, \"title\": \"Estereogr\\u00e1fico\", \"width\": 180}, {\"layer\": [{\"data\": {\"sphere\": true}, \"mark\": {\"type\": \"geoshape\", \"fill\": \"#e6f3ff\"}}, {\"data\": {\"graticule\": true}, \"mark\": {\"type\": \"geoshape\", \"stroke\": \"#ffffff\", \"strokeWidth\": 1}}, {\"data\": {\"url\": \"https://cdn.jsdelivr.net/npm/vega-datasets@v1.29.0/data/world-110m.json\", \"format\": {\"feature\": \"countries\", \"type\": \"topojson\"}}, \"mark\": {\"type\": \"geoshape\", \"fill\": \"#2a1d0c\", \"stroke\": \"#706545\", \"strokeWidth\": 0.5}}], \"height\": 180, \"projection\": {\"type\": \"gnomonic\"}, \"title\": \"Gnom\\u00f4nico\", \"width\": 180}], \"spacing\": 10, \"$schema\": \"https://vega.github.io/schema/vega-lite/v5.20.1.json\"}, {\"mode\": \"vega-lite\"});\n",
              "</script>"
            ],
            "text/plain": [
              "alt.HConcatChart(...)"
            ]
          },
          "metadata": {},
          "execution_count": 48
        }
      ]
    },
    {
      "cell_type": "markdown",
      "source": [
        "\n",
        "\n",
        "*   [Área Azimutal Igual](https://pt.wikipedia.org/wiki/Proje%C3%A7%C3%A3o_azimutal_de_Lambert) (``azimuthalEqualArea``): Projeta com precisão a área em todas as partes do globo, mas não preserva a forma (ângulos locais).\n",
        "\n",
        "*   [Azimutal Equidistante](https://pt.wikipedia.org/wiki/Proje%C3%A7%C3%A3o_azimutal_equidistante) (``azimuthalEquidistant``): Preserva a distância proporcional do centro de projeção para todos os outros pontos do globo.\n",
        "\n",
        "* [Ortográfico](https://pt.wikipedia.org/wiki/Proje%C3%A7%C3%A3o_ortogr%C3%A1fica) (``orthographic``): Projeta um hemisfério visível em um plano distante. Corresponde aproximadamente a uma visão da Terra do espaço sideral.\n",
        "\n",
        "* [Estereográfico](https://pt.wikipedia.org/wiki/Proje%C3%A7%C3%A3o_estereogr%C3%A1fica) (``stereographic``): Preserva a forma, mas não a área ou a distância.\n",
        "\n",
        "* [Gnomônico](https://pt.wikipedia.org/wiki/Proje%C3%A7%C3%A3o_gnom%C3%B4nica) (``gnomonic``): Projeta a superfície da esfera diretamente em um plano tangente. [Grandes círculos](https://pt.wikipedia.org/wiki/C%C3%ADrculo_m%C3%A1ximo) ao redor da Terra são projetados em linhas retas, mostrando o caminho mais curto entre os pontos.\n",
        "\n"
      ],
      "metadata": {
        "id": "MU6eVq9Bd-n6"
      }
    },
    {
      "cell_type": "markdown",
      "source": [
        "## <font color=\"#747a7f\">7.7</font> Coda: Dados Geográficos de Disputa"
      ],
      "metadata": {
        "id": "W_LmcJAyTD9h"
      }
    },
    {
      "cell_type": "markdown",
      "source": [
        "Todos os exemplos acima são extraídos da coleção vega-datasets, incluindo dados geométricos (TopoJSON) e tabulares (aeroportos, taxas de desemprego). Um desafio comum para começar com a visualização geográfica é coletar os dados necessários para sua tarefa. Vários provedores de dados são abundantes, incluindo serviços como o [United States Geological Survey](https://www.usgs.gov/products/data-and-tools/data-and-tools-topics) e o [U.S. Census Bureau](https://www.census.gov/geo/maps-data/data/tiger-cart-boundary.html)."
      ],
      "metadata": {
        "id": "7jIwL5_aTP7I"
      }
    },
    {
      "cell_type": "markdown",
      "source": [
        "Em muitos casos, você pode ter dados existentes com um componente geográfico, mas requer medidas ou geometria adicionais. Para ajudar você a começar, aqui está um fluxo de trabalho:"
      ],
      "metadata": {
        "id": "xXH6XJD9Tu8g"
      }
    },
    {
      "cell_type": "markdown",
      "source": [
        "1.   Visite o [Natural Earth Data](https://www.naturalearthdata.com/downloads/) e navegue para selecionar dados para regiões e resoluções de interesse. Baixe o(s) arquivo(s) zip correspondente(s).\n",
        "2.   Vá para o [MapShaper](https://mapshaper.org/) e solte o arquivo zip baixado na página. Revise os dados conforme desejado e, em seguida, \"Exportar\" os arquivos TopoJSON ou GeoJSON gerados.\n",
        "3.   Carregue os dados exportados do MapShaper para uso com o Altair!\n",
        "\n",
        "\n",
        "\n"
      ],
      "metadata": {
        "id": "vy-PHIReT7bg"
      }
    },
    {
      "cell_type": "markdown",
      "source": [
        "Claro, muitas outras ferramentas - tanto de código aberto quanto proprietárias - existem para trabalhar com dados geográficos. Para mais sobre geo-data wrangling e criação de mapas, veja a série de tutoriais de Mike Bostock sobre [Command-Line Cartography](https://medium.com/@mbostock/command-line-cartography-part-1-897aa8f8ca2c)."
      ],
      "metadata": {
        "id": "XXtRUdHhU4aL"
      }
    },
    {
      "cell_type": "markdown",
      "source": [
        "## <font color=\"#747a7f\">7.8</font> Sumário"
      ],
      "metadata": {
        "id": "GiJYnVFCVwyl"
      }
    },
    {
      "cell_type": "markdown",
      "source": [
        "Neste ponto, nós apenas mergulhamos os dedos dos pés nas águas da cartografia. (*Você não esperava que um único caderno transmitisse séculos de aprendizado, esperava?*) Por exemplo, deixamos intocados tópicos como [cartogramas](https://pt.wikipedia.org/wiki/Cartograma) e [topografia](https://pt.wikipedia.org/wiki/Topografia) de transmissão - como no livro esclarecedor de Imhof, [Cartographic Relief Presentation](https://books.google.com.br/books?id=cVy1Ms43fFYC&redir_esc=y). No entanto, agora você deve estar bem equipado para criar uma rica variedade de geovisualizações. Para mais, o livro de MacEachren [How Maps Work: Representation, Visualization, and Design](https://books.google.com.br/books?id=xhAvN3B0CkUC&redir_esc=y) fornece uma visão geral valiosa da cartografia da perspectiva da visualização de dados."
      ],
      "metadata": {
        "id": "Xe3PE-3MV6vp"
      }
    }
  ]
}